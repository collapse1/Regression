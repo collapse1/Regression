{
  "nbformat": 4,
  "nbformat_minor": 0,
  "metadata": {
    "colab": {
      "provenance": [],
      "gpuType": "T4"
    },
    "kernelspec": {
      "name": "python3",
      "display_name": "Python 3"
    },
    "language_info": {
      "name": "python"
    },
    "accelerator": "GPU"
  },
  "cells": [
    {
      "cell_type": "code",
      "source": [
        "!pip install keras_tuner"
      ],
      "metadata": {
        "colab": {
          "base_uri": "https://localhost:8080/"
        },
        "id": "DQhjg8GpxZjn",
        "outputId": "665c83b3-f51f-4734-d860-26fe9999ebe5"
      },
      "execution_count": 1,
      "outputs": [
        {
          "output_type": "stream",
          "name": "stdout",
          "text": [
            "Requirement already satisfied: keras_tuner in /usr/local/lib/python3.11/dist-packages (1.4.7)\n",
            "Requirement already satisfied: keras in /usr/local/lib/python3.11/dist-packages (from keras_tuner) (3.8.0)\n",
            "Requirement already satisfied: packaging in /usr/local/lib/python3.11/dist-packages (from keras_tuner) (25.0)\n",
            "Requirement already satisfied: requests in /usr/local/lib/python3.11/dist-packages (from keras_tuner) (2.32.3)\n",
            "Requirement already satisfied: kt-legacy in /usr/local/lib/python3.11/dist-packages (from keras_tuner) (1.0.5)\n",
            "Requirement already satisfied: absl-py in /usr/local/lib/python3.11/dist-packages (from keras->keras_tuner) (1.4.0)\n",
            "Requirement already satisfied: numpy in /usr/local/lib/python3.11/dist-packages (from keras->keras_tuner) (2.0.2)\n",
            "Requirement already satisfied: rich in /usr/local/lib/python3.11/dist-packages (from keras->keras_tuner) (13.9.4)\n",
            "Requirement already satisfied: namex in /usr/local/lib/python3.11/dist-packages (from keras->keras_tuner) (0.1.0)\n",
            "Requirement already satisfied: h5py in /usr/local/lib/python3.11/dist-packages (from keras->keras_tuner) (3.14.0)\n",
            "Requirement already satisfied: optree in /usr/local/lib/python3.11/dist-packages (from keras->keras_tuner) (0.17.0)\n",
            "Requirement already satisfied: ml-dtypes in /usr/local/lib/python3.11/dist-packages (from keras->keras_tuner) (0.4.1)\n",
            "Requirement already satisfied: charset-normalizer<4,>=2 in /usr/local/lib/python3.11/dist-packages (from requests->keras_tuner) (3.4.2)\n",
            "Requirement already satisfied: idna<4,>=2.5 in /usr/local/lib/python3.11/dist-packages (from requests->keras_tuner) (3.10)\n",
            "Requirement already satisfied: urllib3<3,>=1.21.1 in /usr/local/lib/python3.11/dist-packages (from requests->keras_tuner) (2.5.0)\n",
            "Requirement already satisfied: certifi>=2017.4.17 in /usr/local/lib/python3.11/dist-packages (from requests->keras_tuner) (2025.7.14)\n",
            "Requirement already satisfied: typing-extensions>=4.6.0 in /usr/local/lib/python3.11/dist-packages (from optree->keras->keras_tuner) (4.14.1)\n",
            "Requirement already satisfied: markdown-it-py>=2.2.0 in /usr/local/lib/python3.11/dist-packages (from rich->keras->keras_tuner) (3.0.0)\n",
            "Requirement already satisfied: pygments<3.0.0,>=2.13.0 in /usr/local/lib/python3.11/dist-packages (from rich->keras->keras_tuner) (2.19.2)\n",
            "Requirement already satisfied: mdurl~=0.1 in /usr/local/lib/python3.11/dist-packages (from markdown-it-py>=2.2.0->rich->keras->keras_tuner) (0.1.2)\n"
          ]
        }
      ]
    },
    {
      "cell_type": "code",
      "source": [
        "!pip install --upgrade scikeras"
      ],
      "metadata": {
        "colab": {
          "base_uri": "https://localhost:8080/"
        },
        "id": "nWaqx4LkHFxg",
        "outputId": "0c4893cc-f041-4743-8e0f-588f714738ed"
      },
      "execution_count": 2,
      "outputs": [
        {
          "output_type": "stream",
          "name": "stdout",
          "text": [
            "Requirement already satisfied: scikeras in /usr/local/lib/python3.11/dist-packages (0.13.0)\n",
            "Requirement already satisfied: keras>=3.2.0 in /usr/local/lib/python3.11/dist-packages (from scikeras) (3.8.0)\n",
            "Requirement already satisfied: scikit-learn>=1.4.2 in /usr/local/lib/python3.11/dist-packages (from scikeras) (1.5.2)\n",
            "Requirement already satisfied: absl-py in /usr/local/lib/python3.11/dist-packages (from keras>=3.2.0->scikeras) (1.4.0)\n",
            "Requirement already satisfied: numpy in /usr/local/lib/python3.11/dist-packages (from keras>=3.2.0->scikeras) (2.0.2)\n",
            "Requirement already satisfied: rich in /usr/local/lib/python3.11/dist-packages (from keras>=3.2.0->scikeras) (13.9.4)\n",
            "Requirement already satisfied: namex in /usr/local/lib/python3.11/dist-packages (from keras>=3.2.0->scikeras) (0.1.0)\n",
            "Requirement already satisfied: h5py in /usr/local/lib/python3.11/dist-packages (from keras>=3.2.0->scikeras) (3.14.0)\n",
            "Requirement already satisfied: optree in /usr/local/lib/python3.11/dist-packages (from keras>=3.2.0->scikeras) (0.17.0)\n",
            "Requirement already satisfied: ml-dtypes in /usr/local/lib/python3.11/dist-packages (from keras>=3.2.0->scikeras) (0.4.1)\n",
            "Requirement already satisfied: packaging in /usr/local/lib/python3.11/dist-packages (from keras>=3.2.0->scikeras) (25.0)\n",
            "Requirement already satisfied: scipy>=1.6.0 in /usr/local/lib/python3.11/dist-packages (from scikit-learn>=1.4.2->scikeras) (1.16.0)\n",
            "Requirement already satisfied: joblib>=1.2.0 in /usr/local/lib/python3.11/dist-packages (from scikit-learn>=1.4.2->scikeras) (1.5.1)\n",
            "Requirement already satisfied: threadpoolctl>=3.1.0 in /usr/local/lib/python3.11/dist-packages (from scikit-learn>=1.4.2->scikeras) (3.6.0)\n",
            "Requirement already satisfied: typing-extensions>=4.6.0 in /usr/local/lib/python3.11/dist-packages (from optree->keras>=3.2.0->scikeras) (4.14.1)\n",
            "Requirement already satisfied: markdown-it-py>=2.2.0 in /usr/local/lib/python3.11/dist-packages (from rich->keras>=3.2.0->scikeras) (3.0.0)\n",
            "Requirement already satisfied: pygments<3.0.0,>=2.13.0 in /usr/local/lib/python3.11/dist-packages (from rich->keras>=3.2.0->scikeras) (2.19.2)\n",
            "Requirement already satisfied: mdurl~=0.1 in /usr/local/lib/python3.11/dist-packages (from markdown-it-py>=2.2.0->rich->keras>=3.2.0->scikeras) (0.1.2)\n"
          ]
        }
      ]
    },
    {
      "cell_type": "code",
      "source": [
        "!pip install sklearn-genetic-opt"
      ],
      "metadata": {
        "colab": {
          "base_uri": "https://localhost:8080/"
        },
        "id": "4DsV0vnG7zUb",
        "outputId": "970654fc-0e37-43f1-8f85-833ce270660b"
      },
      "execution_count": 6,
      "outputs": [
        {
          "output_type": "stream",
          "name": "stdout",
          "text": [
            "Collecting sklearn-genetic-opt\n",
            "  Downloading sklearn_genetic_opt-0.12.0-py3-none-any.whl.metadata (12 kB)\n",
            "Requirement already satisfied: scikit-learn>=1.5.0 in /usr/local/lib/python3.11/dist-packages (from sklearn-genetic-opt) (1.5.2)\n",
            "Requirement already satisfied: numpy>=1.26.1 in /usr/local/lib/python3.11/dist-packages (from sklearn-genetic-opt) (2.0.2)\n",
            "Requirement already satisfied: deap>=1.3.3 in /usr/local/lib/python3.11/dist-packages (from sklearn-genetic-opt) (1.4.3)\n",
            "Requirement already satisfied: tqdm>=4.61.1 in /usr/local/lib/python3.11/dist-packages (from sklearn-genetic-opt) (4.67.1)\n",
            "Requirement already satisfied: scipy>=1.6.0 in /usr/local/lib/python3.11/dist-packages (from scikit-learn>=1.5.0->sklearn-genetic-opt) (1.16.0)\n",
            "Requirement already satisfied: joblib>=1.2.0 in /usr/local/lib/python3.11/dist-packages (from scikit-learn>=1.5.0->sklearn-genetic-opt) (1.5.1)\n",
            "Requirement already satisfied: threadpoolctl>=3.1.0 in /usr/local/lib/python3.11/dist-packages (from scikit-learn>=1.5.0->sklearn-genetic-opt) (3.6.0)\n",
            "Downloading sklearn_genetic_opt-0.12.0-py3-none-any.whl (37 kB)\n",
            "Installing collected packages: sklearn-genetic-opt\n",
            "Successfully installed sklearn-genetic-opt-0.12.0\n"
          ]
        }
      ]
    },
    {
      "cell_type": "code",
      "source": [
        "!pip install scikit-learn==1.5.2"
      ],
      "metadata": {
        "colab": {
          "base_uri": "https://localhost:8080/"
        },
        "id": "CaR_jreii0_N",
        "outputId": "f772390d-64e4-412a-9e3c-49a56db1065b"
      },
      "execution_count": 4,
      "outputs": [
        {
          "output_type": "stream",
          "name": "stdout",
          "text": [
            "Requirement already satisfied: scikit-learn==1.5.2 in /usr/local/lib/python3.11/dist-packages (1.5.2)\n",
            "Requirement already satisfied: numpy>=1.19.5 in /usr/local/lib/python3.11/dist-packages (from scikit-learn==1.5.2) (2.0.2)\n",
            "Requirement already satisfied: scipy>=1.6.0 in /usr/local/lib/python3.11/dist-packages (from scikit-learn==1.5.2) (1.16.0)\n",
            "Requirement already satisfied: joblib>=1.2.0 in /usr/local/lib/python3.11/dist-packages (from scikit-learn==1.5.2) (1.5.1)\n",
            "Requirement already satisfied: threadpoolctl>=3.1.0 in /usr/local/lib/python3.11/dist-packages (from scikit-learn==1.5.2) (3.6.0)\n"
          ]
        }
      ]
    },
    {
      "cell_type": "code",
      "execution_count": 7,
      "metadata": {
        "id": "LCes1ZZam7MY"
      },
      "outputs": [],
      "source": [
        "import tensorflow as tf\n",
        "from tensorflow import keras\n",
        "from keras.layers import Dense, Dropout, Flatten\n",
        "import numpy as np\n",
        "from sklearn.model_selection import train_test_split\n",
        "from keras.utils import to_categorical\n",
        "import keras_tuner as kt\n",
        "import time\n",
        "from sklearn.metrics import accuracy_score, f1_score, roc_auc_score\n",
        "from tabulate import tabulate\n",
        "import matplotlib.pyplot as plt\n",
        "from sklearn_genetic.space import Categorical, Continuous, Integer\n",
        "from scikeras.wrappers import KerasClassifier, KerasRegressor\n",
        "from sklearn_genetic import GASearchCV\n",
        "from sklearn.metrics import accuracy_score"
      ]
    },
    {
      "cell_type": "code",
      "source": [
        "(x_train_org, y_train_org),(x_test_org, y_test_org) = keras.datasets.cifar10.load_data()"
      ],
      "metadata": {
        "id": "NBTbOsIInJzd",
        "colab": {
          "base_uri": "https://localhost:8080/"
        },
        "outputId": "671f854c-5f32-453c-ff39-3cee293b027c"
      },
      "execution_count": 8,
      "outputs": [
        {
          "output_type": "stream",
          "name": "stdout",
          "text": [
            "Downloading data from https://www.cs.toronto.edu/~kriz/cifar-10-python.tar.gz\n",
            "\u001b[1m170498071/170498071\u001b[0m \u001b[32m━━━━━━━━━━━━━━━━━━━━\u001b[0m\u001b[37m\u001b[0m \u001b[1m4s\u001b[0m 0us/step\n"
          ]
        }
      ]
    },
    {
      "cell_type": "code",
      "source": [
        "x_all = np.concatenate((x_train_org, x_test_org))\n",
        "y_all = np.concatenate((y_train_org, y_test_org))"
      ],
      "metadata": {
        "id": "DSwjARnlnZfD"
      },
      "execution_count": 9,
      "outputs": []
    },
    {
      "cell_type": "code",
      "source": [
        "x_temp, x_test , y_temp, y_test = train_test_split(x_all, y_all, test_size=0.15, random_state=42)"
      ],
      "metadata": {
        "id": "CqX8FYf3n17M"
      },
      "execution_count": 10,
      "outputs": []
    },
    {
      "cell_type": "code",
      "source": [
        "x_train, x_val , y_train, y_val = train_test_split(x_temp, y_temp, test_size=0.2, random_state=42)"
      ],
      "metadata": {
        "id": "beqwDP1WpMO5"
      },
      "execution_count": 11,
      "outputs": []
    },
    {
      "cell_type": "code",
      "source": [
        "x_train_org.shape"
      ],
      "metadata": {
        "colab": {
          "base_uri": "https://localhost:8080/"
        },
        "id": "HoCbN824sS-a",
        "outputId": "a49a34cf-c633-46f1-9766-8f10deac9f9e"
      },
      "execution_count": 12,
      "outputs": [
        {
          "output_type": "execute_result",
          "data": {
            "text/plain": [
              "(50000, 32, 32, 3)"
            ]
          },
          "metadata": {},
          "execution_count": 12
        }
      ]
    },
    {
      "cell_type": "code",
      "source": [
        "y_train_org.shape"
      ],
      "metadata": {
        "colab": {
          "base_uri": "https://localhost:8080/"
        },
        "id": "7WPBzUW2sWD3",
        "outputId": "f8882bea-5fea-48b7-f9dd-96b79208885e"
      },
      "execution_count": 13,
      "outputs": [
        {
          "output_type": "execute_result",
          "data": {
            "text/plain": [
              "(50000, 1)"
            ]
          },
          "metadata": {},
          "execution_count": 13
        }
      ]
    },
    {
      "cell_type": "markdown",
      "source": [
        "### loss baraaye laye akhar az 'sparse_categorical_crossentropy' estefade mikonim"
      ],
      "metadata": {
        "id": "rDWuknG6po7s"
      }
    },
    {
      "cell_type": "markdown",
      "source": [
        "### normalize"
      ],
      "metadata": {
        "id": "EDLlE2THqPB6"
      }
    },
    {
      "cell_type": "code",
      "source": [
        "x_train = x_train.astype('float32') / 255\n",
        "x_val = x_val.astype('float32') / 255\n",
        "x_test = x_test.astype('float32') / 255"
      ],
      "metadata": {
        "id": "ZHF-tugKpZV5"
      },
      "execution_count": 14,
      "outputs": []
    },
    {
      "cell_type": "markdown",
      "source": [
        "### baraye taghir dadane loss be 'categorical_crossentropy' bayad on-hot endoing estefade konim baraye in kar , har barchasb o be yek bordar be tool 10(teedade class) tabdil mikonim"
      ],
      "metadata": {
        "id": "X5JC1vrvqk1S"
      }
    },
    {
      "cell_type": "code",
      "source": [
        "num_classes = 10\n",
        "y_train_oh = to_categorical(y_train, num_classes)\n",
        "y_val_oh = to_categorical(y_val, num_classes)\n",
        "y_test_oh = to_categorical(y_test, num_classes)"
      ],
      "metadata": {
        "id": "3hmdUKdprlPR"
      },
      "execution_count": 15,
      "outputs": []
    },
    {
      "cell_type": "markdown",
      "source": [
        "### Creat model"
      ],
      "metadata": {
        "id": "0bDlDMaauRnQ"
      }
    },
    {
      "cell_type": "code",
      "source": [
        "model = keras.models.Sequential([\n",
        "    keras.layers.Flatten(input_shape=[32,32,3]),\n",
        "    keras.layers.Dense(512, activation='relu'),\n",
        "    keras.layers.Dense(256, activation='relu'),\n",
        "    keras.layers.Dense(128, activation='selu'),\n",
        "    keras.layers.Dense(64, activation='selu'),\n",
        "    keras.layers.Dense(10, activation='softmax')\n",
        "])"
      ],
      "metadata": {
        "id": "YTlOExbRt8QH",
        "colab": {
          "base_uri": "https://localhost:8080/"
        },
        "outputId": "745fbd86-2d9a-4b18-e6f7-65069edc2980"
      },
      "execution_count": 16,
      "outputs": [
        {
          "output_type": "stream",
          "name": "stderr",
          "text": [
            "/usr/local/lib/python3.11/dist-packages/keras/src/layers/reshaping/flatten.py:37: UserWarning: Do not pass an `input_shape`/`input_dim` argument to a layer. When using Sequential models, prefer using an `Input(shape)` object as the first layer in the model instead.\n",
            "  super().__init__(**kwargs)\n"
          ]
        }
      ]
    },
    {
      "cell_type": "code",
      "source": [
        "model.compile(optimizer='sgd', loss= 'categorical_crossentropy', metrics=['accuracy'])"
      ],
      "metadata": {
        "id": "3tbM6rEpvl_X"
      },
      "execution_count": 17,
      "outputs": []
    },
    {
      "cell_type": "code",
      "source": [
        "history = model.fit(x_train, y_train_oh, epochs=50, validation_data=(x_val, y_val_oh), verbose=1)"
      ],
      "metadata": {
        "colab": {
          "base_uri": "https://localhost:8080/"
        },
        "id": "-Cxzo7MEBlYB",
        "outputId": "3a330485-804c-43da-8010-466b96aff469"
      },
      "execution_count": 18,
      "outputs": [
        {
          "output_type": "stream",
          "name": "stdout",
          "text": [
            "Epoch 1/50\n",
            "\u001b[1m1275/1275\u001b[0m \u001b[32m━━━━━━━━━━━━━━━━━━━━\u001b[0m\u001b[37m\u001b[0m \u001b[1m8s\u001b[0m 5ms/step - accuracy: 0.2794 - loss: 1.9891 - val_accuracy: 0.4014 - val_loss: 1.6741\n",
            "Epoch 2/50\n",
            "\u001b[1m1275/1275\u001b[0m \u001b[32m━━━━━━━━━━━━━━━━━━━━\u001b[0m\u001b[37m\u001b[0m \u001b[1m7s\u001b[0m 3ms/step - accuracy: 0.3977 - loss: 1.6828 - val_accuracy: 0.4271 - val_loss: 1.5974\n",
            "Epoch 3/50\n",
            "\u001b[1m1275/1275\u001b[0m \u001b[32m━━━━━━━━━━━━━━━━━━━━\u001b[0m\u001b[37m\u001b[0m \u001b[1m4s\u001b[0m 3ms/step - accuracy: 0.4284 - loss: 1.5877 - val_accuracy: 0.4604 - val_loss: 1.5191\n",
            "Epoch 4/50\n",
            "\u001b[1m1275/1275\u001b[0m \u001b[32m━━━━━━━━━━━━━━━━━━━━\u001b[0m\u001b[37m\u001b[0m \u001b[1m4s\u001b[0m 3ms/step - accuracy: 0.4616 - loss: 1.5191 - val_accuracy: 0.4700 - val_loss: 1.4995\n",
            "Epoch 5/50\n",
            "\u001b[1m1275/1275\u001b[0m \u001b[32m━━━━━━━━━━━━━━━━━━━━\u001b[0m\u001b[37m\u001b[0m \u001b[1m4s\u001b[0m 3ms/step - accuracy: 0.4735 - loss: 1.4706 - val_accuracy: 0.4743 - val_loss: 1.4729\n",
            "Epoch 6/50\n",
            "\u001b[1m1275/1275\u001b[0m \u001b[32m━━━━━━━━━━━━━━━━━━━━\u001b[0m\u001b[37m\u001b[0m \u001b[1m4s\u001b[0m 3ms/step - accuracy: 0.4900 - loss: 1.4283 - val_accuracy: 0.4886 - val_loss: 1.4341\n",
            "Epoch 7/50\n",
            "\u001b[1m1275/1275\u001b[0m \u001b[32m━━━━━━━━━━━━━━━━━━━━\u001b[0m\u001b[37m\u001b[0m \u001b[1m5s\u001b[0m 4ms/step - accuracy: 0.5037 - loss: 1.3875 - val_accuracy: 0.4830 - val_loss: 1.4401\n",
            "Epoch 8/50\n",
            "\u001b[1m1275/1275\u001b[0m \u001b[32m━━━━━━━━━━━━━━━━━━━━\u001b[0m\u001b[37m\u001b[0m \u001b[1m4s\u001b[0m 3ms/step - accuracy: 0.5148 - loss: 1.3534 - val_accuracy: 0.4954 - val_loss: 1.4158\n",
            "Epoch 9/50\n",
            "\u001b[1m1275/1275\u001b[0m \u001b[32m━━━━━━━━━━━━━━━━━━━━\u001b[0m\u001b[37m\u001b[0m \u001b[1m6s\u001b[0m 3ms/step - accuracy: 0.5263 - loss: 1.3273 - val_accuracy: 0.4793 - val_loss: 1.4809\n",
            "Epoch 10/50\n",
            "\u001b[1m1275/1275\u001b[0m \u001b[32m━━━━━━━━━━━━━━━━━━━━\u001b[0m\u001b[37m\u001b[0m \u001b[1m5s\u001b[0m 3ms/step - accuracy: 0.5388 - loss: 1.2956 - val_accuracy: 0.5123 - val_loss: 1.3812\n",
            "Epoch 11/50\n",
            "\u001b[1m1275/1275\u001b[0m \u001b[32m━━━━━━━━━━━━━━━━━━━━\u001b[0m\u001b[37m\u001b[0m \u001b[1m5s\u001b[0m 3ms/step - accuracy: 0.5487 - loss: 1.2618 - val_accuracy: 0.5095 - val_loss: 1.3852\n",
            "Epoch 12/50\n",
            "\u001b[1m1275/1275\u001b[0m \u001b[32m━━━━━━━━━━━━━━━━━━━━\u001b[0m\u001b[37m\u001b[0m \u001b[1m4s\u001b[0m 3ms/step - accuracy: 0.5661 - loss: 1.2260 - val_accuracy: 0.5030 - val_loss: 1.4315\n",
            "Epoch 13/50\n",
            "\u001b[1m1275/1275\u001b[0m \u001b[32m━━━━━━━━━━━━━━━━━━━━\u001b[0m\u001b[37m\u001b[0m \u001b[1m4s\u001b[0m 3ms/step - accuracy: 0.5641 - loss: 1.2131 - val_accuracy: 0.5172 - val_loss: 1.3860\n",
            "Epoch 14/50\n",
            "\u001b[1m1275/1275\u001b[0m \u001b[32m━━━━━━━━━━━━━━━━━━━━\u001b[0m\u001b[37m\u001b[0m \u001b[1m4s\u001b[0m 3ms/step - accuracy: 0.5772 - loss: 1.1790 - val_accuracy: 0.5284 - val_loss: 1.3386\n",
            "Epoch 15/50\n",
            "\u001b[1m1275/1275\u001b[0m \u001b[32m━━━━━━━━━━━━━━━━━━━━\u001b[0m\u001b[37m\u001b[0m \u001b[1m5s\u001b[0m 3ms/step - accuracy: 0.5873 - loss: 1.1618 - val_accuracy: 0.5171 - val_loss: 1.3613\n",
            "Epoch 16/50\n",
            "\u001b[1m1275/1275\u001b[0m \u001b[32m━━━━━━━━━━━━━━━━━━━━\u001b[0m\u001b[37m\u001b[0m \u001b[1m5s\u001b[0m 3ms/step - accuracy: 0.5976 - loss: 1.1301 - val_accuracy: 0.5225 - val_loss: 1.3578\n",
            "Epoch 17/50\n",
            "\u001b[1m1275/1275\u001b[0m \u001b[32m━━━━━━━━━━━━━━━━━━━━\u001b[0m\u001b[37m\u001b[0m \u001b[1m5s\u001b[0m 3ms/step - accuracy: 0.6070 - loss: 1.1129 - val_accuracy: 0.5226 - val_loss: 1.3817\n",
            "Epoch 18/50\n",
            "\u001b[1m1275/1275\u001b[0m \u001b[32m━━━━━━━━━━━━━━━━━━━━\u001b[0m\u001b[37m\u001b[0m \u001b[1m5s\u001b[0m 3ms/step - accuracy: 0.6174 - loss: 1.0778 - val_accuracy: 0.5053 - val_loss: 1.4331\n",
            "Epoch 19/50\n",
            "\u001b[1m1275/1275\u001b[0m \u001b[32m━━━━━━━━━━━━━━━━━━━━\u001b[0m\u001b[37m\u001b[0m \u001b[1m5s\u001b[0m 3ms/step - accuracy: 0.6214 - loss: 1.0670 - val_accuracy: 0.5142 - val_loss: 1.4175\n",
            "Epoch 20/50\n",
            "\u001b[1m1275/1275\u001b[0m \u001b[32m━━━━━━━━━━━━━━━━━━━━\u001b[0m\u001b[37m\u001b[0m \u001b[1m5s\u001b[0m 3ms/step - accuracy: 0.6296 - loss: 1.0351 - val_accuracy: 0.5268 - val_loss: 1.3850\n",
            "Epoch 21/50\n",
            "\u001b[1m1275/1275\u001b[0m \u001b[32m━━━━━━━━━━━━━━━━━━━━\u001b[0m\u001b[37m\u001b[0m \u001b[1m4s\u001b[0m 3ms/step - accuracy: 0.6370 - loss: 1.0214 - val_accuracy: 0.5112 - val_loss: 1.4455\n",
            "Epoch 22/50\n",
            "\u001b[1m1275/1275\u001b[0m \u001b[32m━━━━━━━━━━━━━━━━━━━━\u001b[0m\u001b[37m\u001b[0m \u001b[1m4s\u001b[0m 3ms/step - accuracy: 0.6448 - loss: 0.9975 - val_accuracy: 0.5339 - val_loss: 1.3775\n",
            "Epoch 23/50\n",
            "\u001b[1m1275/1275\u001b[0m \u001b[32m━━━━━━━━━━━━━━━━━━━━\u001b[0m\u001b[37m\u001b[0m \u001b[1m5s\u001b[0m 3ms/step - accuracy: 0.6521 - loss: 0.9702 - val_accuracy: 0.4920 - val_loss: 1.5027\n",
            "Epoch 24/50\n",
            "\u001b[1m1275/1275\u001b[0m \u001b[32m━━━━━━━━━━━━━━━━━━━━\u001b[0m\u001b[37m\u001b[0m \u001b[1m6s\u001b[0m 3ms/step - accuracy: 0.6623 - loss: 0.9522 - val_accuracy: 0.5195 - val_loss: 1.4497\n",
            "Epoch 25/50\n",
            "\u001b[1m1275/1275\u001b[0m \u001b[32m━━━━━━━━━━━━━━━━━━━━\u001b[0m\u001b[37m\u001b[0m \u001b[1m4s\u001b[0m 3ms/step - accuracy: 0.6710 - loss: 0.9282 - val_accuracy: 0.5281 - val_loss: 1.4091\n",
            "Epoch 26/50\n",
            "\u001b[1m1275/1275\u001b[0m \u001b[32m━━━━━━━━━━━━━━━━━━━━\u001b[0m\u001b[37m\u001b[0m \u001b[1m5s\u001b[0m 3ms/step - accuracy: 0.6813 - loss: 0.8963 - val_accuracy: 0.5230 - val_loss: 1.4608\n",
            "Epoch 27/50\n",
            "\u001b[1m1275/1275\u001b[0m \u001b[32m━━━━━━━━━━━━━━━━━━━━\u001b[0m\u001b[37m\u001b[0m \u001b[1m6s\u001b[0m 3ms/step - accuracy: 0.6840 - loss: 0.8889 - val_accuracy: 0.5272 - val_loss: 1.4343\n",
            "Epoch 28/50\n",
            "\u001b[1m1275/1275\u001b[0m \u001b[32m━━━━━━━━━━━━━━━━━━━━\u001b[0m\u001b[37m\u001b[0m \u001b[1m4s\u001b[0m 3ms/step - accuracy: 0.6938 - loss: 0.8636 - val_accuracy: 0.5268 - val_loss: 1.4292\n",
            "Epoch 29/50\n",
            "\u001b[1m1275/1275\u001b[0m \u001b[32m━━━━━━━━━━━━━━━━━━━━\u001b[0m\u001b[37m\u001b[0m \u001b[1m4s\u001b[0m 3ms/step - accuracy: 0.6961 - loss: 0.8482 - val_accuracy: 0.5202 - val_loss: 1.5044\n",
            "Epoch 30/50\n",
            "\u001b[1m1275/1275\u001b[0m \u001b[32m━━━━━━━━━━━━━━━━━━━━\u001b[0m\u001b[37m\u001b[0m \u001b[1m5s\u001b[0m 3ms/step - accuracy: 0.7079 - loss: 0.8175 - val_accuracy: 0.5352 - val_loss: 1.4628\n",
            "Epoch 31/50\n",
            "\u001b[1m1275/1275\u001b[0m \u001b[32m━━━━━━━━━━━━━━━━━━━━\u001b[0m\u001b[37m\u001b[0m \u001b[1m4s\u001b[0m 3ms/step - accuracy: 0.7165 - loss: 0.7966 - val_accuracy: 0.5282 - val_loss: 1.5206\n",
            "Epoch 32/50\n",
            "\u001b[1m1275/1275\u001b[0m \u001b[32m━━━━━━━━━━━━━━━━━━━━\u001b[0m\u001b[37m\u001b[0m \u001b[1m4s\u001b[0m 3ms/step - accuracy: 0.7194 - loss: 0.7822 - val_accuracy: 0.5214 - val_loss: 1.5231\n",
            "Epoch 33/50\n",
            "\u001b[1m1275/1275\u001b[0m \u001b[32m━━━━━━━━━━━━━━━━━━━━\u001b[0m\u001b[37m\u001b[0m \u001b[1m6s\u001b[0m 3ms/step - accuracy: 0.7254 - loss: 0.7697 - val_accuracy: 0.5246 - val_loss: 1.5723\n",
            "Epoch 34/50\n",
            "\u001b[1m1275/1275\u001b[0m \u001b[32m━━━━━━━━━━━━━━━━━━━━\u001b[0m\u001b[37m\u001b[0m \u001b[1m4s\u001b[0m 3ms/step - accuracy: 0.7396 - loss: 0.7365 - val_accuracy: 0.5128 - val_loss: 1.6054\n",
            "Epoch 35/50\n",
            "\u001b[1m1275/1275\u001b[0m \u001b[32m━━━━━━━━━━━━━━━━━━━━\u001b[0m\u001b[37m\u001b[0m \u001b[1m4s\u001b[0m 3ms/step - accuracy: 0.7448 - loss: 0.7150 - val_accuracy: 0.5186 - val_loss: 1.5960\n",
            "Epoch 36/50\n",
            "\u001b[1m1275/1275\u001b[0m \u001b[32m━━━━━━━━━━━━━━━━━━━━\u001b[0m\u001b[37m\u001b[0m \u001b[1m5s\u001b[0m 3ms/step - accuracy: 0.7513 - loss: 0.6927 - val_accuracy: 0.5267 - val_loss: 1.6281\n",
            "Epoch 37/50\n",
            "\u001b[1m1275/1275\u001b[0m \u001b[32m━━━━━━━━━━━━━━━━━━━━\u001b[0m\u001b[37m\u001b[0m \u001b[1m5s\u001b[0m 3ms/step - accuracy: 0.7595 - loss: 0.6782 - val_accuracy: 0.5212 - val_loss: 1.6406\n",
            "Epoch 38/50\n",
            "\u001b[1m1275/1275\u001b[0m \u001b[32m━━━━━━━━━━━━━━━━━━━━\u001b[0m\u001b[37m\u001b[0m \u001b[1m5s\u001b[0m 3ms/step - accuracy: 0.7658 - loss: 0.6554 - val_accuracy: 0.5220 - val_loss: 1.6696\n",
            "Epoch 39/50\n",
            "\u001b[1m1275/1275\u001b[0m \u001b[32m━━━━━━━━━━━━━━━━━━━━\u001b[0m\u001b[37m\u001b[0m \u001b[1m4s\u001b[0m 3ms/step - accuracy: 0.7704 - loss: 0.6420 - val_accuracy: 0.5279 - val_loss: 1.6935\n",
            "Epoch 40/50\n",
            "\u001b[1m1275/1275\u001b[0m \u001b[32m━━━━━━━━━━━━━━━━━━━━\u001b[0m\u001b[37m\u001b[0m \u001b[1m4s\u001b[0m 3ms/step - accuracy: 0.7818 - loss: 0.6203 - val_accuracy: 0.5368 - val_loss: 1.6514\n",
            "Epoch 41/50\n",
            "\u001b[1m1275/1275\u001b[0m \u001b[32m━━━━━━━━━━━━━━━━━━━━\u001b[0m\u001b[37m\u001b[0m \u001b[1m4s\u001b[0m 3ms/step - accuracy: 0.7875 - loss: 0.5997 - val_accuracy: 0.5229 - val_loss: 1.7371\n",
            "Epoch 42/50\n",
            "\u001b[1m1275/1275\u001b[0m \u001b[32m━━━━━━━━━━━━━━━━━━━━\u001b[0m\u001b[37m\u001b[0m \u001b[1m4s\u001b[0m 3ms/step - accuracy: 0.7912 - loss: 0.5824 - val_accuracy: 0.5195 - val_loss: 1.7446\n",
            "Epoch 43/50\n",
            "\u001b[1m1275/1275\u001b[0m \u001b[32m━━━━━━━━━━━━━━━━━━━━\u001b[0m\u001b[37m\u001b[0m \u001b[1m5s\u001b[0m 4ms/step - accuracy: 0.8003 - loss: 0.5607 - val_accuracy: 0.5220 - val_loss: 1.7789\n",
            "Epoch 44/50\n",
            "\u001b[1m1275/1275\u001b[0m \u001b[32m━━━━━━━━━━━━━━━━━━━━\u001b[0m\u001b[37m\u001b[0m \u001b[1m4s\u001b[0m 3ms/step - accuracy: 0.8077 - loss: 0.5406 - val_accuracy: 0.5268 - val_loss: 1.7499\n",
            "Epoch 45/50\n",
            "\u001b[1m1275/1275\u001b[0m \u001b[32m━━━━━━━━━━━━━━━━━━━━\u001b[0m\u001b[37m\u001b[0m \u001b[1m6s\u001b[0m 3ms/step - accuracy: 0.8111 - loss: 0.5327 - val_accuracy: 0.5163 - val_loss: 1.8366\n",
            "Epoch 46/50\n",
            "\u001b[1m1275/1275\u001b[0m \u001b[32m━━━━━━━━━━━━━━━━━━━━\u001b[0m\u001b[37m\u001b[0m \u001b[1m4s\u001b[0m 3ms/step - accuracy: 0.8191 - loss: 0.5101 - val_accuracy: 0.5185 - val_loss: 1.8292\n",
            "Epoch 47/50\n",
            "\u001b[1m1275/1275\u001b[0m \u001b[32m━━━━━━━━━━━━━━━━━━━━\u001b[0m\u001b[37m\u001b[0m \u001b[1m4s\u001b[0m 3ms/step - accuracy: 0.8186 - loss: 0.5053 - val_accuracy: 0.5345 - val_loss: 1.8077\n",
            "Epoch 48/50\n",
            "\u001b[1m1275/1275\u001b[0m \u001b[32m━━━━━━━━━━━━━━━━━━━━\u001b[0m\u001b[37m\u001b[0m \u001b[1m6s\u001b[0m 4ms/step - accuracy: 0.8322 - loss: 0.4750 - val_accuracy: 0.5298 - val_loss: 1.8178\n",
            "Epoch 49/50\n",
            "\u001b[1m1275/1275\u001b[0m \u001b[32m━━━━━━━━━━━━━━━━━━━━\u001b[0m\u001b[37m\u001b[0m \u001b[1m4s\u001b[0m 3ms/step - accuracy: 0.8284 - loss: 0.4755 - val_accuracy: 0.5277 - val_loss: 1.8912\n",
            "Epoch 50/50\n",
            "\u001b[1m1275/1275\u001b[0m \u001b[32m━━━━━━━━━━━━━━━━━━━━\u001b[0m\u001b[37m\u001b[0m \u001b[1m5s\u001b[0m 3ms/step - accuracy: 0.8401 - loss: 0.4476 - val_accuracy: 0.5292 - val_loss: 1.9390\n"
          ]
        }
      ]
    },
    {
      "cell_type": "markdown",
      "source": [
        "### behinesazi parameters"
      ],
      "metadata": {
        "id": "KfjBzbB7wncd"
      }
    },
    {
      "cell_type": "code",
      "source": [
        "def build_model(hp):\n",
        "  model = keras.Sequential()\n",
        "  model.add(Flatten(input_shape=[32,32,3]))\n",
        "\n",
        "  for i in range(4):\n",
        "    model.add(Dense(\n",
        "        units=hp.Int(f'units_{i}', min_value=128, max_value=1024, step=128),\n",
        "        activation=hp.Choice(f'act_{i}', ['relu', 'selu', 'elu'])\n",
        "    ))\n",
        "\n",
        "    model.add(Dropout(\n",
        "        rate=hp.Float(f'dropout_{i}', min_value=0.2, max_value=0.6, step=0.1)\n",
        "    ))\n",
        "\n",
        "  model.add(Dense(10, activation='softmax'))\n",
        "\n",
        "  lr = hp.Choice('learning_rate', [1e-2, 1e-3, 1e-4])\n",
        "\n",
        "  model.compile(\n",
        "      optimizer= keras.optimizers.Adam(learning_rate=lr),\n",
        "      loss = 'categorical_crossentropy',\n",
        "      metrics = ['accuracy']\n",
        "  )\n",
        "  return model\n",
        "\n",
        "\n",
        "tuner = kt.Hyperband(\n",
        "    build_model,\n",
        "    objective='val_accuracy',\n",
        "    max_epochs=20,\n",
        "    factor=3,\n",
        "    directory='dense_tuning',\n",
        "    project_name='cifar10_dense'\n",
        ")\n",
        "\n",
        "start_time = time.time()\n",
        "tuner.search(\n",
        "    x_train, y_train_oh,\n",
        "    epochs=20,\n",
        "    validation_split=0.2,\n",
        "    batch_size=128,\n",
        "    verbose=1\n",
        ")\n",
        "end_time = time.time()\n",
        "\n",
        "best_hps = tuner.get_best_hyperparameters(num_trials=1)[0]\n",
        "optimization_time = end_time - start_time\n",
        "print(\"\\nنتایج بهینه‌سازی:\")\n",
        "print(f\"مدت زمان بهینه‌سازی: {optimization_time//60:.0f} دقیقه و {optimization_time%60:.2f} ثانیه\")\n",
        "print(\"\\nبهترین هایپرپارامترها:\")\n",
        "\n",
        "for i in range(3):\n",
        "    print(f\"لایه {i+1}: {best_hps.get(f'units_{i}')} نورون - فعال‌سازی {best_hps.get(f'act_{i}')} - Dropout {best_hps.get(f'dropout_{i}')}\")\n",
        "\n",
        "print(f\"نرخ یادگیری: {best_hps.get('learning_rate')}\")\n",
        "\n",
        "model = tuner.hypermodel.build(best_hps)\n",
        "history = model.fit(\n",
        "    x_train, y_train_oh,\n",
        "    epochs=50,\n",
        "    batch_size=128,\n",
        "    validation_split=0.2,\n",
        "    callbacks=[keras.callbacks.EarlyStopping(patience=5, restore_best_weights=True)]\n",
        ")\n",
        "\n",
        "test_loss, test_acc = model.evaluate(x_test, y_test_oh)\n",
        "print(f'\\nدقت نهایی روی داده تست: {test_acc:.4f}')"
      ],
      "metadata": {
        "colab": {
          "base_uri": "https://localhost:8080/"
        },
        "id": "IgeJByjNBiGq",
        "outputId": "6200f627-2935-4077-eddb-7fa3c5ee1873"
      },
      "execution_count": 19,
      "outputs": [
        {
          "output_type": "stream",
          "name": "stdout",
          "text": [
            "Trial 30 Complete [00h 00m 42s]\n",
            "val_accuracy: 0.10882353037595749\n",
            "\n",
            "Best val_accuracy So Far: 0.4947303831577301\n",
            "Total elapsed time: 00h 10m 22s\n",
            "\n",
            "نتایج بهینه‌سازی:\n",
            "مدت زمان بهینه‌سازی: 10 دقیقه و 22.35 ثانیه\n",
            "\n",
            "بهترین هایپرپارامترها:\n",
            "لایه 1: 896 نورون - فعال‌سازی selu - Dropout 0.2\n",
            "لایه 2: 896 نورون - فعال‌سازی elu - Dropout 0.4\n",
            "لایه 3: 256 نورون - فعال‌سازی elu - Dropout 0.2\n",
            "نرخ یادگیری: 0.0001\n",
            "Epoch 1/50\n",
            "\u001b[1m255/255\u001b[0m \u001b[32m━━━━━━━━━━━━━━━━━━━━\u001b[0m\u001b[37m\u001b[0m \u001b[1m6s\u001b[0m 11ms/step - accuracy: 0.1988 - loss: 2.2043 - val_accuracy: 0.3490 - val_loss: 1.8530\n",
            "Epoch 2/50\n",
            "\u001b[1m255/255\u001b[0m \u001b[32m━━━━━━━━━━━━━━━━━━━━\u001b[0m\u001b[37m\u001b[0m \u001b[1m2s\u001b[0m 6ms/step - accuracy: 0.3079 - loss: 1.9180 - val_accuracy: 0.3841 - val_loss: 1.7412\n",
            "Epoch 3/50\n",
            "\u001b[1m255/255\u001b[0m \u001b[32m━━━━━━━━━━━━━━━━━━━━\u001b[0m\u001b[37m\u001b[0m \u001b[1m2s\u001b[0m 5ms/step - accuracy: 0.3388 - loss: 1.8411 - val_accuracy: 0.4011 - val_loss: 1.6808\n",
            "Epoch 4/50\n",
            "\u001b[1m255/255\u001b[0m \u001b[32m━━━━━━━━━━━━━━━━━━━━\u001b[0m\u001b[37m\u001b[0m \u001b[1m3s\u001b[0m 5ms/step - accuracy: 0.3607 - loss: 1.7877 - val_accuracy: 0.4102 - val_loss: 1.6614\n",
            "Epoch 5/50\n",
            "\u001b[1m255/255\u001b[0m \u001b[32m━━━━━━━━━━━━━━━━━━━━\u001b[0m\u001b[37m\u001b[0m \u001b[1m1s\u001b[0m 5ms/step - accuracy: 0.3710 - loss: 1.7359 - val_accuracy: 0.4287 - val_loss: 1.6094\n",
            "Epoch 6/50\n",
            "\u001b[1m255/255\u001b[0m \u001b[32m━━━━━━━━━━━━━━━━━━━━\u001b[0m\u001b[37m\u001b[0m \u001b[1m1s\u001b[0m 5ms/step - accuracy: 0.3940 - loss: 1.7005 - val_accuracy: 0.4281 - val_loss: 1.5955\n",
            "Epoch 7/50\n",
            "\u001b[1m255/255\u001b[0m \u001b[32m━━━━━━━━━━━━━━━━━━━━\u001b[0m\u001b[37m\u001b[0m \u001b[1m1s\u001b[0m 4ms/step - accuracy: 0.4029 - loss: 1.6724 - val_accuracy: 0.4490 - val_loss: 1.5475\n",
            "Epoch 8/50\n",
            "\u001b[1m255/255\u001b[0m \u001b[32m━━━━━━━━━━━━━━━━━━━━\u001b[0m\u001b[37m\u001b[0m \u001b[1m2s\u001b[0m 6ms/step - accuracy: 0.4087 - loss: 1.6380 - val_accuracy: 0.4558 - val_loss: 1.5376\n",
            "Epoch 9/50\n",
            "\u001b[1m255/255\u001b[0m \u001b[32m━━━━━━━━━━━━━━━━━━━━\u001b[0m\u001b[37m\u001b[0m \u001b[1m1s\u001b[0m 6ms/step - accuracy: 0.4286 - loss: 1.5992 - val_accuracy: 0.4423 - val_loss: 1.5519\n",
            "Epoch 10/50\n",
            "\u001b[1m255/255\u001b[0m \u001b[32m━━━━━━━━━━━━━━━━━━━━\u001b[0m\u001b[37m\u001b[0m \u001b[1m2s\u001b[0m 5ms/step - accuracy: 0.4307 - loss: 1.5865 - val_accuracy: 0.4661 - val_loss: 1.5105\n",
            "Epoch 11/50\n",
            "\u001b[1m255/255\u001b[0m \u001b[32m━━━━━━━━━━━━━━━━━━━━\u001b[0m\u001b[37m\u001b[0m \u001b[1m1s\u001b[0m 5ms/step - accuracy: 0.4404 - loss: 1.5660 - val_accuracy: 0.4686 - val_loss: 1.4975\n",
            "Epoch 12/50\n",
            "\u001b[1m255/255\u001b[0m \u001b[32m━━━━━━━━━━━━━━━━━━━━\u001b[0m\u001b[37m\u001b[0m \u001b[1m1s\u001b[0m 5ms/step - accuracy: 0.4490 - loss: 1.5477 - val_accuracy: 0.4746 - val_loss: 1.4775\n",
            "Epoch 13/50\n",
            "\u001b[1m255/255\u001b[0m \u001b[32m━━━━━━━━━━━━━━━━━━━━\u001b[0m\u001b[37m\u001b[0m \u001b[1m1s\u001b[0m 5ms/step - accuracy: 0.4481 - loss: 1.5396 - val_accuracy: 0.4657 - val_loss: 1.5020\n",
            "Epoch 14/50\n",
            "\u001b[1m255/255\u001b[0m \u001b[32m━━━━━━━━━━━━━━━━━━━━\u001b[0m\u001b[37m\u001b[0m \u001b[1m3s\u001b[0m 6ms/step - accuracy: 0.4507 - loss: 1.5280 - val_accuracy: 0.4641 - val_loss: 1.5067\n",
            "Epoch 15/50\n",
            "\u001b[1m255/255\u001b[0m \u001b[32m━━━━━━━━━━━━━━━━━━━━\u001b[0m\u001b[37m\u001b[0m \u001b[1m3s\u001b[0m 6ms/step - accuracy: 0.4603 - loss: 1.5086 - val_accuracy: 0.4787 - val_loss: 1.4690\n",
            "Epoch 16/50\n",
            "\u001b[1m255/255\u001b[0m \u001b[32m━━━━━━━━━━━━━━━━━━━━\u001b[0m\u001b[37m\u001b[0m \u001b[1m1s\u001b[0m 5ms/step - accuracy: 0.4642 - loss: 1.4959 - val_accuracy: 0.4830 - val_loss: 1.4659\n",
            "Epoch 17/50\n",
            "\u001b[1m255/255\u001b[0m \u001b[32m━━━━━━━━━━━━━━━━━━━━\u001b[0m\u001b[37m\u001b[0m \u001b[1m1s\u001b[0m 5ms/step - accuracy: 0.4692 - loss: 1.4798 - val_accuracy: 0.4741 - val_loss: 1.4600\n",
            "Epoch 18/50\n",
            "\u001b[1m255/255\u001b[0m \u001b[32m━━━━━━━━━━━━━━━━━━━━\u001b[0m\u001b[37m\u001b[0m \u001b[1m1s\u001b[0m 5ms/step - accuracy: 0.4710 - loss: 1.4696 - val_accuracy: 0.4800 - val_loss: 1.4682\n",
            "Epoch 19/50\n",
            "\u001b[1m255/255\u001b[0m \u001b[32m━━━━━━━━━━━━━━━━━━━━\u001b[0m\u001b[37m\u001b[0m \u001b[1m1s\u001b[0m 5ms/step - accuracy: 0.4722 - loss: 1.4649 - val_accuracy: 0.4787 - val_loss: 1.4393\n",
            "Epoch 20/50\n",
            "\u001b[1m255/255\u001b[0m \u001b[32m━━━━━━━━━━━━━━━━━━━━\u001b[0m\u001b[37m\u001b[0m \u001b[1m3s\u001b[0m 5ms/step - accuracy: 0.4793 - loss: 1.4445 - val_accuracy: 0.4984 - val_loss: 1.4163\n",
            "Epoch 21/50\n",
            "\u001b[1m255/255\u001b[0m \u001b[32m━━━━━━━━━━━━━━━━━━━━\u001b[0m\u001b[37m\u001b[0m \u001b[1m3s\u001b[0m 6ms/step - accuracy: 0.4875 - loss: 1.4344 - val_accuracy: 0.4898 - val_loss: 1.4232\n",
            "Epoch 22/50\n",
            "\u001b[1m255/255\u001b[0m \u001b[32m━━━━━━━━━━━━━━━━━━━━\u001b[0m\u001b[37m\u001b[0m \u001b[1m3s\u001b[0m 6ms/step - accuracy: 0.4877 - loss: 1.4189 - val_accuracy: 0.4966 - val_loss: 1.4170\n",
            "Epoch 23/50\n",
            "\u001b[1m255/255\u001b[0m \u001b[32m━━━━━━━━━━━━━━━━━━━━\u001b[0m\u001b[37m\u001b[0m \u001b[1m1s\u001b[0m 5ms/step - accuracy: 0.4902 - loss: 1.4288 - val_accuracy: 0.5059 - val_loss: 1.3962\n",
            "Epoch 24/50\n",
            "\u001b[1m255/255\u001b[0m \u001b[32m━━━━━━━━━━━━━━━━━━━━\u001b[0m\u001b[37m\u001b[0m \u001b[1m1s\u001b[0m 4ms/step - accuracy: 0.4974 - loss: 1.4016 - val_accuracy: 0.5022 - val_loss: 1.4059\n",
            "Epoch 25/50\n",
            "\u001b[1m255/255\u001b[0m \u001b[32m━━━━━━━━━━━━━━━━━━━━\u001b[0m\u001b[37m\u001b[0m \u001b[1m1s\u001b[0m 4ms/step - accuracy: 0.4980 - loss: 1.3933 - val_accuracy: 0.4991 - val_loss: 1.3990\n",
            "Epoch 26/50\n",
            "\u001b[1m255/255\u001b[0m \u001b[32m━━━━━━━━━━━━━━━━━━━━\u001b[0m\u001b[37m\u001b[0m \u001b[1m1s\u001b[0m 4ms/step - accuracy: 0.5066 - loss: 1.3780 - val_accuracy: 0.5013 - val_loss: 1.4073\n",
            "Epoch 27/50\n",
            "\u001b[1m255/255\u001b[0m \u001b[32m━━━━━━━━━━━━━━━━━━━━\u001b[0m\u001b[37m\u001b[0m \u001b[1m1s\u001b[0m 5ms/step - accuracy: 0.5079 - loss: 1.3695 - val_accuracy: 0.5163 - val_loss: 1.3901\n",
            "Epoch 28/50\n",
            "\u001b[1m255/255\u001b[0m \u001b[32m━━━━━━━━━━━━━━━━━━━━\u001b[0m\u001b[37m\u001b[0m \u001b[1m1s\u001b[0m 4ms/step - accuracy: 0.5122 - loss: 1.3606 - val_accuracy: 0.5078 - val_loss: 1.3945\n",
            "Epoch 29/50\n",
            "\u001b[1m255/255\u001b[0m \u001b[32m━━━━━━━━━━━━━━━━━━━━\u001b[0m\u001b[37m\u001b[0m \u001b[1m1s\u001b[0m 5ms/step - accuracy: 0.5118 - loss: 1.3522 - val_accuracy: 0.5158 - val_loss: 1.3786\n",
            "Epoch 30/50\n",
            "\u001b[1m255/255\u001b[0m \u001b[32m━━━━━━━━━━━━━━━━━━━━\u001b[0m\u001b[37m\u001b[0m \u001b[1m2s\u001b[0m 6ms/step - accuracy: 0.5203 - loss: 1.3436 - val_accuracy: 0.5069 - val_loss: 1.3959\n",
            "Epoch 31/50\n",
            "\u001b[1m255/255\u001b[0m \u001b[32m━━━━━━━━━━━━━━━━━━━━\u001b[0m\u001b[37m\u001b[0m \u001b[1m1s\u001b[0m 5ms/step - accuracy: 0.5221 - loss: 1.3294 - val_accuracy: 0.5123 - val_loss: 1.3788\n",
            "Epoch 32/50\n",
            "\u001b[1m255/255\u001b[0m \u001b[32m━━━━━━━━━━━━━━━━━━━━\u001b[0m\u001b[37m\u001b[0m \u001b[1m2s\u001b[0m 5ms/step - accuracy: 0.5250 - loss: 1.3208 - val_accuracy: 0.5150 - val_loss: 1.3721\n",
            "Epoch 33/50\n",
            "\u001b[1m255/255\u001b[0m \u001b[32m━━━━━━━━━━━━━━━━━━━━\u001b[0m\u001b[37m\u001b[0m \u001b[1m1s\u001b[0m 4ms/step - accuracy: 0.5279 - loss: 1.3051 - val_accuracy: 0.5096 - val_loss: 1.3882\n",
            "Epoch 34/50\n",
            "\u001b[1m255/255\u001b[0m \u001b[32m━━━━━━━━━━━━━━━━━━━━\u001b[0m\u001b[37m\u001b[0m \u001b[1m1s\u001b[0m 4ms/step - accuracy: 0.5342 - loss: 1.3041 - val_accuracy: 0.5138 - val_loss: 1.3668\n",
            "Epoch 35/50\n",
            "\u001b[1m255/255\u001b[0m \u001b[32m━━━━━━━━━━━━━━━━━━━━\u001b[0m\u001b[37m\u001b[0m \u001b[1m1s\u001b[0m 4ms/step - accuracy: 0.5378 - loss: 1.2977 - val_accuracy: 0.5125 - val_loss: 1.3784\n",
            "Epoch 36/50\n",
            "\u001b[1m255/255\u001b[0m \u001b[32m━━━━━━━━━━━━━━━━━━━━\u001b[0m\u001b[37m\u001b[0m \u001b[1m1s\u001b[0m 5ms/step - accuracy: 0.5436 - loss: 1.2834 - val_accuracy: 0.5175 - val_loss: 1.3687\n",
            "Epoch 37/50\n",
            "\u001b[1m255/255\u001b[0m \u001b[32m━━━━━━━━━━━━━━━━━━━━\u001b[0m\u001b[37m\u001b[0m \u001b[1m1s\u001b[0m 5ms/step - accuracy: 0.5404 - loss: 1.2853 - val_accuracy: 0.5232 - val_loss: 1.3508\n",
            "Epoch 38/50\n",
            "\u001b[1m255/255\u001b[0m \u001b[32m━━━━━━━━━━━━━━━━━━━━\u001b[0m\u001b[37m\u001b[0m \u001b[1m2s\u001b[0m 6ms/step - accuracy: 0.5389 - loss: 1.2770 - val_accuracy: 0.5070 - val_loss: 1.3721\n",
            "Epoch 39/50\n",
            "\u001b[1m255/255\u001b[0m \u001b[32m━━━━━━━━━━━━━━━━━━━━\u001b[0m\u001b[37m\u001b[0m \u001b[1m2s\u001b[0m 5ms/step - accuracy: 0.5493 - loss: 1.2623 - val_accuracy: 0.5176 - val_loss: 1.3642\n",
            "Epoch 40/50\n",
            "\u001b[1m255/255\u001b[0m \u001b[32m━━━━━━━━━━━━━━━━━━━━\u001b[0m\u001b[37m\u001b[0m \u001b[1m1s\u001b[0m 5ms/step - accuracy: 0.5450 - loss: 1.2637 - val_accuracy: 0.5272 - val_loss: 1.3515\n",
            "Epoch 41/50\n",
            "\u001b[1m255/255\u001b[0m \u001b[32m━━━━━━━━━━━━━━━━━━━━\u001b[0m\u001b[37m\u001b[0m \u001b[1m1s\u001b[0m 5ms/step - accuracy: 0.5516 - loss: 1.2404 - val_accuracy: 0.5162 - val_loss: 1.3589\n",
            "Epoch 42/50\n",
            "\u001b[1m255/255\u001b[0m \u001b[32m━━━━━━━━━━━━━━━━━━━━\u001b[0m\u001b[37m\u001b[0m \u001b[1m1s\u001b[0m 5ms/step - accuracy: 0.5513 - loss: 1.2471 - val_accuracy: 0.5212 - val_loss: 1.3602\n",
            "\u001b[1m282/282\u001b[0m \u001b[32m━━━━━━━━━━━━━━━━━━━━\u001b[0m\u001b[37m\u001b[0m \u001b[1m2s\u001b[0m 4ms/step - accuracy: 0.5218 - loss: 1.3473\n",
            "\n",
            "دقت نهایی روی داده تست: 0.5217\n"
          ]
        }
      ]
    },
    {
      "cell_type": "code",
      "source": [
        "def compute_metrics(X, y_true, y_true_oh):\n",
        "    y_pred_proba = model.predict(X, verbose=0)\n",
        "    y_pred = np.argmax(y_pred_proba, axis=1)\n",
        "\n",
        "    acc = accuracy_score(y_true, y_pred)\n",
        "    f1 = f1_score(y_true, y_pred, average='macro')\n",
        "    roc_auc = roc_auc_score(y_true_oh, y_pred_proba, multi_class='ovr', average='macro')\n",
        "\n",
        "    return acc, f1, roc_auc"
      ],
      "metadata": {
        "id": "oL6t0jZaDoDQ"
      },
      "execution_count": 20,
      "outputs": []
    },
    {
      "cell_type": "code",
      "source": [
        "# محاسبه معیارها برای هر مجموعه داده\n",
        "train_acc, train_f1, train_auc = compute_metrics(x_train, y_train, y_train_oh)\n",
        "val_acc, val_f1, val_auc = compute_metrics(x_val, y_val, y_val_oh)\n",
        "test_acc, test_f1, test_auc = compute_metrics(x_test, y_test, y_test_oh)"
      ],
      "metadata": {
        "id": "Z54fDR4o0mfg"
      },
      "execution_count": 21,
      "outputs": []
    },
    {
      "cell_type": "code",
      "source": [
        "# نمایش نتایج در جدول\n",
        "table = [\n",
        "    [\"Train\", train_acc, train_f1, train_auc],\n",
        "    [\"Validation\", val_acc, val_f1, val_auc],\n",
        "    [\"Test\", test_acc, test_f1, test_auc]\n",
        "]\n",
        "\n",
        "headers = [\"Dataset\", \"Accuracy\", \"F1-Score\", \"ROC AUC\"]\n",
        "print(tabulate(table, headers=headers, tablefmt=\"grid\", floatfmt=\".4f\"))"
      ],
      "metadata": {
        "colab": {
          "base_uri": "https://localhost:8080/"
        },
        "id": "w9LkFnkR3crZ",
        "outputId": "f766343c-6b65-459c-bdfa-5bdaa736413b"
      },
      "execution_count": 22,
      "outputs": [
        {
          "output_type": "stream",
          "name": "stdout",
          "text": [
            "+------------+------------+------------+-----------+\n",
            "| Dataset    |   Accuracy |   F1-Score |   ROC AUC |\n",
            "+============+============+============+===========+\n",
            "| Train      |     0.5850 |     0.5814 |    0.9210 |\n",
            "+------------+------------+------------+-----------+\n",
            "| Validation |     0.5348 |     0.5269 |    0.8992 |\n",
            "+------------+------------+------------+-----------+\n",
            "| Test       |     0.5217 |     0.5170 |    0.8940 |\n",
            "+------------+------------+------------+-----------+\n"
          ]
        }
      ]
    },
    {
      "cell_type": "markdown",
      "source": [
        "### WIDE and DEEP"
      ],
      "metadata": {
        "id": "OZRupAhO330I"
      }
    },
    {
      "cell_type": "code",
      "source": [
        "input_layer = keras.layers.Input(shape=(32, 32, 3))\n",
        "flatten = Flatten()(input_layer)\n",
        "# شاخه Wide (مسیر مستقیم)\n",
        "wide_branch = Dense(128, activation='linear')(flatten)\n",
        "\n",
        "# شاخه Deep (مسیر عمیق)\n",
        "deep_branch = Dense(512, activation='relu')(flatten)\n",
        "deep_branch = Dense(256, activation='relu')(deep_branch)\n",
        "deep_branch = Dense(128, activation='relu')(deep_branch)\n",
        "deep_branch = Dense(64, activation='relu')(deep_branch)\n",
        "\n",
        "# ترکیب Wide و Deep\n",
        "combined = keras.layers.Concatenate()([wide_branch, deep_branch])\n",
        "\n",
        "# لایه خروجی\n",
        "output_layer = Dense(10, activation='softmax')(combined)\n",
        "\n",
        "model_wd = keras.Model(inputs=input_layer, outputs=output_layer)"
      ],
      "metadata": {
        "id": "H9-H4Vq23tDp"
      },
      "execution_count": 23,
      "outputs": []
    },
    {
      "cell_type": "code",
      "source": [
        "# کامپایل مدل\n",
        "model_wd.compile(\n",
        "    optimizer=tf.keras.optimizers.Adam(learning_rate=0.001),\n",
        "    loss='categorical_crossentropy',\n",
        "    metrics=['accuracy']\n",
        ")"
      ],
      "metadata": {
        "id": "Ef2v84hR4RSS"
      },
      "execution_count": 24,
      "outputs": []
    },
    {
      "cell_type": "code",
      "source": [
        "# آموزش مدل\n",
        "history_wd = model_wd.fit(\n",
        "    x_train, y_train_oh,\n",
        "    epochs=50,\n",
        "    batch_size=128,\n",
        "    validation_data=(x_val, y_val_oh),\n",
        "    verbose=1\n",
        ")"
      ],
      "metadata": {
        "colab": {
          "base_uri": "https://localhost:8080/"
        },
        "id": "lOk1v9Ml4gwR",
        "outputId": "375fb5a3-3ffb-44df-d91d-b8bc02a20724"
      },
      "execution_count": 25,
      "outputs": [
        {
          "output_type": "stream",
          "name": "stdout",
          "text": [
            "Epoch 1/50\n",
            "\u001b[1m319/319\u001b[0m \u001b[32m━━━━━━━━━━━━━━━━━━━━\u001b[0m\u001b[37m\u001b[0m \u001b[1m6s\u001b[0m 11ms/step - accuracy: 0.2511 - loss: 2.7544 - val_accuracy: 0.3414 - val_loss: 1.8916\n",
            "Epoch 2/50\n",
            "\u001b[1m319/319\u001b[0m \u001b[32m━━━━━━━━━━━━━━━━━━━━\u001b[0m\u001b[37m\u001b[0m \u001b[1m1s\u001b[0m 4ms/step - accuracy: 0.3410 - loss: 1.8773 - val_accuracy: 0.3656 - val_loss: 1.8252\n",
            "Epoch 3/50\n",
            "\u001b[1m319/319\u001b[0m \u001b[32m━━━━━━━━━━━━━━━━━━━━\u001b[0m\u001b[37m\u001b[0m \u001b[1m3s\u001b[0m 5ms/step - accuracy: 0.3676 - loss: 1.8020 - val_accuracy: 0.3999 - val_loss: 1.7455\n",
            "Epoch 4/50\n",
            "\u001b[1m319/319\u001b[0m \u001b[32m━━━━━━━━━━━━━━━━━━━━\u001b[0m\u001b[37m\u001b[0m \u001b[1m2s\u001b[0m 4ms/step - accuracy: 0.3990 - loss: 1.7218 - val_accuracy: 0.4159 - val_loss: 1.6790\n",
            "Epoch 5/50\n",
            "\u001b[1m319/319\u001b[0m \u001b[32m━━━━━━━━━━━━━━━━━━━━\u001b[0m\u001b[37m\u001b[0m \u001b[1m1s\u001b[0m 4ms/step - accuracy: 0.4196 - loss: 1.6568 - val_accuracy: 0.4456 - val_loss: 1.5994\n",
            "Epoch 6/50\n",
            "\u001b[1m319/319\u001b[0m \u001b[32m━━━━━━━━━━━━━━━━━━━━\u001b[0m\u001b[37m\u001b[0m \u001b[1m1s\u001b[0m 4ms/step - accuracy: 0.4323 - loss: 1.6160 - val_accuracy: 0.4483 - val_loss: 1.6093\n",
            "Epoch 7/50\n",
            "\u001b[1m319/319\u001b[0m \u001b[32m━━━━━━━━━━━━━━━━━━━━\u001b[0m\u001b[37m\u001b[0m \u001b[1m3s\u001b[0m 4ms/step - accuracy: 0.4447 - loss: 1.5762 - val_accuracy: 0.4386 - val_loss: 1.6190\n",
            "Epoch 8/50\n",
            "\u001b[1m319/319\u001b[0m \u001b[32m━━━━━━━━━━━━━━━━━━━━\u001b[0m\u001b[37m\u001b[0m \u001b[1m1s\u001b[0m 4ms/step - accuracy: 0.4465 - loss: 1.5614 - val_accuracy: 0.4606 - val_loss: 1.5585\n",
            "Epoch 9/50\n",
            "\u001b[1m319/319\u001b[0m \u001b[32m━━━━━━━━━━━━━━━━━━━━\u001b[0m\u001b[37m\u001b[0m \u001b[1m3s\u001b[0m 5ms/step - accuracy: 0.4691 - loss: 1.5126 - val_accuracy: 0.4601 - val_loss: 1.5635\n",
            "Epoch 10/50\n",
            "\u001b[1m319/319\u001b[0m \u001b[32m━━━━━━━━━━━━━━━━━━━━\u001b[0m\u001b[37m\u001b[0m \u001b[1m1s\u001b[0m 4ms/step - accuracy: 0.4673 - loss: 1.5088 - val_accuracy: 0.4474 - val_loss: 1.5609\n",
            "Epoch 11/50\n",
            "\u001b[1m319/319\u001b[0m \u001b[32m━━━━━━━━━━━━━━━━━━━━\u001b[0m\u001b[37m\u001b[0m \u001b[1m3s\u001b[0m 4ms/step - accuracy: 0.4815 - loss: 1.4627 - val_accuracy: 0.4518 - val_loss: 1.5668\n",
            "Epoch 12/50\n",
            "\u001b[1m319/319\u001b[0m \u001b[32m━━━━━━━━━━━━━━━━━━━━\u001b[0m\u001b[37m\u001b[0m \u001b[1m1s\u001b[0m 4ms/step - accuracy: 0.4851 - loss: 1.4421 - val_accuracy: 0.4907 - val_loss: 1.4613\n",
            "Epoch 13/50\n",
            "\u001b[1m319/319\u001b[0m \u001b[32m━━━━━━━━━━━━━━━━━━━━\u001b[0m\u001b[37m\u001b[0m \u001b[1m1s\u001b[0m 4ms/step - accuracy: 0.4974 - loss: 1.4195 - val_accuracy: 0.4631 - val_loss: 1.5152\n",
            "Epoch 14/50\n",
            "\u001b[1m319/319\u001b[0m \u001b[32m━━━━━━━━━━━━━━━━━━━━\u001b[0m\u001b[37m\u001b[0m \u001b[1m1s\u001b[0m 5ms/step - accuracy: 0.5076 - loss: 1.3879 - val_accuracy: 0.4646 - val_loss: 1.5240\n",
            "Epoch 15/50\n",
            "\u001b[1m319/319\u001b[0m \u001b[32m━━━━━━━━━━━━━━━━━━━━\u001b[0m\u001b[37m\u001b[0m \u001b[1m1s\u001b[0m 4ms/step - accuracy: 0.5168 - loss: 1.3679 - val_accuracy: 0.4820 - val_loss: 1.4667\n",
            "Epoch 16/50\n",
            "\u001b[1m319/319\u001b[0m \u001b[32m━━━━━━━━━━━━━━━━━━━━\u001b[0m\u001b[37m\u001b[0m \u001b[1m2s\u001b[0m 6ms/step - accuracy: 0.5177 - loss: 1.3488 - val_accuracy: 0.4891 - val_loss: 1.4559\n",
            "Epoch 17/50\n",
            "\u001b[1m319/319\u001b[0m \u001b[32m━━━━━━━━━━━━━━━━━━━━\u001b[0m\u001b[37m\u001b[0m \u001b[1m2s\u001b[0m 4ms/step - accuracy: 0.5248 - loss: 1.3382 - val_accuracy: 0.4923 - val_loss: 1.4497\n",
            "Epoch 18/50\n",
            "\u001b[1m319/319\u001b[0m \u001b[32m━━━━━━━━━━━━━━━━━━━━\u001b[0m\u001b[37m\u001b[0m \u001b[1m3s\u001b[0m 5ms/step - accuracy: 0.5313 - loss: 1.3242 - val_accuracy: 0.4839 - val_loss: 1.4703\n",
            "Epoch 19/50\n",
            "\u001b[1m319/319\u001b[0m \u001b[32m━━━━━━━━━━━━━━━━━━━━\u001b[0m\u001b[37m\u001b[0m \u001b[1m1s\u001b[0m 4ms/step - accuracy: 0.5334 - loss: 1.3108 - val_accuracy: 0.4837 - val_loss: 1.4651\n",
            "Epoch 20/50\n",
            "\u001b[1m319/319\u001b[0m \u001b[32m━━━━━━━━━━━━━━━━━━━━\u001b[0m\u001b[37m\u001b[0m \u001b[1m1s\u001b[0m 4ms/step - accuracy: 0.5426 - loss: 1.2848 - val_accuracy: 0.4981 - val_loss: 1.4449\n",
            "Epoch 21/50\n",
            "\u001b[1m319/319\u001b[0m \u001b[32m━━━━━━━━━━━━━━━━━━━━\u001b[0m\u001b[37m\u001b[0m \u001b[1m1s\u001b[0m 5ms/step - accuracy: 0.5472 - loss: 1.2751 - val_accuracy: 0.5048 - val_loss: 1.4156\n",
            "Epoch 22/50\n",
            "\u001b[1m319/319\u001b[0m \u001b[32m━━━━━━━━━━━━━━━━━━━━\u001b[0m\u001b[37m\u001b[0m \u001b[1m3s\u001b[0m 6ms/step - accuracy: 0.5667 - loss: 1.2228 - val_accuracy: 0.4983 - val_loss: 1.4527\n",
            "Epoch 23/50\n",
            "\u001b[1m319/319\u001b[0m \u001b[32m━━━━━━━━━━━━━━━━━━━━\u001b[0m\u001b[37m\u001b[0m \u001b[1m2s\u001b[0m 5ms/step - accuracy: 0.5601 - loss: 1.2234 - val_accuracy: 0.4853 - val_loss: 1.4845\n",
            "Epoch 24/50\n",
            "\u001b[1m319/319\u001b[0m \u001b[32m━━━━━━━━━━━━━━━━━━━━\u001b[0m\u001b[37m\u001b[0m \u001b[1m1s\u001b[0m 4ms/step - accuracy: 0.5691 - loss: 1.2040 - val_accuracy: 0.4925 - val_loss: 1.4794\n",
            "Epoch 25/50\n",
            "\u001b[1m319/319\u001b[0m \u001b[32m━━━━━━━━━━━━━━━━━━━━\u001b[0m\u001b[37m\u001b[0m \u001b[1m3s\u001b[0m 5ms/step - accuracy: 0.5800 - loss: 1.1772 - val_accuracy: 0.4925 - val_loss: 1.4989\n",
            "Epoch 26/50\n",
            "\u001b[1m319/319\u001b[0m \u001b[32m━━━━━━━━━━━━━━━━━━━━\u001b[0m\u001b[37m\u001b[0m \u001b[1m1s\u001b[0m 5ms/step - accuracy: 0.5875 - loss: 1.1560 - val_accuracy: 0.4830 - val_loss: 1.5167\n",
            "Epoch 27/50\n",
            "\u001b[1m319/319\u001b[0m \u001b[32m━━━━━━━━━━━━━━━━━━━━\u001b[0m\u001b[37m\u001b[0m \u001b[1m2s\u001b[0m 4ms/step - accuracy: 0.5884 - loss: 1.1552 - val_accuracy: 0.4749 - val_loss: 1.5443\n",
            "Epoch 28/50\n",
            "\u001b[1m319/319\u001b[0m \u001b[32m━━━━━━━━━━━━━━━━━━━━\u001b[0m\u001b[37m\u001b[0m \u001b[1m2s\u001b[0m 6ms/step - accuracy: 0.5916 - loss: 1.1434 - val_accuracy: 0.4911 - val_loss: 1.5200\n",
            "Epoch 29/50\n",
            "\u001b[1m319/319\u001b[0m \u001b[32m━━━━━━━━━━━━━━━━━━━━\u001b[0m\u001b[37m\u001b[0m \u001b[1m2s\u001b[0m 4ms/step - accuracy: 0.6018 - loss: 1.1149 - val_accuracy: 0.4958 - val_loss: 1.5226\n",
            "Epoch 30/50\n",
            "\u001b[1m319/319\u001b[0m \u001b[32m━━━━━━━━━━━━━━━━━━━━\u001b[0m\u001b[37m\u001b[0m \u001b[1m3s\u001b[0m 5ms/step - accuracy: 0.6054 - loss: 1.0999 - val_accuracy: 0.4986 - val_loss: 1.5029\n",
            "Epoch 31/50\n",
            "\u001b[1m319/319\u001b[0m \u001b[32m━━━━━━━━━━━━━━━━━━━━\u001b[0m\u001b[37m\u001b[0m \u001b[1m2s\u001b[0m 4ms/step - accuracy: 0.6148 - loss: 1.0810 - val_accuracy: 0.4969 - val_loss: 1.5146\n",
            "Epoch 32/50\n",
            "\u001b[1m319/319\u001b[0m \u001b[32m━━━━━━━━━━━━━━━━━━━━\u001b[0m\u001b[37m\u001b[0m \u001b[1m1s\u001b[0m 5ms/step - accuracy: 0.6238 - loss: 1.0499 - val_accuracy: 0.4911 - val_loss: 1.5394\n",
            "Epoch 33/50\n",
            "\u001b[1m319/319\u001b[0m \u001b[32m━━━━━━━━━━━━━━━━━━━━\u001b[0m\u001b[37m\u001b[0m \u001b[1m3s\u001b[0m 5ms/step - accuracy: 0.6271 - loss: 1.0344 - val_accuracy: 0.4891 - val_loss: 1.5593\n",
            "Epoch 34/50\n",
            "\u001b[1m319/319\u001b[0m \u001b[32m━━━━━━━━━━━━━━━━━━━━\u001b[0m\u001b[37m\u001b[0m \u001b[1m2s\u001b[0m 5ms/step - accuracy: 0.6349 - loss: 1.0298 - val_accuracy: 0.4967 - val_loss: 1.5549\n",
            "Epoch 35/50\n",
            "\u001b[1m319/319\u001b[0m \u001b[32m━━━━━━━━━━━━━━━━━━━━\u001b[0m\u001b[37m\u001b[0m \u001b[1m2s\u001b[0m 5ms/step - accuracy: 0.6374 - loss: 1.0081 - val_accuracy: 0.4985 - val_loss: 1.5427\n",
            "Epoch 36/50\n",
            "\u001b[1m319/319\u001b[0m \u001b[32m━━━━━━━━━━━━━━━━━━━━\u001b[0m\u001b[37m\u001b[0m \u001b[1m3s\u001b[0m 5ms/step - accuracy: 0.6458 - loss: 0.9822 - val_accuracy: 0.4965 - val_loss: 1.5742\n",
            "Epoch 37/50\n",
            "\u001b[1m319/319\u001b[0m \u001b[32m━━━━━━━━━━━━━━━━━━━━\u001b[0m\u001b[37m\u001b[0m \u001b[1m2s\u001b[0m 4ms/step - accuracy: 0.6556 - loss: 0.9633 - val_accuracy: 0.4800 - val_loss: 1.6468\n",
            "Epoch 38/50\n",
            "\u001b[1m319/319\u001b[0m \u001b[32m━━━━━━━━━━━━━━━━━━━━\u001b[0m\u001b[37m\u001b[0m \u001b[1m3s\u001b[0m 5ms/step - accuracy: 0.6580 - loss: 0.9599 - val_accuracy: 0.4924 - val_loss: 1.6050\n",
            "Epoch 39/50\n",
            "\u001b[1m319/319\u001b[0m \u001b[32m━━━━━━━━━━━━━━━━━━━━\u001b[0m\u001b[37m\u001b[0m \u001b[1m2s\u001b[0m 4ms/step - accuracy: 0.6615 - loss: 0.9400 - val_accuracy: 0.4843 - val_loss: 1.6510\n",
            "Epoch 40/50\n",
            "\u001b[1m319/319\u001b[0m \u001b[32m━━━━━━━━━━━━━━━━━━━━\u001b[0m\u001b[37m\u001b[0m \u001b[1m3s\u001b[0m 5ms/step - accuracy: 0.6693 - loss: 0.9330 - val_accuracy: 0.4916 - val_loss: 1.6507\n",
            "Epoch 41/50\n",
            "\u001b[1m319/319\u001b[0m \u001b[32m━━━━━━━━━━━━━━━━━━━━\u001b[0m\u001b[37m\u001b[0m \u001b[1m3s\u001b[0m 5ms/step - accuracy: 0.6754 - loss: 0.9079 - val_accuracy: 0.4825 - val_loss: 1.7248\n",
            "Epoch 42/50\n",
            "\u001b[1m319/319\u001b[0m \u001b[32m━━━━━━━━━━━━━━━━━━━━\u001b[0m\u001b[37m\u001b[0m \u001b[1m1s\u001b[0m 5ms/step - accuracy: 0.6798 - loss: 0.8872 - val_accuracy: 0.4943 - val_loss: 1.6668\n",
            "Epoch 43/50\n",
            "\u001b[1m319/319\u001b[0m \u001b[32m━━━━━━━━━━━━━━━━━━━━\u001b[0m\u001b[37m\u001b[0m \u001b[1m3s\u001b[0m 5ms/step - accuracy: 0.6876 - loss: 0.8760 - val_accuracy: 0.4846 - val_loss: 1.6982\n",
            "Epoch 44/50\n",
            "\u001b[1m319/319\u001b[0m \u001b[32m━━━━━━━━━━━━━━━━━━━━\u001b[0m\u001b[37m\u001b[0m \u001b[1m2s\u001b[0m 5ms/step - accuracy: 0.6922 - loss: 0.8696 - val_accuracy: 0.4889 - val_loss: 1.7373\n",
            "Epoch 45/50\n",
            "\u001b[1m319/319\u001b[0m \u001b[32m━━━━━━━━━━━━━━━━━━━━\u001b[0m\u001b[37m\u001b[0m \u001b[1m1s\u001b[0m 4ms/step - accuracy: 0.7031 - loss: 0.8404 - val_accuracy: 0.4786 - val_loss: 1.7484\n",
            "Epoch 46/50\n",
            "\u001b[1m319/319\u001b[0m \u001b[32m━━━━━━━━━━━━━━━━━━━━\u001b[0m\u001b[37m\u001b[0m \u001b[1m1s\u001b[0m 4ms/step - accuracy: 0.7006 - loss: 0.8358 - val_accuracy: 0.4832 - val_loss: 1.7423\n",
            "Epoch 47/50\n",
            "\u001b[1m319/319\u001b[0m \u001b[32m━━━━━━━━━━━━━━━━━━━━\u001b[0m\u001b[37m\u001b[0m \u001b[1m1s\u001b[0m 5ms/step - accuracy: 0.7073 - loss: 0.8193 - val_accuracy: 0.4844 - val_loss: 1.7889\n",
            "Epoch 48/50\n",
            "\u001b[1m319/319\u001b[0m \u001b[32m━━━━━━━━━━━━━━━━━━━━\u001b[0m\u001b[37m\u001b[0m \u001b[1m1s\u001b[0m 4ms/step - accuracy: 0.7137 - loss: 0.8025 - val_accuracy: 0.4878 - val_loss: 1.7947\n",
            "Epoch 49/50\n",
            "\u001b[1m319/319\u001b[0m \u001b[32m━━━━━━━━━━━━━━━━━━━━\u001b[0m\u001b[37m\u001b[0m \u001b[1m1s\u001b[0m 4ms/step - accuracy: 0.7089 - loss: 0.8153 - val_accuracy: 0.4817 - val_loss: 1.8381\n",
            "Epoch 50/50\n",
            "\u001b[1m319/319\u001b[0m \u001b[32m━━━━━━━━━━━━━━━━━━━━\u001b[0m\u001b[37m\u001b[0m \u001b[1m3s\u001b[0m 4ms/step - accuracy: 0.7219 - loss: 0.7784 - val_accuracy: 0.4728 - val_loss: 1.9026\n"
          ]
        }
      ]
    },
    {
      "cell_type": "markdown",
      "source": [
        "### تابع محاسبه معیارها"
      ],
      "metadata": {
        "id": "uwLyfgrF43UV"
      }
    },
    {
      "cell_type": "code",
      "source": [
        "def compute_metrics(model, X, y_true, y_true_oh):\n",
        "    y_pred_proba = model.predict(X, verbose=0)\n",
        "    y_pred = np.argmax(y_pred_proba, axis=1)\n",
        "\n",
        "    acc = accuracy_score(y_true, y_pred)\n",
        "    f1 = f1_score(y_true, y_pred, average='macro')\n",
        "    roc_auc = roc_auc_score(y_true_oh, y_pred_proba, multi_class='ovr', average='macro')\n",
        "\n",
        "    return acc, f1, roc_auc"
      ],
      "metadata": {
        "id": "_OkGDtCk4jVR"
      },
      "execution_count": 26,
      "outputs": []
    },
    {
      "cell_type": "code",
      "source": [
        "wd_train_acc, wd_train_f1, wd_train_auc = compute_metrics(model_wd, x_train, y_train, y_train_oh)\n",
        "wd_val_acc, wd_val_f1, wd_val_auc = compute_metrics(model_wd, x_val, y_val, y_val_oh)\n",
        "wd_test_acc, wd_test_f1, wd_test_auc = compute_metrics(model_wd, x_test, y_test, y_test_oh)"
      ],
      "metadata": {
        "id": "vllkMJxh5BjT"
      },
      "execution_count": 27,
      "outputs": []
    },
    {
      "cell_type": "markdown",
      "source": [
        "### نتایج مدل Deep (از مرحله قبل)\n"
      ],
      "metadata": {
        "id": "AjspuLo05TM_"
      }
    },
    {
      "cell_type": "code",
      "source": [
        "deep_train_acc, deep_train_f1, deep_train_auc = 0.5120, 0.5081, 0.9270\n",
        "deep_val_acc, deep_val_f1, deep_val_auc = 0.4425, 0.4383, 0.9052\n",
        "deep_test_acc, deep_test_f1, deep_test_auc = 0.4482, 0.4439, 0.9065"
      ],
      "metadata": {
        "id": "qFIiCp4V5O3x"
      },
      "execution_count": 28,
      "outputs": []
    },
    {
      "cell_type": "markdown",
      "source": [
        "### نمایش نتایج مقایسه‌ای\n"
      ],
      "metadata": {
        "id": "HCXogWF95qUC"
      }
    },
    {
      "cell_type": "code",
      "source": [
        "# جدول نتایج Wide & Deep\n",
        "table_wd = [\n",
        "    [\"Wide & Deep - Train\", wd_train_acc, wd_train_f1, wd_train_auc],\n",
        "    [\"Wide & Deep - Validation\", wd_val_acc, wd_val_f1, wd_val_auc],\n",
        "    [\"Wide & Deep - Test\", wd_test_acc, wd_test_f1, wd_test_auc]\n",
        "]\n",
        "\n",
        "# جدول نتایج Deep\n",
        "table_deep = [\n",
        "    [\"Deep - Train\", deep_train_acc, deep_train_f1, deep_train_auc],\n",
        "    [\"Deep - Validation\", deep_val_acc, deep_val_f1, deep_val_auc],\n",
        "    [\"Deep - Test\", deep_test_acc, deep_test_f1, deep_test_auc]\n",
        "]\n",
        "\n",
        "# نمایش جداول\n",
        "headers = [\"Model/Dataset\", \"Accuracy\", \"F1-Score\", \"ROC AUC\"]\n",
        "print(\"نتایج مدل Wide & Deep:\")\n",
        "print(tabulate(table_wd, headers=headers, tablefmt=\"grid\", floatfmt=\".4f\"))\n",
        "print(\"\\nنتایج مدل Deep:\")\n",
        "print(tabulate(table_deep, headers=headers, tablefmt=\"grid\", floatfmt=\".4f\"))"
      ],
      "metadata": {
        "colab": {
          "base_uri": "https://localhost:8080/"
        },
        "id": "4mUmlJuL5hQC",
        "outputId": "467e8576-70c4-42f2-9f8e-f3c3d2278985"
      },
      "execution_count": 29,
      "outputs": [
        {
          "output_type": "stream",
          "name": "stdout",
          "text": [
            "نتایج مدل Wide & Deep:\n",
            "+--------------------------+------------+------------+-----------+\n",
            "| Model/Dataset            |   Accuracy |   F1-Score |   ROC AUC |\n",
            "+==========================+============+============+===========+\n",
            "| Wide & Deep - Train      |     0.7193 |     0.7190 |    0.9669 |\n",
            "+--------------------------+------------+------------+-----------+\n",
            "| Wide & Deep - Validation |     0.4728 |     0.4684 |    0.8616 |\n",
            "+--------------------------+------------+------------+-----------+\n",
            "| Wide & Deep - Test       |     0.4651 |     0.4633 |    0.8532 |\n",
            "+--------------------------+------------+------------+-----------+\n",
            "\n",
            "نتایج مدل Deep:\n",
            "+-------------------+------------+------------+-----------+\n",
            "| Model/Dataset     |   Accuracy |   F1-Score |   ROC AUC |\n",
            "+===================+============+============+===========+\n",
            "| Deep - Train      |     0.5120 |     0.5081 |    0.9270 |\n",
            "+-------------------+------------+------------+-----------+\n",
            "| Deep - Validation |     0.4425 |     0.4383 |    0.9052 |\n",
            "+-------------------+------------+------------+-----------+\n",
            "| Deep - Test       |     0.4482 |     0.4439 |    0.9065 |\n",
            "+-------------------+------------+------------+-----------+\n"
          ]
        }
      ]
    },
    {
      "cell_type": "code",
      "source": [
        "# نمودار مقایسه‌ای دقت آموزش و اعتبارسنجی\n",
        "plt.figure(figsize=(12, 6))\n",
        "\n",
        "# دقت آموزش\n",
        "plt.subplot(1, 2, 1)\n",
        "plt.plot(history_wd.history['accuracy'], label='Wide & Deep Train')\n",
        "plt.plot(history_wd.history['val_accuracy'], label='Wide & Deep Val')\n",
        "plt.axhline(y=deep_train_acc, color='r', linestyle='--', label='Deep Train')\n",
        "plt.axhline(y=deep_val_acc, color='g', linestyle='--', label='Deep Val')\n",
        "plt.title('Accuracy Comparison')\n",
        "plt.ylabel('Accuracy')\n",
        "plt.xlabel('Epoch')\n",
        "plt.legend()"
      ],
      "metadata": {
        "colab": {
          "base_uri": "https://localhost:8080/",
          "height": 581
        },
        "id": "Qnx-M6rr5xm4",
        "outputId": "26cac451-c2ca-4c11-867c-97b3c9b280d5"
      },
      "execution_count": 30,
      "outputs": [
        {
          "output_type": "execute_result",
          "data": {
            "text/plain": [
              "<matplotlib.legend.Legend at 0x7cc24eff13d0>"
            ]
          },
          "metadata": {},
          "execution_count": 30
        },
        {
          "output_type": "display_data",
          "data": {
            "text/plain": [
              "<Figure size 1200x600 with 1 Axes>"
            ],
            "image/png": "[encoded data removed]"
          },
          "metadata": {}
        }
      ]
    },
    {
      "cell_type": "code",
      "source": [
        "# خطای آموزش\n",
        "plt.subplot(1, 2, 2)\n",
        "plt.plot(history_wd.history['loss'], label='Wide & Deep Train')\n",
        "plt.plot(history_wd.history['val_loss'], label='Wide & Deep Val')\n",
        "plt.title('Loss Comparison')\n",
        "plt.ylabel('Loss')\n",
        "plt.xlabel('Epoch')\n",
        "plt.legend()\n",
        "\n",
        "plt.tight_layout()\n",
        "plt.show()"
      ],
      "metadata": {
        "colab": {
          "base_uri": "https://localhost:8080/",
          "height": 487
        },
        "id": "xIqjPDBS6AiM",
        "outputId": "dd3854d9-0e75-44c7-9279-fedf5bb852fb"
      },
      "execution_count": 31,
      "outputs": [
        {
          "output_type": "display_data",
          "data": {
            "text/plain": [
              "<Figure size 640x480 with 1 Axes>"
            ],
            "image/png": "[encoded data removed]"
          },
          "metadata": {}
        }
      ]
    },
    {
      "cell_type": "markdown",
      "source": [
        "#### تابع ایجاد مدل برای بهینه‌سازی"
      ],
      "metadata": {
        "id": "PWzNeqPD68Yo"
      }
    },
    {
      "cell_type": "code",
      "source": [
        "from keras.models import Sequential"
      ],
      "metadata": {
        "id": "qSFuQ9DBoEVm"
      },
      "execution_count": 32,
      "outputs": []
    },
    {
      "cell_type": "code",
      "source": [
        "def create_model(\n",
        "    neurons_layer1=128,\n",
        "    neurons_layer2=64,\n",
        "    neurons_layer3=32,\n",
        "    learning_rate=0.001,\n",
        "    activation='relu',\n",
        "    optimizer='adam'\n",
        "):\n",
        "    model = Sequential([\n",
        "        Flatten(input_shape=(32, 32, 3)),\n",
        "        Dense(neurons_layer1, activation=activation),\n",
        "        Dense(neurons_layer2, activation=activation),\n",
        "        Dense(neurons_layer3, activation=activation),\n",
        "        Dense(10, activation='softmax')\n",
        "    ])\n",
        "\n",
        "    model.compile(\n",
        "        optimizer=keras.optimizers.Adam(learning_rate=learning_rate),\n",
        "        loss='categorical_crossentropy',\n",
        "        metrics=['accuracy']\n",
        "    )\n",
        "    return model"
      ],
      "metadata": {
        "id": "1WDXigSu6EwI"
      },
      "execution_count": 33,
      "outputs": []
    },
    {
      "cell_type": "markdown",
      "source": [
        "### ایجاد مدل Keras برای استفاده در sklearn\n"
      ],
      "metadata": {
        "id": "uYIPn32v7UxN"
      }
    },
    {
      "cell_type": "code",
      "source": [
        "keras_model = KerasClassifier(\n",
        "    model=create_model,\n",
        "    epochs=20,\n",
        "    batch_size=128,\n",
        "    verbose=0\n",
        ")"
      ],
      "metadata": {
        "id": "Q-VmbW5q7LMx"
      },
      "execution_count": 34,
      "outputs": []
    },
    {
      "cell_type": "code",
      "source": [
        "# فضای جستجوی پارامترها\n",
        "param_grid = {\n",
        "    'model__neurons_layer1': Integer(64, 512),\n",
        "    'model__neurons_layer2': Integer(32, 256),\n",
        "    'model__neurons_layer3': Integer(16, 128),\n",
        "    'model__learning_rate': Continuous(0.0001, 0.1),\n",
        "    'model__activation': Categorical(['relu', 'relu', 'selu']),\n",
        "}"
      ],
      "metadata": {
        "id": "4Uv7K7bQ7Waq"
      },
      "execution_count": 35,
      "outputs": []
    },
    {
      "cell_type": "code",
      "source": [
        "# تنظیمات الگوریتم ژنتیک\n",
        "evolved_estimator = GASearchCV(\n",
        "    estimator=keras_model,\n",
        "    cv=3,\n",
        "    scoring='accuracy',\n",
        "    population_size=5,\n",
        "    generations=3,\n",
        "    tournament_size=3,\n",
        "    elitism=True,\n",
        "    crossover_probability=0.8,\n",
        "    mutation_probability=0.1,\n",
        "    param_grid=param_grid,\n",
        "    criteria='max',\n",
        "    algorithm='eaMuPlusLambda',\n",
        "    n_jobs=-1,\n",
        "    verbose=True,\n",
        "    error_score='raise'\n",
        ")"
      ],
      "metadata": {
        "id": "wwHZIQ0P-D1_"
      },
      "execution_count": 36,
      "outputs": []
    },
    {
      "cell_type": "code",
      "source": [
        "# استفاده از 20% داده‌ها برای جستجوی هایپرپارامتر\n",
        "_, x_sample, _, y_sample = train_test_split(\n",
        "    x_train, y_train_oh,\n",
        "    train_size=0.2,\n",
        "    stratify=y_train\n",
        ")\n",
        "evolved_estimator.fit(x_sample, y_sample)"
      ],
      "metadata": {
        "id": "Xc7XqMVy-HPI",
        "colab": {
          "base_uri": "https://localhost:8080/",
          "height": 449
        },
        "outputId": "fccfa702-87aa-4eb0-f167-c650c91df8aa"
      },
      "execution_count": 37,
      "outputs": [
        {
          "output_type": "stream",
          "name": "stderr",
          "text": [
            "/usr/local/lib/python3.11/dist-packages/joblib/externals/loky/process_executor.py:782: UserWarning: A worker stopped while some jobs were given to the executor. This can be caused by a too short worker timeout or by a memory leak.\n",
            "  warnings.warn(\n"
          ]
        },
        {
          "output_type": "stream",
          "name": "stdout",
          "text": [
            "gen\tnevals\tfitness \tfitness_std\tfitness_max\tfitness_min\n",
            "0  \t5     \t0.136808\t0.0448834  \t0.200521   \t0.098989   \n"
          ]
        },
        {
          "output_type": "stream",
          "name": "stderr",
          "text": [
            "/usr/local/lib/python3.11/dist-packages/joblib/externals/loky/process_executor.py:782: UserWarning: A worker stopped while some jobs were given to the executor. This can be caused by a too short worker timeout or by a memory leak.\n",
            "  warnings.warn(\n"
          ]
        },
        {
          "output_type": "stream",
          "name": "stdout",
          "text": [
            "1  \t9     \t0.174957\t0.0664302  \t0.273039   \t0.0986213  \n"
          ]
        },
        {
          "output_type": "stream",
          "name": "stderr",
          "text": [
            "/usr/local/lib/python3.11/dist-packages/joblib/externals/loky/process_executor.py:782: UserWarning: A worker stopped while some jobs were given to the executor. This can be caused by a too short worker timeout or by a memory leak.\n",
            "  warnings.warn(\n"
          ]
        },
        {
          "output_type": "stream",
          "name": "stdout",
          "text": [
            "2  \t9     \t0.229706\t0.035383   \t0.273039   \t0.200521   \n"
          ]
        },
        {
          "output_type": "stream",
          "name": "stderr",
          "text": [
            "/usr/local/lib/python3.11/dist-packages/joblib/externals/loky/process_executor.py:782: UserWarning: A worker stopped while some jobs were given to the executor. This can be caused by a too short worker timeout or by a memory leak.\n",
            "  warnings.warn(\n",
            "/usr/local/lib/python3.11/dist-packages/joblib/externals/loky/process_executor.py:782: UserWarning: A worker stopped while some jobs were given to the executor. This can be caused by a too short worker timeout or by a memory leak.\n",
            "  warnings.warn(\n"
          ]
        },
        {
          "output_type": "stream",
          "name": "stdout",
          "text": [
            "3  \t10    \t0.31685 \t0.0375966  \t0.349939   \t0.268689   \n"
          ]
        },
        {
          "output_type": "stream",
          "name": "stderr",
          "text": [
            "/usr/local/lib/python3.11/dist-packages/keras/src/layers/reshaping/flatten.py:37: UserWarning: Do not pass an `input_shape`/`input_dim` argument to a layer. When using Sequential models, prefer using an `Input(shape)` object as the first layer in the model instead.\n",
            "  super().__init__(**kwargs)\n"
          ]
        },
        {
          "output_type": "execute_result",
          "data": {
            "text/plain": [
              "GASearchCV(crossover_probability=0.8, error_score='raise',\n",
              "           estimator=KerasClassifier(batch_size=128, epochs=20, model=<function create_model at 0x7cc24ee4c7c0>, model__activation='relu', model__learning_rate=np.float64(0.014579620130878344), model__neurons_layer1=245, model__neurons_layer2=194, model__neurons_layer3=116, verbose=0),\n",
              "           generations=3, mutation_probab...\n",
              "                       'model__learning_rate': <sklearn_genetic.space.space.Continuous object at 0x7cc24e6dcb50>,\n",
              "                       'model__neurons_layer1': <sklearn_genetic.space.space.Integer object at 0x7cc24e6cfb10>,\n",
              "                       'model__neurons_layer2': <sklearn_genetic.space.space.Integer object at 0x7cc24ef94650>,\n",
              "                       'model__neurons_layer3': <sklearn_genetic.space.space.Integer object at 0x7cc24eea8bd0>},\n",
              "           population_size=5, return_train_score=True, scoring='accuracy',\n",
              "           warm_start_configs=[])"
            ],
            "text/html": [
              "<style>#sk-container-id-1 {\n",
              "  /* Definition of color scheme common for light and dark mode */\n",
              "  --sklearn-color-text: black;\n",
              "  --sklearn-color-line: gray;\n",
              "  /* Definition of color scheme for unfitted estimators */\n",
              "  --sklearn-color-unfitted-level-0: #fff5e6;\n",
              "  --sklearn-color-unfitted-level-1: #f6e4d2;\n",
              "  --sklearn-color-unfitted-level-2: #ffe0b3;\n",
              "  --sklearn-color-unfitted-level-3: chocolate;\n",
              "  /* Definition of color scheme for fitted estimators */\n",
              "  --sklearn-color-fitted-level-0: #f0f8ff;\n",
              "  --sklearn-color-fitted-level-1: #d4ebff;\n",
              "  --sklearn-color-fitted-level-2: #b3dbfd;\n",
              "  --sklearn-color-fitted-level-3: cornflowerblue;\n",
              "\n",
              "  /* Specific color for light theme */\n",
              "  --sklearn-color-text-on-default-background: var(--sg-text-color, var(--theme-code-foreground, var(--jp-content-font-color1, black)));\n",
              "  --sklearn-color-background: var(--sg-background-color, var(--theme-background, var(--jp-layout-color0, white)));\n",
              "  --sklearn-color-border-box: var(--sg-text-color, var(--theme-code-foreground, var(--jp-content-font-color1, black)));\n",
              "  --sklearn-color-icon: #696969;\n",
              "\n",
              "  @media (prefers-color-scheme: dark) {\n",
              "    /* Redefinition of color scheme for dark theme */\n",
              "    --sklearn-color-text-on-default-background: var(--sg-text-color, var(--theme-code-foreground, var(--jp-content-font-color1, white)));\n",
              "    --sklearn-color-background: var(--sg-background-color, var(--theme-background, var(--jp-layout-color0, #111)));\n",
              "    --sklearn-color-border-box: var(--sg-text-color, var(--theme-code-foreground, var(--jp-content-font-color1, white)));\n",
              "    --sklearn-color-icon: #878787;\n",
              "  }\n",
              "}\n",
              "\n",
              "#sk-container-id-1 {\n",
              "  color: var(--sklearn-color-text);\n",
              "}\n",
              "\n",
              "#sk-container-id-1 pre {\n",
              "  padding: 0;\n",
              "}\n",
              "\n",
              "#sk-container-id-1 input.sk-hidden--visually {\n",
              "  border: 0;\n",
              "  clip: rect(1px 1px 1px 1px);\n",
              "  clip: rect(1px, 1px, 1px, 1px);\n",
              "  height: 1px;\n",
              "  margin: -1px;\n",
              "  overflow: hidden;\n",
              "  padding: 0;\n",
              "  position: absolute;\n",
              "  width: 1px;\n",
              "}\n",
              "\n",
              "#sk-container-id-1 div.sk-dashed-wrapped {\n",
              "  border: 1px dashed var(--sklearn-color-line);\n",
              "  margin: 0 0.4em 0.5em 0.4em;\n",
              "  box-sizing: border-box;\n",
              "  padding-bottom: 0.4em;\n",
              "  background-color: var(--sklearn-color-background);\n",
              "}\n",
              "\n",
              "#sk-container-id-1 div.sk-container {\n",
              "  /* jupyter's `normalize.less` sets `[hidden] { display: none; }`\n",
              "     but bootstrap.min.css set `[hidden] { display: none !important; }`\n",
              "     so we also need the `!important` here to be able to override the\n",
              "     default hidden behavior on the sphinx rendered scikit-learn.org.\n",
              "     See: https://github.com/scikit-learn/scikit-learn/issues/21755 */\n",
              "  display: inline-block !important;\n",
              "  position: relative;\n",
              "}\n",
              "\n",
              "#sk-container-id-1 div.sk-text-repr-fallback {\n",
              "  display: none;\n",
              "}\n",
              "\n",
              "div.sk-parallel-item,\n",
              "div.sk-serial,\n",
              "div.sk-item {\n",
              "  /* draw centered vertical line to link estimators */\n",
              "  background-image: linear-gradient(var(--sklearn-color-text-on-default-background), var(--sklearn-color-text-on-default-background));\n",
              "  background-size: 2px 100%;\n",
              "  background-repeat: no-repeat;\n",
              "  background-position: center center;\n",
              "}\n",
              "\n",
              "/* Parallel-specific style estimator block */\n",
              "\n",
              "#sk-container-id-1 div.sk-parallel-item::after {\n",
              "  content: \"\";\n",
              "  width: 100%;\n",
              "  border-bottom: 2px solid var(--sklearn-color-text-on-default-background);\n",
              "  flex-grow: 1;\n",
              "}\n",
              "\n",
              "#sk-container-id-1 div.sk-parallel {\n",
              "  display: flex;\n",
              "  align-items: stretch;\n",
              "  justify-content: center;\n",
              "  background-color: var(--sklearn-color-background);\n",
              "  position: relative;\n",
              "}\n",
              "\n",
              "#sk-container-id-1 div.sk-parallel-item {\n",
              "  display: flex;\n",
              "  flex-direction: column;\n",
              "}\n",
              "\n",
              "#sk-container-id-1 div.sk-parallel-item:first-child::after {\n",
              "  align-self: flex-end;\n",
              "  width: 50%;\n",
              "}\n",
              "\n",
              "#sk-container-id-1 div.sk-parallel-item:last-child::after {\n",
              "  align-self: flex-start;\n",
              "  width: 50%;\n",
              "}\n",
              "\n",
              "#sk-container-id-1 div.sk-parallel-item:only-child::after {\n",
              "  width: 0;\n",
              "}\n",
              "\n",
              "/* Serial-specific style estimator block */\n",
              "\n",
              "#sk-container-id-1 div.sk-serial {\n",
              "  display: flex;\n",
              "  flex-direction: column;\n",
              "  align-items: center;\n",
              "  background-color: var(--sklearn-color-background);\n",
              "  padding-right: 1em;\n",
              "  padding-left: 1em;\n",
              "}\n",
              "\n",
              "\n",
              "/* Toggleable style: style used for estimator/Pipeline/ColumnTransformer box that is\n",
              "clickable and can be expanded/collapsed.\n",
              "- Pipeline and ColumnTransformer use this feature and define the default style\n",
              "- Estimators will overwrite some part of the style using the `sk-estimator` class\n",
              "*/\n",
              "\n",
              "/* Pipeline and ColumnTransformer style (default) */\n",
              "\n",
              "#sk-container-id-1 div.sk-toggleable {\n",
              "  /* Default theme specific background. It is overwritten whether we have a\n",
              "  specific estimator or a Pipeline/ColumnTransformer */\n",
              "  background-color: var(--sklearn-color-background);\n",
              "}\n",
              "\n",
              "/* Toggleable label */\n",
              "#sk-container-id-1 label.sk-toggleable__label {\n",
              "  cursor: pointer;\n",
              "  display: block;\n",
              "  width: 100%;\n",
              "  margin-bottom: 0;\n",
              "  padding: 0.5em;\n",
              "  box-sizing: border-box;\n",
              "  text-align: center;\n",
              "}\n",
              "\n",
              "#sk-container-id-1 label.sk-toggleable__label-arrow:before {\n",
              "  /* Arrow on the left of the label */\n",
              "  content: \"▸\";\n",
              "  float: left;\n",
              "  margin-right: 0.25em;\n",
              "  color: var(--sklearn-color-icon);\n",
              "}\n",
              "\n",
              "#sk-container-id-1 label.sk-toggleable__label-arrow:hover:before {\n",
              "  color: var(--sklearn-color-text);\n",
              "}\n",
              "\n",
              "/* Toggleable content - dropdown */\n",
              "\n",
              "#sk-container-id-1 div.sk-toggleable__content {\n",
              "  max-height: 0;\n",
              "  max-width: 0;\n",
              "  overflow: hidden;\n",
              "  text-align: left;\n",
              "  /* unfitted */\n",
              "  background-color: var(--sklearn-color-unfitted-level-0);\n",
              "}\n",
              "\n",
              "#sk-container-id-1 div.sk-toggleable__content.fitted {\n",
              "  /* fitted */\n",
              "  background-color: var(--sklearn-color-fitted-level-0);\n",
              "}\n",
              "\n",
              "#sk-container-id-1 div.sk-toggleable__content pre {\n",
              "  margin: 0.2em;\n",
              "  border-radius: 0.25em;\n",
              "  color: var(--sklearn-color-text);\n",
              "  /* unfitted */\n",
              "  background-color: var(--sklearn-color-unfitted-level-0);\n",
              "}\n",
              "\n",
              "#sk-container-id-1 div.sk-toggleable__content.fitted pre {\n",
              "  /* unfitted */\n",
              "  background-color: var(--sklearn-color-fitted-level-0);\n",
              "}\n",
              "\n",
              "#sk-container-id-1 input.sk-toggleable__control:checked~div.sk-toggleable__content {\n",
              "  /* Expand drop-down */\n",
              "  max-height: 200px;\n",
              "  max-width: 100%;\n",
              "  overflow: auto;\n",
              "}\n",
              "\n",
              "#sk-container-id-1 input.sk-toggleable__control:checked~label.sk-toggleable__label-arrow:before {\n",
              "  content: \"▾\";\n",
              "}\n",
              "\n",
              "/* Pipeline/ColumnTransformer-specific style */\n",
              "\n",
              "#sk-container-id-1 div.sk-label input.sk-toggleable__control:checked~label.sk-toggleable__label {\n",
              "  color: var(--sklearn-color-text);\n",
              "  background-color: var(--sklearn-color-unfitted-level-2);\n",
              "}\n",
              "\n",
              "#sk-container-id-1 div.sk-label.fitted input.sk-toggleable__control:checked~label.sk-toggleable__label {\n",
              "  background-color: var(--sklearn-color-fitted-level-2);\n",
              "}\n",
              "\n",
              "/* Estimator-specific style */\n",
              "\n",
              "/* Colorize estimator box */\n",
              "#sk-container-id-1 div.sk-estimator input.sk-toggleable__control:checked~label.sk-toggleable__label {\n",
              "  /* unfitted */\n",
              "  background-color: var(--sklearn-color-unfitted-level-2);\n",
              "}\n",
              "\n",
              "#sk-container-id-1 div.sk-estimator.fitted input.sk-toggleable__control:checked~label.sk-toggleable__label {\n",
              "  /* fitted */\n",
              "  background-color: var(--sklearn-color-fitted-level-2);\n",
              "}\n",
              "\n",
              "#sk-container-id-1 div.sk-label label.sk-toggleable__label,\n",
              "#sk-container-id-1 div.sk-label label {\n",
              "  /* The background is the default theme color */\n",
              "  color: var(--sklearn-color-text-on-default-background);\n",
              "}\n",
              "\n",
              "/* On hover, darken the color of the background */\n",
              "#sk-container-id-1 div.sk-label:hover label.sk-toggleable__label {\n",
              "  color: var(--sklearn-color-text);\n",
              "  background-color: var(--sklearn-color-unfitted-level-2);\n",
              "}\n",
              "\n",
              "/* Label box, darken color on hover, fitted */\n",
              "#sk-container-id-1 div.sk-label.fitted:hover label.sk-toggleable__label.fitted {\n",
              "  color: var(--sklearn-color-text);\n",
              "  background-color: var(--sklearn-color-fitted-level-2);\n",
              "}\n",
              "\n",
              "/* Estimator label */\n",
              "\n",
              "#sk-container-id-1 div.sk-label label {\n",
              "  font-family: monospace;\n",
              "  font-weight: bold;\n",
              "  display: inline-block;\n",
              "  line-height: 1.2em;\n",
              "}\n",
              "\n",
              "#sk-container-id-1 div.sk-label-container {\n",
              "  text-align: center;\n",
              "}\n",
              "\n",
              "/* Estimator-specific */\n",
              "#sk-container-id-1 div.sk-estimator {\n",
              "  font-family: monospace;\n",
              "  border: 1px dotted var(--sklearn-color-border-box);\n",
              "  border-radius: 0.25em;\n",
              "  box-sizing: border-box;\n",
              "  margin-bottom: 0.5em;\n",
              "  /* unfitted */\n",
              "  background-color: var(--sklearn-color-unfitted-level-0);\n",
              "}\n",
              "\n",
              "#sk-container-id-1 div.sk-estimator.fitted {\n",
              "  /* fitted */\n",
              "  background-color: var(--sklearn-color-fitted-level-0);\n",
              "}\n",
              "\n",
              "/* on hover */\n",
              "#sk-container-id-1 div.sk-estimator:hover {\n",
              "  /* unfitted */\n",
              "  background-color: var(--sklearn-color-unfitted-level-2);\n",
              "}\n",
              "\n",
              "#sk-container-id-1 div.sk-estimator.fitted:hover {\n",
              "  /* fitted */\n",
              "  background-color: var(--sklearn-color-fitted-level-2);\n",
              "}\n",
              "\n",
              "/* Specification for estimator info (e.g. \"i\" and \"?\") */\n",
              "\n",
              "/* Common style for \"i\" and \"?\" */\n",
              "\n",
              ".sk-estimator-doc-link,\n",
              "a:link.sk-estimator-doc-link,\n",
              "a:visited.sk-estimator-doc-link {\n",
              "  float: right;\n",
              "  font-size: smaller;\n",
              "  line-height: 1em;\n",
              "  font-family: monospace;\n",
              "  background-color: var(--sklearn-color-background);\n",
              "  border-radius: 1em;\n",
              "  height: 1em;\n",
              "  width: 1em;\n",
              "  text-decoration: none !important;\n",
              "  margin-left: 1ex;\n",
              "  /* unfitted */\n",
              "  border: var(--sklearn-color-unfitted-level-1) 1pt solid;\n",
              "  color: var(--sklearn-color-unfitted-level-1);\n",
              "}\n",
              "\n",
              ".sk-estimator-doc-link.fitted,\n",
              "a:link.sk-estimator-doc-link.fitted,\n",
              "a:visited.sk-estimator-doc-link.fitted {\n",
              "  /* fitted */\n",
              "  border: var(--sklearn-color-fitted-level-1) 1pt solid;\n",
              "  color: var(--sklearn-color-fitted-level-1);\n",
              "}\n",
              "\n",
              "/* On hover */\n",
              "div.sk-estimator:hover .sk-estimator-doc-link:hover,\n",
              ".sk-estimator-doc-link:hover,\n",
              "div.sk-label-container:hover .sk-estimator-doc-link:hover,\n",
              ".sk-estimator-doc-link:hover {\n",
              "  /* unfitted */\n",
              "  background-color: var(--sklearn-color-unfitted-level-3);\n",
              "  color: var(--sklearn-color-background);\n",
              "  text-decoration: none;\n",
              "}\n",
              "\n",
              "div.sk-estimator.fitted:hover .sk-estimator-doc-link.fitted:hover,\n",
              ".sk-estimator-doc-link.fitted:hover,\n",
              "div.sk-label-container:hover .sk-estimator-doc-link.fitted:hover,\n",
              ".sk-estimator-doc-link.fitted:hover {\n",
              "  /* fitted */\n",
              "  background-color: var(--sklearn-color-fitted-level-3);\n",
              "  color: var(--sklearn-color-background);\n",
              "  text-decoration: none;\n",
              "}\n",
              "\n",
              "/* Span, style for the box shown on hovering the info icon */\n",
              ".sk-estimator-doc-link span {\n",
              "  display: none;\n",
              "  z-index: 9999;\n",
              "  position: relative;\n",
              "  font-weight: normal;\n",
              "  right: .2ex;\n",
              "  padding: .5ex;\n",
              "  margin: .5ex;\n",
              "  width: min-content;\n",
              "  min-width: 20ex;\n",
              "  max-width: 50ex;\n",
              "  color: var(--sklearn-color-text);\n",
              "  box-shadow: 2pt 2pt 4pt #999;\n",
              "  /* unfitted */\n",
              "  background: var(--sklearn-color-unfitted-level-0);\n",
              "  border: .5pt solid var(--sklearn-color-unfitted-level-3);\n",
              "}\n",
              "\n",
              ".sk-estimator-doc-link.fitted span {\n",
              "  /* fitted */\n",
              "  background: var(--sklearn-color-fitted-level-0);\n",
              "  border: var(--sklearn-color-fitted-level-3);\n",
              "}\n",
              "\n",
              ".sk-estimator-doc-link:hover span {\n",
              "  display: block;\n",
              "}\n",
              "\n",
              "/* \"?\"-specific style due to the `<a>` HTML tag */\n",
              "\n",
              "#sk-container-id-1 a.estimator_doc_link {\n",
              "  float: right;\n",
              "  font-size: 1rem;\n",
              "  line-height: 1em;\n",
              "  font-family: monospace;\n",
              "  background-color: var(--sklearn-color-background);\n",
              "  border-radius: 1rem;\n",
              "  height: 1rem;\n",
              "  width: 1rem;\n",
              "  text-decoration: none;\n",
              "  /* unfitted */\n",
              "  color: var(--sklearn-color-unfitted-level-1);\n",
              "  border: var(--sklearn-color-unfitted-level-1) 1pt solid;\n",
              "}\n",
              "\n",
              "#sk-container-id-1 a.estimator_doc_link.fitted {\n",
              "  /* fitted */\n",
              "  border: var(--sklearn-color-fitted-level-1) 1pt solid;\n",
              "  color: var(--sklearn-color-fitted-level-1);\n",
              "}\n",
              "\n",
              "/* On hover */\n",
              "#sk-container-id-1 a.estimator_doc_link:hover {\n",
              "  /* unfitted */\n",
              "  background-color: var(--sklearn-color-unfitted-level-3);\n",
              "  color: var(--sklearn-color-background);\n",
              "  text-decoration: none;\n",
              "}\n",
              "\n",
              "#sk-container-id-1 a.estimator_doc_link.fitted:hover {\n",
              "  /* fitted */\n",
              "  background-color: var(--sklearn-color-fitted-level-3);\n",
              "}\n",
              "</style><div id=\"sk-container-id-1\" class=\"sk-top-container\"><div class=\"sk-text-repr-fallback\"><pre>GASearchCV(crossover_probability=0.8, error_score=&#x27;raise&#x27;,\n",
              "           estimator=KerasClassifier(batch_size=128, epochs=20, model=&lt;function create_model at 0x7cc24ee4c7c0&gt;, model__activation=&#x27;relu&#x27;, model__learning_rate=np.float64(0.014579620130878344), model__neurons_layer1=245, model__neurons_layer2=194, model__neurons_layer3=116, verbose=0),\n",
              "           generations=3, mutation_probab...\n",
              "                       &#x27;model__learning_rate&#x27;: &lt;sklearn_genetic.space.space.Continuous object at 0x7cc24e6dcb50&gt;,\n",
              "                       &#x27;model__neurons_layer1&#x27;: &lt;sklearn_genetic.space.space.Integer object at 0x7cc24e6cfb10&gt;,\n",
              "                       &#x27;model__neurons_layer2&#x27;: &lt;sklearn_genetic.space.space.Integer object at 0x7cc24ef94650&gt;,\n",
              "                       &#x27;model__neurons_layer3&#x27;: &lt;sklearn_genetic.space.space.Integer object at 0x7cc24eea8bd0&gt;},\n",
              "           population_size=5, return_train_score=True, scoring=&#x27;accuracy&#x27;,\n",
              "           warm_start_configs=[])</pre><b>In a Jupyter environment, please rerun this cell to show the HTML representation or trust the notebook. <br />On GitHub, the HTML representation is unable to render, please try loading this page with nbviewer.org.</b></div><div class=\"sk-container\" hidden><div class=\"sk-item sk-dashed-wrapped\"><div class=\"sk-label-container\"><div class=\"sk-label fitted sk-toggleable\"><input class=\"sk-toggleable__control sk-hidden--visually\" id=\"sk-estimator-id-1\" type=\"checkbox\" ><label for=\"sk-estimator-id-1\" class=\"sk-toggleable__label fitted sk-toggleable__label-arrow fitted\">&nbsp;GASearchCV<span class=\"sk-estimator-doc-link fitted\">i<span>Fitted</span></span></label><div class=\"sk-toggleable__content fitted\"><pre>GASearchCV(crossover_probability=0.8, error_score=&#x27;raise&#x27;,\n",
              "           estimator=KerasClassifier(batch_size=128, epochs=20, model=&lt;function create_model at 0x7cc24ee4c7c0&gt;, model__activation=&#x27;relu&#x27;, model__learning_rate=np.float64(0.014579620130878344), model__neurons_layer1=245, model__neurons_layer2=194, model__neurons_layer3=116, verbose=0),\n",
              "           generations=3, mutation_probab...\n",
              "                       &#x27;model__learning_rate&#x27;: &lt;sklearn_genetic.space.space.Continuous object at 0x7cc24e6dcb50&gt;,\n",
              "                       &#x27;model__neurons_layer1&#x27;: &lt;sklearn_genetic.space.space.Integer object at 0x7cc24e6cfb10&gt;,\n",
              "                       &#x27;model__neurons_layer2&#x27;: &lt;sklearn_genetic.space.space.Integer object at 0x7cc24ef94650&gt;,\n",
              "                       &#x27;model__neurons_layer3&#x27;: &lt;sklearn_genetic.space.space.Integer object at 0x7cc24eea8bd0&gt;},\n",
              "           population_size=5, return_train_score=True, scoring=&#x27;accuracy&#x27;,\n",
              "           warm_start_configs=[])</pre></div> </div></div><div class=\"sk-parallel\"><div class=\"sk-parallel-item\"><div class=\"sk-item\"><div class=\"sk-label-container\"><div class=\"sk-label fitted sk-toggleable\"><input class=\"sk-toggleable__control sk-hidden--visually\" id=\"sk-estimator-id-2\" type=\"checkbox\" ><label for=\"sk-estimator-id-2\" class=\"sk-toggleable__label fitted sk-toggleable__label-arrow fitted\">best_estimator_: KerasClassifier</label><div class=\"sk-toggleable__content fitted\"><pre>KerasClassifier(\n",
              "\tmodel=&lt;function create_model at 0x7cc24ee4c7c0&gt;\n",
              "\tbuild_fn=None\n",
              "\twarm_start=False\n",
              "\trandom_state=None\n",
              "\toptimizer=rmsprop\n",
              "\tloss=None\n",
              "\tmetrics=None\n",
              "\tbatch_size=128\n",
              "\tvalidation_batch_size=None\n",
              "\tverbose=0\n",
              "\tcallbacks=None\n",
              "\tvalidation_split=0.0\n",
              "\tshuffle=True\n",
              "\trun_eagerly=False\n",
              "\tepochs=20\n",
              "\tclass_weight=None\n",
              "\tmodel__neurons_layer1=245\n",
              "\tmodel__neurons_layer2=194\n",
              "\tmodel__neurons_layer3=116\n",
              "\tmodel__learning_rate=0.014579620130878344\n",
              "\tmodel__activation=relu\n",
              ")</pre></div> </div></div><div class=\"sk-serial\"><div class=\"sk-item\"><div class=\"sk-estimator fitted sk-toggleable\"><input class=\"sk-toggleable__control sk-hidden--visually\" id=\"sk-estimator-id-3\" type=\"checkbox\" ><label for=\"sk-estimator-id-3\" class=\"sk-toggleable__label fitted sk-toggleable__label-arrow fitted\">KerasClassifier</label><div class=\"sk-toggleable__content fitted\"><pre>KerasClassifier(\n",
              "\tmodel=&lt;function create_model at 0x7cc24ee4c7c0&gt;\n",
              "\tbuild_fn=None\n",
              "\twarm_start=False\n",
              "\trandom_state=None\n",
              "\toptimizer=rmsprop\n",
              "\tloss=None\n",
              "\tmetrics=None\n",
              "\tbatch_size=128\n",
              "\tvalidation_batch_size=None\n",
              "\tverbose=0\n",
              "\tcallbacks=None\n",
              "\tvalidation_split=0.0\n",
              "\tshuffle=True\n",
              "\trun_eagerly=False\n",
              "\tepochs=20\n",
              "\tclass_weight=None\n",
              "\tmodel__neurons_layer1=245\n",
              "\tmodel__neurons_layer2=194\n",
              "\tmodel__neurons_layer3=116\n",
              "\tmodel__learning_rate=0.014579620130878344\n",
              "\tmodel__activation=relu\n",
              ")</pre></div> </div></div></div></div></div></div></div></div></div>"
            ]
          },
          "metadata": {},
          "execution_count": 37
        }
      ]
    },
    {
      "cell_type": "code",
      "source": [
        "# بهترین پارامترهای یافت شده\n",
        "best_params = evolved_estimator.best_params_\n",
        "print(\"\\nبهترین پارامترهای یافت شده:\")\n",
        "for param, value in best_params.items():\n",
        "    print(f\"{param}: {value}\")"
      ],
      "metadata": {
        "id": "B4pKizB3_aZK",
        "colab": {
          "base_uri": "https://localhost:8080/"
        },
        "outputId": "a229cef3-891a-4f7e-8e06-3ee8a9f549f2"
      },
      "execution_count": 38,
      "outputs": [
        {
          "output_type": "stream",
          "name": "stdout",
          "text": [
            "\n",
            "بهترین پارامترهای یافت شده:\n",
            "model__neurons_layer1: 245\n",
            "model__neurons_layer2: 194\n",
            "model__neurons_layer3: 116\n",
            "model__learning_rate: 0.014579620130878344\n",
            "model__activation: relu\n"
          ]
        }
      ]
    },
    {
      "cell_type": "code",
      "source": [
        "# آموزش مدل نهایی با بهترین پارامترها\n",
        "final_model = create_model(\n",
        "    neurons_layer1=best_params['model__neurons_layer1'],\n",
        "    neurons_layer2=best_params['model__neurons_layer2'],\n",
        "    neurons_layer3=best_params['model__neurons_layer3'],\n",
        "    learning_rate=best_params['model__learning_rate'],\n",
        "    activation=best_params['model__activation']\n",
        ")"
      ],
      "metadata": {
        "id": "8PuBO1UH_dgh"
      },
      "execution_count": 39,
      "outputs": []
    },
    {
      "cell_type": "code",
      "source": [
        "history = final_model.fit(\n",
        "    x_train, y_train_oh,\n",
        "    epochs=50,\n",
        "    batch_size=128,\n",
        "    validation_data=(x_val, y_val_oh),\n",
        "    verbose=1\n",
        ")"
      ],
      "metadata": {
        "id": "3HgqX_27_f2l",
        "colab": {
          "base_uri": "https://localhost:8080/"
        },
        "outputId": "f386703a-e46c-4719-c885-315c3b87fc53"
      },
      "execution_count": 40,
      "outputs": [
        {
          "output_type": "stream",
          "name": "stdout",
          "text": [
            "Epoch 1/50\n",
            "\u001b[1m319/319\u001b[0m \u001b[32m━━━━━━━━━━━━━━━━━━━━\u001b[0m\u001b[37m\u001b[0m \u001b[1m5s\u001b[0m 12ms/step - accuracy: 0.1794 - loss: 5.4502 - val_accuracy: 0.3014 - val_loss: 1.9069\n",
            "Epoch 2/50\n",
            "\u001b[1m319/319\u001b[0m \u001b[32m━━━━━━━━━━━━━━━━━━━━\u001b[0m\u001b[37m\u001b[0m \u001b[1m1s\u001b[0m 3ms/step - accuracy: 0.2957 - loss: 1.9011 - val_accuracy: 0.3339 - val_loss: 1.8267\n",
            "Epoch 3/50\n",
            "\u001b[1m319/319\u001b[0m \u001b[32m━━━━━━━━━━━━━━━━━━━━\u001b[0m\u001b[37m\u001b[0m \u001b[1m1s\u001b[0m 4ms/step - accuracy: 0.3250 - loss: 1.8520 - val_accuracy: 0.3396 - val_loss: 1.8374\n",
            "Epoch 4/50\n",
            "\u001b[1m319/319\u001b[0m \u001b[32m━━━━━━━━━━━━━━━━━━━━\u001b[0m\u001b[37m\u001b[0m \u001b[1m1s\u001b[0m 3ms/step - accuracy: 0.3174 - loss: 1.8652 - val_accuracy: 0.3367 - val_loss: 1.8251\n",
            "Epoch 5/50\n",
            "\u001b[1m319/319\u001b[0m \u001b[32m━━━━━━━━━━━━━━━━━━━━\u001b[0m\u001b[37m\u001b[0m \u001b[1m1s\u001b[0m 4ms/step - accuracy: 0.3243 - loss: 1.8386 - val_accuracy: 0.3471 - val_loss: 1.8056\n",
            "Epoch 6/50\n",
            "\u001b[1m319/319\u001b[0m \u001b[32m━━━━━━━━━━━━━━━━━━━━\u001b[0m\u001b[37m\u001b[0m \u001b[1m2s\u001b[0m 4ms/step - accuracy: 0.3291 - loss: 1.8379 - val_accuracy: 0.3363 - val_loss: 1.8121\n",
            "Epoch 7/50\n",
            "\u001b[1m319/319\u001b[0m \u001b[32m━━━━━━━━━━━━━━━━━━━━\u001b[0m\u001b[37m\u001b[0m \u001b[1m1s\u001b[0m 3ms/step - accuracy: 0.3303 - loss: 1.8374 - val_accuracy: 0.3390 - val_loss: 1.8033\n",
            "Epoch 8/50\n",
            "\u001b[1m319/319\u001b[0m \u001b[32m━━━━━━━━━━━━━━━━━━━━\u001b[0m\u001b[37m\u001b[0m \u001b[1m1s\u001b[0m 4ms/step - accuracy: 0.3328 - loss: 1.8168 - val_accuracy: 0.3311 - val_loss: 1.8404\n",
            "Epoch 9/50\n",
            "\u001b[1m319/319\u001b[0m \u001b[32m━━━━━━━━━━━━━━━━━━━━\u001b[0m\u001b[37m\u001b[0m \u001b[1m1s\u001b[0m 4ms/step - accuracy: 0.3374 - loss: 1.8203 - val_accuracy: 0.3291 - val_loss: 1.8188\n",
            "Epoch 10/50\n",
            "\u001b[1m319/319\u001b[0m \u001b[32m━━━━━━━━━━━━━━━━━━━━\u001b[0m\u001b[37m\u001b[0m \u001b[1m1s\u001b[0m 4ms/step - accuracy: 0.3302 - loss: 1.8230 - val_accuracy: 0.3372 - val_loss: 1.8152\n",
            "Epoch 11/50\n",
            "\u001b[1m319/319\u001b[0m \u001b[32m━━━━━━━━━━━━━━━━━━━━\u001b[0m\u001b[37m\u001b[0m \u001b[1m1s\u001b[0m 3ms/step - accuracy: 0.3306 - loss: 1.8243 - val_accuracy: 0.3375 - val_loss: 1.8172\n",
            "Epoch 12/50\n",
            "\u001b[1m319/319\u001b[0m \u001b[32m━━━━━━━━━━━━━━━━━━━━\u001b[0m\u001b[37m\u001b[0m \u001b[1m1s\u001b[0m 4ms/step - accuracy: 0.3354 - loss: 1.8091 - val_accuracy: 0.3522 - val_loss: 1.7830\n",
            "Epoch 13/50\n",
            "\u001b[1m319/319\u001b[0m \u001b[32m━━━━━━━━━━━━━━━━━━━━\u001b[0m\u001b[37m\u001b[0m \u001b[1m1s\u001b[0m 4ms/step - accuracy: 0.3320 - loss: 1.8332 - val_accuracy: 0.3237 - val_loss: 1.8737\n",
            "Epoch 14/50\n",
            "\u001b[1m319/319\u001b[0m \u001b[32m━━━━━━━━━━━━━━━━━━━━\u001b[0m\u001b[37m\u001b[0m \u001b[1m2s\u001b[0m 5ms/step - accuracy: 0.3239 - loss: 1.8367 - val_accuracy: 0.3295 - val_loss: 1.8448\n",
            "Epoch 15/50\n",
            "\u001b[1m319/319\u001b[0m \u001b[32m━━━━━━━━━━━━━━━━━━━━\u001b[0m\u001b[37m\u001b[0m \u001b[1m1s\u001b[0m 4ms/step - accuracy: 0.3322 - loss: 1.8097 - val_accuracy: 0.3403 - val_loss: 1.8017\n",
            "Epoch 16/50\n",
            "\u001b[1m319/319\u001b[0m \u001b[32m━━━━━━━━━━━━━━━━━━━━\u001b[0m\u001b[37m\u001b[0m \u001b[1m1s\u001b[0m 3ms/step - accuracy: 0.3393 - loss: 1.8032 - val_accuracy: 0.3342 - val_loss: 1.8271\n",
            "Epoch 17/50\n",
            "\u001b[1m319/319\u001b[0m \u001b[32m━━━━━━━━━━━━━━━━━━━━\u001b[0m\u001b[37m\u001b[0m \u001b[1m1s\u001b[0m 4ms/step - accuracy: 0.3362 - loss: 1.8164 - val_accuracy: 0.3372 - val_loss: 1.8422\n",
            "Epoch 18/50\n",
            "\u001b[1m319/319\u001b[0m \u001b[32m━━━━━━━━━━━━━━━━━━━━\u001b[0m\u001b[37m\u001b[0m \u001b[1m1s\u001b[0m 4ms/step - accuracy: 0.3408 - loss: 1.8019 - val_accuracy: 0.3406 - val_loss: 1.8120\n",
            "Epoch 19/50\n",
            "\u001b[1m319/319\u001b[0m \u001b[32m━━━━━━━━━━━━━━━━━━━━\u001b[0m\u001b[37m\u001b[0m \u001b[1m1s\u001b[0m 4ms/step - accuracy: 0.3356 - loss: 1.8127 - val_accuracy: 0.3481 - val_loss: 1.8001\n",
            "Epoch 20/50\n",
            "\u001b[1m319/319\u001b[0m \u001b[32m━━━━━━━━━━━━━━━━━━━━\u001b[0m\u001b[37m\u001b[0m \u001b[1m1s\u001b[0m 4ms/step - accuracy: 0.3445 - loss: 1.7994 - val_accuracy: 0.3397 - val_loss: 1.8144\n",
            "Epoch 21/50\n",
            "\u001b[1m319/319\u001b[0m \u001b[32m━━━━━━━━━━━━━━━━━━━━\u001b[0m\u001b[37m\u001b[0m \u001b[1m1s\u001b[0m 3ms/step - accuracy: 0.3393 - loss: 1.8022 - val_accuracy: 0.3405 - val_loss: 1.8096\n",
            "Epoch 22/50\n",
            "\u001b[1m319/319\u001b[0m \u001b[32m━━━━━━━━━━━━━━━━━━━━\u001b[0m\u001b[37m\u001b[0m \u001b[1m1s\u001b[0m 4ms/step - accuracy: 0.3331 - loss: 1.8172 - val_accuracy: 0.3002 - val_loss: 1.8760\n",
            "Epoch 23/50\n",
            "\u001b[1m319/319\u001b[0m \u001b[32m━━━━━━━━━━━━━━━━━━━━\u001b[0m\u001b[37m\u001b[0m \u001b[1m1s\u001b[0m 4ms/step - accuracy: 0.3302 - loss: 1.8186 - val_accuracy: 0.3374 - val_loss: 1.7895\n",
            "Epoch 24/50\n",
            "\u001b[1m319/319\u001b[0m \u001b[32m━━━━━━━━━━━━━━━━━━━━\u001b[0m\u001b[37m\u001b[0m \u001b[1m2s\u001b[0m 4ms/step - accuracy: 0.3408 - loss: 1.7927 - val_accuracy: 0.3417 - val_loss: 1.8158\n",
            "Epoch 25/50\n",
            "\u001b[1m319/319\u001b[0m \u001b[32m━━━━━━━━━━━━━━━━━━━━\u001b[0m\u001b[37m\u001b[0m \u001b[1m1s\u001b[0m 4ms/step - accuracy: 0.3412 - loss: 1.7959 - val_accuracy: 0.3547 - val_loss: 1.7800\n",
            "Epoch 26/50\n",
            "\u001b[1m319/319\u001b[0m \u001b[32m━━━━━━━━━━━━━━━━━━━━\u001b[0m\u001b[37m\u001b[0m \u001b[1m1s\u001b[0m 4ms/step - accuracy: 0.3430 - loss: 1.7996 - val_accuracy: 0.3519 - val_loss: 1.8002\n",
            "Epoch 27/50\n",
            "\u001b[1m319/319\u001b[0m \u001b[32m━━━━━━━━━━━━━━━━━━━━\u001b[0m\u001b[37m\u001b[0m \u001b[1m1s\u001b[0m 4ms/step - accuracy: 0.3392 - loss: 1.8048 - val_accuracy: 0.3393 - val_loss: 1.8006\n",
            "Epoch 28/50\n",
            "\u001b[1m319/319\u001b[0m \u001b[32m━━━━━━━━━━━━━━━━━━━━\u001b[0m\u001b[37m\u001b[0m \u001b[1m1s\u001b[0m 3ms/step - accuracy: 0.3416 - loss: 1.8003 - val_accuracy: 0.3507 - val_loss: 1.7846\n",
            "Epoch 29/50\n",
            "\u001b[1m319/319\u001b[0m \u001b[32m━━━━━━━━━━━━━━━━━━━━\u001b[0m\u001b[37m\u001b[0m \u001b[1m1s\u001b[0m 3ms/step - accuracy: 0.3495 - loss: 1.7895 - val_accuracy: 0.3144 - val_loss: 1.8466\n",
            "Epoch 30/50\n",
            "\u001b[1m319/319\u001b[0m \u001b[32m━━━━━━━━━━━━━━━━━━━━\u001b[0m\u001b[37m\u001b[0m \u001b[1m1s\u001b[0m 4ms/step - accuracy: 0.3345 - loss: 1.8032 - val_accuracy: 0.3306 - val_loss: 1.8172\n",
            "Epoch 31/50\n",
            "\u001b[1m319/319\u001b[0m \u001b[32m━━━━━━━━━━━━━━━━━━━━\u001b[0m\u001b[37m\u001b[0m \u001b[1m1s\u001b[0m 4ms/step - accuracy: 0.3337 - loss: 1.8117 - val_accuracy: 0.3419 - val_loss: 1.7917\n",
            "Epoch 32/50\n",
            "\u001b[1m319/319\u001b[0m \u001b[32m━━━━━━━━━━━━━━━━━━━━\u001b[0m\u001b[37m\u001b[0m \u001b[1m2s\u001b[0m 5ms/step - accuracy: 0.3447 - loss: 1.7912 - val_accuracy: 0.3488 - val_loss: 1.7859\n",
            "Epoch 33/50\n",
            "\u001b[1m319/319\u001b[0m \u001b[32m━━━━━━━━━━━━━━━━━━━━\u001b[0m\u001b[37m\u001b[0m \u001b[1m1s\u001b[0m 4ms/step - accuracy: 0.3398 - loss: 1.8019 - val_accuracy: 0.3199 - val_loss: 1.8391\n",
            "Epoch 34/50\n",
            "\u001b[1m319/319\u001b[0m \u001b[32m━━━━━━━━━━━━━━━━━━━━\u001b[0m\u001b[37m\u001b[0m \u001b[1m1s\u001b[0m 3ms/step - accuracy: 0.3360 - loss: 1.8196 - val_accuracy: 0.3564 - val_loss: 1.7938\n",
            "Epoch 35/50\n",
            "\u001b[1m319/319\u001b[0m \u001b[32m━━━━━━━━━━━━━━━━━━━━\u001b[0m\u001b[37m\u001b[0m \u001b[1m1s\u001b[0m 3ms/step - accuracy: 0.3397 - loss: 1.7892 - val_accuracy: 0.3494 - val_loss: 1.7840\n",
            "Epoch 36/50\n",
            "\u001b[1m319/319\u001b[0m \u001b[32m━━━━━━━━━━━━━━━━━━━━\u001b[0m\u001b[37m\u001b[0m \u001b[1m1s\u001b[0m 4ms/step - accuracy: 0.3414 - loss: 1.7875 - val_accuracy: 0.3352 - val_loss: 1.7982\n",
            "Epoch 37/50\n",
            "\u001b[1m319/319\u001b[0m \u001b[32m━━━━━━━━━━━━━━━━━━━━\u001b[0m\u001b[37m\u001b[0m \u001b[1m1s\u001b[0m 4ms/step - accuracy: 0.3378 - loss: 1.7968 - val_accuracy: 0.3337 - val_loss: 1.8180\n",
            "Epoch 38/50\n",
            "\u001b[1m319/319\u001b[0m \u001b[32m━━━━━━━━━━━━━━━━━━━━\u001b[0m\u001b[37m\u001b[0m \u001b[1m1s\u001b[0m 4ms/step - accuracy: 0.3409 - loss: 1.7951 - val_accuracy: 0.3348 - val_loss: 1.8330\n",
            "Epoch 39/50\n",
            "\u001b[1m319/319\u001b[0m \u001b[32m━━━━━━━━━━━━━━━━━━━━\u001b[0m\u001b[37m\u001b[0m \u001b[1m1s\u001b[0m 4ms/step - accuracy: 0.3340 - loss: 1.8039 - val_accuracy: 0.3375 - val_loss: 1.8254\n",
            "Epoch 40/50\n",
            "\u001b[1m319/319\u001b[0m \u001b[32m━━━━━━━━━━━━━━━━━━━━\u001b[0m\u001b[37m\u001b[0m \u001b[1m1s\u001b[0m 4ms/step - accuracy: 0.3379 - loss: 1.8010 - val_accuracy: 0.3374 - val_loss: 1.8162\n",
            "Epoch 41/50\n",
            "\u001b[1m319/319\u001b[0m \u001b[32m━━━━━━━━━━━━━━━━━━━━\u001b[0m\u001b[37m\u001b[0m \u001b[1m1s\u001b[0m 4ms/step - accuracy: 0.3435 - loss: 1.7869 - val_accuracy: 0.3526 - val_loss: 1.7783\n",
            "Epoch 42/50\n",
            "\u001b[1m319/319\u001b[0m \u001b[32m━━━━━━━━━━━━━━━━━━━━\u001b[0m\u001b[37m\u001b[0m \u001b[1m2s\u001b[0m 4ms/step - accuracy: 0.3463 - loss: 1.7837 - val_accuracy: 0.3143 - val_loss: 1.8469\n",
            "Epoch 43/50\n",
            "\u001b[1m319/319\u001b[0m \u001b[32m━━━━━━━━━━━━━━━━━━━━\u001b[0m\u001b[37m\u001b[0m \u001b[1m1s\u001b[0m 3ms/step - accuracy: 0.3358 - loss: 1.8012 - val_accuracy: 0.3441 - val_loss: 1.8288\n",
            "Epoch 44/50\n",
            "\u001b[1m319/319\u001b[0m \u001b[32m━━━━━━━━━━━━━━━━━━━━\u001b[0m\u001b[37m\u001b[0m \u001b[1m1s\u001b[0m 4ms/step - accuracy: 0.3379 - loss: 1.7906 - val_accuracy: 0.3373 - val_loss: 1.8009\n",
            "Epoch 45/50\n",
            "\u001b[1m319/319\u001b[0m \u001b[32m━━━━━━━━━━━━━━━━━━━━\u001b[0m\u001b[37m\u001b[0m \u001b[1m1s\u001b[0m 4ms/step - accuracy: 0.3419 - loss: 1.7851 - val_accuracy: 0.3552 - val_loss: 1.7789\n",
            "Epoch 46/50\n",
            "\u001b[1m319/319\u001b[0m \u001b[32m━━━━━━━━━━━━━━━━━━━━\u001b[0m\u001b[37m\u001b[0m \u001b[1m1s\u001b[0m 4ms/step - accuracy: 0.3376 - loss: 1.7926 - val_accuracy: 0.3436 - val_loss: 1.7858\n",
            "Epoch 47/50\n",
            "\u001b[1m319/319\u001b[0m \u001b[32m━━━━━━━━━━━━━━━━━━━━\u001b[0m\u001b[37m\u001b[0m \u001b[1m1s\u001b[0m 4ms/step - accuracy: 0.3453 - loss: 1.7841 - val_accuracy: 0.3352 - val_loss: 1.8238\n",
            "Epoch 48/50\n",
            "\u001b[1m319/319\u001b[0m \u001b[32m━━━━━━━━━━━━━━━━━━━━\u001b[0m\u001b[37m\u001b[0m \u001b[1m1s\u001b[0m 4ms/step - accuracy: 0.3358 - loss: 1.8005 - val_accuracy: 0.3512 - val_loss: 1.7901\n",
            "Epoch 49/50\n",
            "\u001b[1m319/319\u001b[0m \u001b[32m━━━━━━━━━━━━━━━━━━━━\u001b[0m\u001b[37m\u001b[0m \u001b[1m1s\u001b[0m 4ms/step - accuracy: 0.3475 - loss: 1.7761 - val_accuracy: 0.3496 - val_loss: 1.7888\n",
            "Epoch 50/50\n",
            "\u001b[1m319/319\u001b[0m \u001b[32m━━━━━━━━━━━━━━━━━━━━\u001b[0m\u001b[37m\u001b[0m \u001b[1m2s\u001b[0m 5ms/step - accuracy: 0.3456 - loss: 1.7820 - val_accuracy: 0.3301 - val_loss: 1.8504\n"
          ]
        }
      ]
    },
    {
      "cell_type": "code",
      "source": [
        "# ارزیابی مدل نهایی\n",
        "def evaluate_model(model, X, y_true, y_true_oh):\n",
        "    y_pred_proba = model.predict(X)\n",
        "    y_pred = np.argmax(y_pred_proba, axis=1)\n",
        "    y_true_labels = np.argmax(y_true_oh, axis=1) if y_true_oh.ndim > 1 else y_true\n",
        "\n",
        "    acc = accuracy_score(y_true_labels, y_pred)\n",
        "    f1 = f1_score(y_true_labels, y_pred, average='macro')\n",
        "    roc_auc = roc_auc_score(y_true_oh, y_pred_proba, multi_class='ovr', average='macro')\n",
        "\n",
        "    return acc, f1, roc_auc"
      ],
      "metadata": {
        "id": "ofXwnRxY_lqX"
      },
      "execution_count": 41,
      "outputs": []
    },
    {
      "cell_type": "code",
      "source": [
        "# محاسبه معیارها\n",
        "genetic_train_acc, genetic_train_f1, genetic_train_auc = evaluate_model(final_model, x_train, y_train, y_train_oh)\n",
        "genetic_val_acc, genetic_val_f1, genetic_val_auc = evaluate_model(final_model, x_val, y_val, y_val_oh)\n",
        "genetic_test_acc, genetic_test_f1, genetic_test_auc = evaluate_model(final_model, x_test, y_test, y_test_oh)"
      ],
      "metadata": {
        "id": "M3zDrSfu_oyd",
        "colab": {
          "base_uri": "https://localhost:8080/"
        },
        "outputId": "d0a5eb85-b2f0-40d5-a72e-f6115a4bf417"
      },
      "execution_count": 42,
      "outputs": [
        {
          "output_type": "stream",
          "name": "stdout",
          "text": [
            "\u001b[1m1275/1275\u001b[0m \u001b[32m━━━━━━━━━━━━━━━━━━━━\u001b[0m\u001b[37m\u001b[0m \u001b[1m2s\u001b[0m 1ms/step\n",
            "\u001b[1m319/319\u001b[0m \u001b[32m━━━━━━━━━━━━━━━━━━━━\u001b[0m\u001b[37m\u001b[0m \u001b[1m1s\u001b[0m 3ms/step\n",
            "\u001b[1m282/282\u001b[0m \u001b[32m━━━━━━━━━━━━━━━━━━━━\u001b[0m\u001b[37m\u001b[0m \u001b[1m1s\u001b[0m 2ms/step\n"
          ]
        }
      ]
    },
    {
      "cell_type": "code",
      "source": [
        "# نتایج مدل بهینه‌سازی شده با الگوریتم ژنتیک\n",
        "table_genetic = [\n",
        "    [\"Genetic - Train\", genetic_train_acc, genetic_train_f1, genetic_train_auc],\n",
        "    [\"Genetic - Validation\", genetic_val_acc, genetic_val_f1, genetic_val_auc],\n",
        "    [\"Genetic - Test\", genetic_test_acc, genetic_test_f1, genetic_test_auc]\n",
        "]"
      ],
      "metadata": {
        "id": "GHtNlttM_uX-"
      },
      "execution_count": 43,
      "outputs": []
    },
    {
      "cell_type": "code",
      "source": [
        "# نتایج مدل Wide & Deep (از مرحله قبل)\n",
        "table_wd = [\n",
        "    [\"Wide & Deep - Train\", 0.5523, 0.5476, 0.9382],\n",
        "    [\"Wide & Deep - Validation\", 0.4685, 0.4641, 0.9137],\n",
        "    [\"Wide & Deep - Test\", 0.4731, 0.4689, 0.9145]\n",
        "]"
      ],
      "metadata": {
        "id": "OeP2RwwJ_x19"
      },
      "execution_count": 44,
      "outputs": []
    },
    {
      "cell_type": "code",
      "source": [
        "# نمایش جداول\n",
        "headers = [\"Model/Dataset\", \"Accuracy\", \"F1-Score\", \"ROC AUC\"]\n",
        "print(\"\\nنتایج مدل بهینه‌سازی شده با الگوریتم ژنتیک:\")\n",
        "print(tabulate(table_genetic, headers=headers, tablefmt=\"grid\", floatfmt=\".4f\"))\n",
        "\n",
        "print(\"\\nنتایج مدل Wide & Deep:\")\n",
        "print(tabulate(table_wd, headers=headers, tablefmt=\"grid\", floatfmt=\".4f\"))"
      ],
      "metadata": {
        "id": "j5abhh-D_0Cq",
        "colab": {
          "base_uri": "https://localhost:8080/"
        },
        "outputId": "dab484f1-de56-458e-f322-d5ecaaddba8e"
      },
      "execution_count": 45,
      "outputs": [
        {
          "output_type": "stream",
          "name": "stdout",
          "text": [
            "\n",
            "نتایج مدل بهینه‌سازی شده با الگوریتم ژنتیک:\n",
            "+----------------------+------------+------------+-----------+\n",
            "| Model/Dataset        |   Accuracy |   F1-Score |   ROC AUC |\n",
            "+======================+============+============+===========+\n",
            "| Genetic - Train      |     0.3267 |     0.3041 |    0.7984 |\n",
            "+----------------------+------------+------------+-----------+\n",
            "| Genetic - Validation |     0.3301 |     0.3046 |    0.7930 |\n",
            "+----------------------+------------+------------+-----------+\n",
            "| Genetic - Test       |     0.3077 |     0.2880 |    0.7869 |\n",
            "+----------------------+------------+------------+-----------+\n",
            "\n",
            "نتایج مدل Wide & Deep:\n",
            "+--------------------------+------------+------------+-----------+\n",
            "| Model/Dataset            |   Accuracy |   F1-Score |   ROC AUC |\n",
            "+==========================+============+============+===========+\n",
            "| Wide & Deep - Train      |     0.5523 |     0.5476 |    0.9382 |\n",
            "+--------------------------+------------+------------+-----------+\n",
            "| Wide & Deep - Validation |     0.4685 |     0.4641 |    0.9137 |\n",
            "+--------------------------+------------+------------+-----------+\n",
            "| Wide & Deep - Test       |     0.4731 |     0.4689 |    0.9145 |\n",
            "+--------------------------+------------+------------+-----------+\n"
          ]
        }
      ]
    },
    {
      "cell_type": "code",
      "source": [],
      "metadata": {
        "id": "k3IjapRgdsvD"
      },
      "execution_count": null,
      "outputs": []
    }
  ]
}