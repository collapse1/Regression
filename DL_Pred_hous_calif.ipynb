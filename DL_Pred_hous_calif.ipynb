{
  "nbformat": 4,
  "nbformat_minor": 0,
  "metadata": {
    "colab": {
      "provenance": [],
      "authorship_tag": "ABX9TyMRo4R8oSu2k8FrBxJdSKDG",
      "include_colab_link": true
    },
    "kernelspec": {
      "name": "python3",
      "display_name": "Python 3"
    },
    "language_info": {
      "name": "python"
    }
  },
  "cells": [
    {
      "cell_type": "markdown",
      "metadata": {
        "id": "view-in-github",
        "colab_type": "text"
      },
      "source": [
        "<a href=\"https://colab.research.google.com/github/collapse1/Regression/blob/main/DL_Pred_hous_calif.ipynb\" target=\"_parent\"><img src=\"https://colab.research.google.com/assets/colab-badge.svg\" alt=\"Open In Colab\"/></a>"
      ]
    },
    {
      "cell_type": "code",
      "execution_count": 18,
      "metadata": {
        "id": "2XVEx2c6ftAQ"
      },
      "outputs": [],
      "source": [
        "import tensorflow as tf\n",
        "from tensorflow import keras\n",
        "from keras import layers\n",
        "from sklearn.datasets import fetch_california_housing\n",
        "from sklearn.model_selection import train_test_split\n",
        "from sklearn.preprocessing import StandardScaler\n",
        "import matplotlib.pyplot as plt\n"
      ]
    },
    {
      "cell_type": "markdown",
      "source": [
        "### Datasets"
      ],
      "metadata": {
        "id": "DFSwbvUckrBw"
      }
    },
    {
      "cell_type": "code",
      "source": [
        "cal_hous = fetch_california_housing()\n",
        "cal_hous"
      ],
      "metadata": {
        "colab": {
          "base_uri": "https://localhost:8080/"
        },
        "id": "lQF3bjkbgTHQ",
        "outputId": "c997f273-c203-406f-e71e-f935d3876f9e"
      },
      "execution_count": 6,
      "outputs": [
        {
          "output_type": "execute_result",
          "data": {
            "text/plain": [
              "{'data': array([[   8.3252    ,   41.        ,    6.98412698, ...,    2.55555556,\n",
              "           37.88      , -122.23      ],\n",
              "        [   8.3014    ,   21.        ,    6.23813708, ...,    2.10984183,\n",
              "           37.86      , -122.22      ],\n",
              "        [   7.2574    ,   52.        ,    8.28813559, ...,    2.80225989,\n",
              "           37.85      , -122.24      ],\n",
              "        ...,\n",
              "        [   1.7       ,   17.        ,    5.20554273, ...,    2.3256351 ,\n",
              "           39.43      , -121.22      ],\n",
              "        [   1.8672    ,   18.        ,    5.32951289, ...,    2.12320917,\n",
              "           39.43      , -121.32      ],\n",
              "        [   2.3886    ,   16.        ,    5.25471698, ...,    2.61698113,\n",
              "           39.37      , -121.24      ]]),\n",
              " 'target': array([4.526, 3.585, 3.521, ..., 0.923, 0.847, 0.894]),\n",
              " 'frame': None,\n",
              " 'target_names': ['MedHouseVal'],\n",
              " 'feature_names': ['MedInc',\n",
              "  'HouseAge',\n",
              "  'AveRooms',\n",
              "  'AveBedrms',\n",
              "  'Population',\n",
              "  'AveOccup',\n",
              "  'Latitude',\n",
              "  'Longitude'],\n",
              " 'DESCR': '.. _california_housing_dataset:\\n\\nCalifornia Housing dataset\\n--------------------------\\n\\n**Data Set Characteristics:**\\n\\n:Number of Instances: 20640\\n\\n:Number of Attributes: 8 numeric, predictive attributes and the target\\n\\n:Attribute Information:\\n    - MedInc        median income in block group\\n    - HouseAge      median house age in block group\\n    - AveRooms      average number of rooms per household\\n    - AveBedrms     average number of bedrooms per household\\n    - Population    block group population\\n    - AveOccup      average number of household members\\n    - Latitude      block group latitude\\n    - Longitude     block group longitude\\n\\n:Missing Attribute Values: None\\n\\nThis dataset was obtained from the StatLib repository.\\nhttps://www.dcc.fc.up.pt/~ltorgo/Regression/cal_housing.html\\n\\nThe target variable is the median house value for California districts,\\nexpressed in hundreds of thousands of dollars ($100,000).\\n\\nThis dataset was derived from the 1990 U.S. census, using one row per census\\nblock group. A block group is the smallest geographical unit for which the U.S.\\nCensus Bureau publishes sample data (a block group typically has a population\\nof 600 to 3,000 people).\\n\\nA household is a group of people residing within a home. Since the average\\nnumber of rooms and bedrooms in this dataset are provided per household, these\\ncolumns may take surprisingly large values for block groups with few households\\nand many empty houses, such as vacation resorts.\\n\\nIt can be downloaded/loaded using the\\n:func:`sklearn.datasets.fetch_california_housing` function.\\n\\n.. rubric:: References\\n\\n- Pace, R. Kelley and Ronald Barry, Sparse Spatial Autoregressions,\\n  Statistics and Probability Letters, 33 (1997) 291-297\\n'}"
            ]
          },
          "metadata": {},
          "execution_count": 6
        }
      ]
    },
    {
      "cell_type": "markdown",
      "source": [
        "### Train data and Test data"
      ],
      "metadata": {
        "id": "3601pXCNkyLx"
      }
    },
    {
      "cell_type": "code",
      "source": [
        "X_train0, X_test, y_train0, y_test = train_test_split(cal_hous[\"data\"], cal_hous[\"target\"])"
      ],
      "metadata": {
        "id": "EItqKD6HgkC8"
      },
      "execution_count": 7,
      "outputs": []
    },
    {
      "cell_type": "markdown",
      "source": [
        "### Now we need validation data from X_train0, y_train0"
      ],
      "metadata": {
        "id": "zAWCpvCWk6AI"
      }
    },
    {
      "cell_type": "code",
      "source": [
        "X_train1, X_validation, y_train1, y_validation = train_test_split(X_train0, y_train0)"
      ],
      "metadata": {
        "id": "wKwdrbK5g-or"
      },
      "execution_count": 8,
      "outputs": []
    },
    {
      "cell_type": "markdown",
      "source": [
        "### Normalize"
      ],
      "metadata": {
        "id": "WV1InmbFlE2h"
      }
    },
    {
      "cell_type": "code",
      "source": [
        "sc = StandardScaler()\n",
        "X_train_s = sc.fit_transform(X_train1)\n",
        "X_validation_s = sc.transform(X_validation)\n",
        "X_test_s = sc.transform(X_test)"
      ],
      "metadata": {
        "id": "Xv-SGZ17hOuD"
      },
      "execution_count": 9,
      "outputs": []
    },
    {
      "cell_type": "markdown",
      "source": [
        "# Model with 3 layers\n"
      ],
      "metadata": {
        "id": "hVN3QjnXlHov"
      }
    },
    {
      "cell_type": "code",
      "source": [
        "model = keras.Sequential([\n",
        "    keras.layers.Dense(66, activation = 'relu'),\n",
        "    keras.layers.Dense(22, activation = 'relu'),\n",
        "    keras.layers.Dense(1)\n",
        "])"
      ],
      "metadata": {
        "id": "60uXzL5Ih6LF"
      },
      "execution_count": 10,
      "outputs": []
    },
    {
      "cell_type": "markdown",
      "source": [
        "# Compile"
      ],
      "metadata": {
        "id": "z3cKuUMrlKoG"
      }
    },
    {
      "cell_type": "code",
      "source": [
        "model.compile(loss = 'mean_squared_error', optimizer = 'adam', metrics = ['mean_absolute_error'])"
      ],
      "metadata": {
        "id": "wYviGYovicsW"
      },
      "execution_count": 11,
      "outputs": []
    },
    {
      "cell_type": "markdown",
      "source": [
        "# Fit data"
      ],
      "metadata": {
        "id": "_-QCSKJglQiH"
      }
    },
    {
      "cell_type": "code",
      "source": [
        "model.fit(X_train_s, y_train1, epochs = 40, validation_data =[X_validation_s, y_validation])"
      ],
      "metadata": {
        "colab": {
          "base_uri": "https://localhost:8080/"
        },
        "id": "RrTJmbJQjPIt",
        "outputId": "2828e4cf-8bd3-4e6b-9c17-f6be5de78ae4"
      },
      "execution_count": 12,
      "outputs": [
        {
          "output_type": "stream",
          "name": "stdout",
          "text": [
            "Epoch 1/40\n",
            "\u001b[1m363/363\u001b[0m \u001b[32m━━━━━━━━━━━━━━━━━━━━\u001b[0m\u001b[37m\u001b[0m \u001b[1m3s\u001b[0m 3ms/step - loss: 1.8293 - mean_absolute_error: 0.9620 - val_loss: 0.4652 - val_mean_absolute_error: 0.4813\n",
            "Epoch 2/40\n",
            "\u001b[1m363/363\u001b[0m \u001b[32m━━━━━━━━━━━━━━━━━━━━\u001b[0m\u001b[37m\u001b[0m \u001b[1m1s\u001b[0m 2ms/step - loss: 0.4360 - mean_absolute_error: 0.4659 - val_loss: 0.3889 - val_mean_absolute_error: 0.4430\n",
            "Epoch 3/40\n",
            "\u001b[1m363/363\u001b[0m \u001b[32m━━━━━━━━━━━━━━━━━━━━\u001b[0m\u001b[37m\u001b[0m \u001b[1m1s\u001b[0m 3ms/step - loss: 0.4257 - mean_absolute_error: 0.4377 - val_loss: 0.3758 - val_mean_absolute_error: 0.4403\n",
            "Epoch 4/40\n",
            "\u001b[1m363/363\u001b[0m \u001b[32m━━━━━━━━━━━━━━━━━━━━\u001b[0m\u001b[37m\u001b[0m \u001b[1m1s\u001b[0m 3ms/step - loss: 0.3640 - mean_absolute_error: 0.4236 - val_loss: 0.3853 - val_mean_absolute_error: 0.4325\n",
            "Epoch 5/40\n",
            "\u001b[1m363/363\u001b[0m \u001b[32m━━━━━━━━━━━━━━━━━━━━\u001b[0m\u001b[37m\u001b[0m \u001b[1m1s\u001b[0m 3ms/step - loss: 0.3451 - mean_absolute_error: 0.4142 - val_loss: 0.3475 - val_mean_absolute_error: 0.4183\n",
            "Epoch 6/40\n",
            "\u001b[1m363/363\u001b[0m \u001b[32m━━━━━━━━━━━━━━━━━━━━\u001b[0m\u001b[37m\u001b[0m \u001b[1m1s\u001b[0m 2ms/step - loss: 0.3448 - mean_absolute_error: 0.4153 - val_loss: 0.3450 - val_mean_absolute_error: 0.4106\n",
            "Epoch 7/40\n",
            "\u001b[1m363/363\u001b[0m \u001b[32m━━━━━━━━━━━━━━━━━━━━\u001b[0m\u001b[37m\u001b[0m \u001b[1m1s\u001b[0m 3ms/step - loss: 0.3546 - mean_absolute_error: 0.4025 - val_loss: 0.3333 - val_mean_absolute_error: 0.4015\n",
            "Epoch 8/40\n",
            "\u001b[1m363/363\u001b[0m \u001b[32m━━━━━━━━━━━━━━━━━━━━\u001b[0m\u001b[37m\u001b[0m \u001b[1m1s\u001b[0m 3ms/step - loss: 0.3365 - mean_absolute_error: 0.4015 - val_loss: 0.3412 - val_mean_absolute_error: 0.4132\n",
            "Epoch 9/40\n",
            "\u001b[1m363/363\u001b[0m \u001b[32m━━━━━━━━━━━━━━━━━━━━\u001b[0m\u001b[37m\u001b[0m \u001b[1m1s\u001b[0m 2ms/step - loss: 0.2941 - mean_absolute_error: 0.3800 - val_loss: 0.3293 - val_mean_absolute_error: 0.3927\n",
            "Epoch 10/40\n",
            "\u001b[1m363/363\u001b[0m \u001b[32m━━━━━━━━━━━━━━━━━━━━\u001b[0m\u001b[37m\u001b[0m \u001b[1m2s\u001b[0m 4ms/step - loss: 0.3051 - mean_absolute_error: 0.3839 - val_loss: 0.3289 - val_mean_absolute_error: 0.3992\n",
            "Epoch 11/40\n",
            "\u001b[1m363/363\u001b[0m \u001b[32m━━━━━━━━━━━━━━━━━━━━\u001b[0m\u001b[37m\u001b[0m \u001b[1m2s\u001b[0m 3ms/step - loss: 0.3172 - mean_absolute_error: 0.3900 - val_loss: 0.3171 - val_mean_absolute_error: 0.3963\n",
            "Epoch 12/40\n",
            "\u001b[1m363/363\u001b[0m \u001b[32m━━━━━━━━━━━━━━━━━━━━\u001b[0m\u001b[37m\u001b[0m \u001b[1m1s\u001b[0m 2ms/step - loss: 0.2950 - mean_absolute_error: 0.3776 - val_loss: 0.3147 - val_mean_absolute_error: 0.3849\n",
            "Epoch 13/40\n",
            "\u001b[1m363/363\u001b[0m \u001b[32m━━━━━━━━━━━━━━━━━━━━\u001b[0m\u001b[37m\u001b[0m \u001b[1m1s\u001b[0m 2ms/step - loss: 0.2856 - mean_absolute_error: 0.3734 - val_loss: 0.3252 - val_mean_absolute_error: 0.3882\n",
            "Epoch 14/40\n",
            "\u001b[1m363/363\u001b[0m \u001b[32m━━━━━━━━━━━━━━━━━━━━\u001b[0m\u001b[37m\u001b[0m \u001b[1m1s\u001b[0m 3ms/step - loss: 0.2762 - mean_absolute_error: 0.3696 - val_loss: 0.3077 - val_mean_absolute_error: 0.3767\n",
            "Epoch 15/40\n",
            "\u001b[1m363/363\u001b[0m \u001b[32m━━━━━━━━━━━━━━━━━━━━\u001b[0m\u001b[37m\u001b[0m \u001b[1m1s\u001b[0m 2ms/step - loss: 0.3203 - mean_absolute_error: 0.3779 - val_loss: 0.3100 - val_mean_absolute_error: 0.3865\n",
            "Epoch 16/40\n",
            "\u001b[1m363/363\u001b[0m \u001b[32m━━━━━━━━━━━━━━━━━━━━\u001b[0m\u001b[37m\u001b[0m \u001b[1m1s\u001b[0m 3ms/step - loss: 0.3443 - mean_absolute_error: 0.3761 - val_loss: 0.3013 - val_mean_absolute_error: 0.3793\n",
            "Epoch 17/40\n",
            "\u001b[1m363/363\u001b[0m \u001b[32m━━━━━━━━━━━━━━━━━━━━\u001b[0m\u001b[37m\u001b[0m \u001b[1m1s\u001b[0m 2ms/step - loss: 0.2816 - mean_absolute_error: 0.3692 - val_loss: 0.3278 - val_mean_absolute_error: 0.3855\n",
            "Epoch 18/40\n",
            "\u001b[1m363/363\u001b[0m \u001b[32m━━━━━━━━━━━━━━━━━━━━\u001b[0m\u001b[37m\u001b[0m \u001b[1m1s\u001b[0m 3ms/step - loss: 0.2728 - mean_absolute_error: 0.3630 - val_loss: 0.3393 - val_mean_absolute_error: 0.3834\n",
            "Epoch 19/40\n",
            "\u001b[1m363/363\u001b[0m \u001b[32m━━━━━━━━━━━━━━━━━━━━\u001b[0m\u001b[37m\u001b[0m \u001b[1m1s\u001b[0m 3ms/step - loss: 0.2746 - mean_absolute_error: 0.3627 - val_loss: 0.3014 - val_mean_absolute_error: 0.3804\n",
            "Epoch 20/40\n",
            "\u001b[1m363/363\u001b[0m \u001b[32m━━━━━━━━━━━━━━━━━━━━\u001b[0m\u001b[37m\u001b[0m \u001b[1m2s\u001b[0m 3ms/step - loss: 0.2865 - mean_absolute_error: 0.3678 - val_loss: 0.3249 - val_mean_absolute_error: 0.3829\n",
            "Epoch 21/40\n",
            "\u001b[1m363/363\u001b[0m \u001b[32m━━━━━━━━━━━━━━━━━━━━\u001b[0m\u001b[37m\u001b[0m \u001b[1m2s\u001b[0m 3ms/step - loss: 0.2823 - mean_absolute_error: 0.3668 - val_loss: 0.3220 - val_mean_absolute_error: 0.3832\n",
            "Epoch 22/40\n",
            "\u001b[1m363/363\u001b[0m \u001b[32m━━━━━━━━━━━━━━━━━━━━\u001b[0m\u001b[37m\u001b[0m \u001b[1m1s\u001b[0m 2ms/step - loss: 0.2747 - mean_absolute_error: 0.3634 - val_loss: 0.2993 - val_mean_absolute_error: 0.3746\n",
            "Epoch 23/40\n",
            "\u001b[1m363/363\u001b[0m \u001b[32m━━━━━━━━━━━━━━━━━━━━\u001b[0m\u001b[37m\u001b[0m \u001b[1m1s\u001b[0m 2ms/step - loss: 0.2743 - mean_absolute_error: 0.3604 - val_loss: 0.2941 - val_mean_absolute_error: 0.3723\n",
            "Epoch 24/40\n",
            "\u001b[1m363/363\u001b[0m \u001b[32m━━━━━━━━━━━━━━━━━━━━\u001b[0m\u001b[37m\u001b[0m \u001b[1m1s\u001b[0m 2ms/step - loss: 0.2761 - mean_absolute_error: 0.3651 - val_loss: 0.2927 - val_mean_absolute_error: 0.3646\n",
            "Epoch 25/40\n",
            "\u001b[1m363/363\u001b[0m \u001b[32m━━━━━━━━━━━━━━━━━━━━\u001b[0m\u001b[37m\u001b[0m \u001b[1m1s\u001b[0m 3ms/step - loss: 0.2732 - mean_absolute_error: 0.3601 - val_loss: 0.2920 - val_mean_absolute_error: 0.3635\n",
            "Epoch 26/40\n",
            "\u001b[1m363/363\u001b[0m \u001b[32m━━━━━━━━━━━━━━━━━━━━\u001b[0m\u001b[37m\u001b[0m \u001b[1m1s\u001b[0m 3ms/step - loss: 0.2730 - mean_absolute_error: 0.3609 - val_loss: 0.2973 - val_mean_absolute_error: 0.3657\n",
            "Epoch 27/40\n",
            "\u001b[1m363/363\u001b[0m \u001b[32m━━━━━━━━━━━━━━━━━━━━\u001b[0m\u001b[37m\u001b[0m \u001b[1m1s\u001b[0m 2ms/step - loss: 0.2608 - mean_absolute_error: 0.3533 - val_loss: 0.3024 - val_mean_absolute_error: 0.3713\n",
            "Epoch 28/40\n",
            "\u001b[1m363/363\u001b[0m \u001b[32m━━━━━━━━━━━━━━━━━━━━\u001b[0m\u001b[37m\u001b[0m \u001b[1m1s\u001b[0m 3ms/step - loss: 0.2718 - mean_absolute_error: 0.3566 - val_loss: 0.2933 - val_mean_absolute_error: 0.3650\n",
            "Epoch 29/40\n",
            "\u001b[1m363/363\u001b[0m \u001b[32m━━━━━━━━━━━━━━━━━━━━\u001b[0m\u001b[37m\u001b[0m \u001b[1m1s\u001b[0m 4ms/step - loss: 0.2792 - mean_absolute_error: 0.3577 - val_loss: 0.3178 - val_mean_absolute_error: 0.3711\n",
            "Epoch 30/40\n",
            "\u001b[1m363/363\u001b[0m \u001b[32m━━━━━━━━━━━━━━━━━━━━\u001b[0m\u001b[37m\u001b[0m \u001b[1m2s\u001b[0m 2ms/step - loss: 0.2747 - mean_absolute_error: 0.3577 - val_loss: 0.3003 - val_mean_absolute_error: 0.3698\n",
            "Epoch 31/40\n",
            "\u001b[1m363/363\u001b[0m \u001b[32m━━━━━━━━━━━━━━━━━━━━\u001b[0m\u001b[37m\u001b[0m \u001b[1m1s\u001b[0m 3ms/step - loss: 0.2712 - mean_absolute_error: 0.3590 - val_loss: 0.2930 - val_mean_absolute_error: 0.3639\n",
            "Epoch 32/40\n",
            "\u001b[1m363/363\u001b[0m \u001b[32m━━━━━━━━━━━━━━━━━━━━\u001b[0m\u001b[37m\u001b[0m \u001b[1m1s\u001b[0m 3ms/step - loss: 0.2618 - mean_absolute_error: 0.3504 - val_loss: 0.2865 - val_mean_absolute_error: 0.3644\n",
            "Epoch 33/40\n",
            "\u001b[1m363/363\u001b[0m \u001b[32m━━━━━━━━━━━━━━━━━━━━\u001b[0m\u001b[37m\u001b[0m \u001b[1m1s\u001b[0m 3ms/step - loss: 0.2616 - mean_absolute_error: 0.3513 - val_loss: 0.2933 - val_mean_absolute_error: 0.3657\n",
            "Epoch 34/40\n",
            "\u001b[1m363/363\u001b[0m \u001b[32m━━━━━━━━━━━━━━━━━━━━\u001b[0m\u001b[37m\u001b[0m \u001b[1m1s\u001b[0m 3ms/step - loss: 0.2640 - mean_absolute_error: 0.3531 - val_loss: 0.3010 - val_mean_absolute_error: 0.3652\n",
            "Epoch 35/40\n",
            "\u001b[1m363/363\u001b[0m \u001b[32m━━━━━━━━━━━━━━━━━━━━\u001b[0m\u001b[37m\u001b[0m \u001b[1m1s\u001b[0m 2ms/step - loss: 0.2556 - mean_absolute_error: 0.3483 - val_loss: 0.3042 - val_mean_absolute_error: 0.3810\n",
            "Epoch 36/40\n",
            "\u001b[1m363/363\u001b[0m \u001b[32m━━━━━━━━━━━━━━━━━━━━\u001b[0m\u001b[37m\u001b[0m \u001b[1m1s\u001b[0m 2ms/step - loss: 0.2655 - mean_absolute_error: 0.3507 - val_loss: 0.2911 - val_mean_absolute_error: 0.3745\n",
            "Epoch 37/40\n",
            "\u001b[1m363/363\u001b[0m \u001b[32m━━━━━━━━━━━━━━━━━━━━\u001b[0m\u001b[37m\u001b[0m \u001b[1m1s\u001b[0m 3ms/step - loss: 0.2639 - mean_absolute_error: 0.3499 - val_loss: 0.2958 - val_mean_absolute_error: 0.3600\n",
            "Epoch 38/40\n",
            "\u001b[1m363/363\u001b[0m \u001b[32m━━━━━━━━━━━━━━━━━━━━\u001b[0m\u001b[37m\u001b[0m \u001b[1m2s\u001b[0m 3ms/step - loss: 0.2654 - mean_absolute_error: 0.3547 - val_loss: 0.2968 - val_mean_absolute_error: 0.3750\n",
            "Epoch 39/40\n",
            "\u001b[1m363/363\u001b[0m \u001b[32m━━━━━━━━━━━━━━━━━━━━\u001b[0m\u001b[37m\u001b[0m \u001b[1m2s\u001b[0m 2ms/step - loss: 0.2487 - mean_absolute_error: 0.3464 - val_loss: 0.3146 - val_mean_absolute_error: 0.3920\n",
            "Epoch 40/40\n",
            "\u001b[1m363/363\u001b[0m \u001b[32m━━━━━━━━━━━━━━━━━━━━\u001b[0m\u001b[37m\u001b[0m \u001b[1m1s\u001b[0m 2ms/step - loss: 0.2475 - mean_absolute_error: 0.3426 - val_loss: 0.2894 - val_mean_absolute_error: 0.3711\n"
          ]
        },
        {
          "output_type": "execute_result",
          "data": {
            "text/plain": [
              "<keras.src.callbacks.history.History at 0x7ba84fc3d650>"
            ]
          },
          "metadata": {},
          "execution_count": 12
        }
      ]
    },
    {
      "cell_type": "markdown",
      "source": [
        "## Model predict"
      ],
      "metadata": {
        "id": "1iOTbrZUlweZ"
      }
    },
    {
      "cell_type": "code",
      "source": [
        "model.evaluate(X_test_s, y_test, verbose = 0)"
      ],
      "metadata": {
        "colab": {
          "base_uri": "https://localhost:8080/"
        },
        "id": "Rp_96-zmj6lE",
        "outputId": "18f276f4-35fd-4f49-b856-d3e9d1889950"
      },
      "execution_count": 15,
      "outputs": [
        {
          "output_type": "execute_result",
          "data": {
            "text/plain": [
              "[0.29733121395111084, 0.3628806471824646]"
            ]
          },
          "metadata": {},
          "execution_count": 15
        }
      ]
    },
    {
      "cell_type": "code",
      "source": [
        "x1 = X_test[1:3]"
      ],
      "metadata": {
        "id": "H4u2GX46mBfT"
      },
      "execution_count": 22,
      "outputs": []
    },
    {
      "cell_type": "code",
      "source": [
        "model.predict(x1)"
      ],
      "metadata": {
        "colab": {
          "base_uri": "https://localhost:8080/"
        },
        "id": "PXfghR76mSux",
        "outputId": "22115ef9-2bfe-45a1-b37a-a7ce0bae7b69"
      },
      "execution_count": 23,
      "outputs": [
        {
          "output_type": "stream",
          "name": "stdout",
          "text": [
            "\u001b[1m1/1\u001b[0m \u001b[32m━━━━━━━━━━━━━━━━━━━━\u001b[0m\u001b[37m\u001b[0m \u001b[1m0s\u001b[0m 150ms/step\n"
          ]
        },
        {
          "output_type": "execute_result",
          "data": {
            "text/plain": [
              "array([[205.35574],\n",
              "       [217.38617]], dtype=float32)"
            ]
          },
          "metadata": {},
          "execution_count": 23
        }
      ]
    }
  ]
}