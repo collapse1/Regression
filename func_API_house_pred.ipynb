{
  "nbformat": 4,
  "nbformat_minor": 0,
  "metadata": {
    "colab": {
      "provenance": [],
      "authorship_tag": "ABX9TyPXFczc5sr2LkSrtfq4fJgf",
      "include_colab_link": true
    },
    "kernelspec": {
      "name": "python3",
      "display_name": "Python 3"
    },
    "language_info": {
      "name": "python"
    }
  },
  "cells": [
    {
      "cell_type": "markdown",
      "metadata": {
        "id": "view-in-github",
        "colab_type": "text"
      },
      "source": [
        "<a href=\"https://colab.research.google.com/github/collapse1/Regression/blob/main/func_API_house_pred.ipynb\" target=\"_parent\"><img src=\"https://colab.research.google.com/assets/colab-badge.svg\" alt=\"Open In Colab\"/></a>"
      ]
    },
    {
      "cell_type": "markdown",
      "source": [
        "## Import libraries"
      ],
      "metadata": {
        "id": "I9nT0y-tBGS_"
      }
    },
    {
      "cell_type": "code",
      "execution_count": 1,
      "metadata": {
        "id": "MHrBmtUcAVBb"
      },
      "outputs": [],
      "source": [
        "import tensorflow as tf\n",
        "from tensorflow import keras\n",
        "from keras import layers\n",
        "from sklearn.datasets import fetch_california_housing\n",
        "from sklearn.model_selection import train_test_split\n",
        "from sklearn.preprocessing import StandardScaler"
      ]
    },
    {
      "cell_type": "code",
      "source": [
        "house_calif = fetch_california_housing()"
      ],
      "metadata": {
        "id": "S7R04xtTA0d0"
      },
      "execution_count": 2,
      "outputs": []
    },
    {
      "cell_type": "code",
      "source": [
        "house_calif"
      ],
      "metadata": {
        "colab": {
          "base_uri": "https://localhost:8080/"
        },
        "id": "QcWIK4kHBiPS",
        "outputId": "886c41f2-e176-44b7-d200-086d7ca2ee29"
      },
      "execution_count": 3,
      "outputs": [
        {
          "output_type": "execute_result",
          "data": {
            "text/plain": [
              "{'data': array([[   8.3252    ,   41.        ,    6.98412698, ...,    2.55555556,\n",
              "           37.88      , -122.23      ],\n",
              "        [   8.3014    ,   21.        ,    6.23813708, ...,    2.10984183,\n",
              "           37.86      , -122.22      ],\n",
              "        [   7.2574    ,   52.        ,    8.28813559, ...,    2.80225989,\n",
              "           37.85      , -122.24      ],\n",
              "        ...,\n",
              "        [   1.7       ,   17.        ,    5.20554273, ...,    2.3256351 ,\n",
              "           39.43      , -121.22      ],\n",
              "        [   1.8672    ,   18.        ,    5.32951289, ...,    2.12320917,\n",
              "           39.43      , -121.32      ],\n",
              "        [   2.3886    ,   16.        ,    5.25471698, ...,    2.61698113,\n",
              "           39.37      , -121.24      ]]),\n",
              " 'target': array([4.526, 3.585, 3.521, ..., 0.923, 0.847, 0.894]),\n",
              " 'frame': None,\n",
              " 'target_names': ['MedHouseVal'],\n",
              " 'feature_names': ['MedInc',\n",
              "  'HouseAge',\n",
              "  'AveRooms',\n",
              "  'AveBedrms',\n",
              "  'Population',\n",
              "  'AveOccup',\n",
              "  'Latitude',\n",
              "  'Longitude'],\n",
              " 'DESCR': '.. _california_housing_dataset:\\n\\nCalifornia Housing dataset\\n--------------------------\\n\\n**Data Set Characteristics:**\\n\\n:Number of Instances: 20640\\n\\n:Number of Attributes: 8 numeric, predictive attributes and the target\\n\\n:Attribute Information:\\n    - MedInc        median income in block group\\n    - HouseAge      median house age in block group\\n    - AveRooms      average number of rooms per household\\n    - AveBedrms     average number of bedrooms per household\\n    - Population    block group population\\n    - AveOccup      average number of household members\\n    - Latitude      block group latitude\\n    - Longitude     block group longitude\\n\\n:Missing Attribute Values: None\\n\\nThis dataset was obtained from the StatLib repository.\\nhttps://www.dcc.fc.up.pt/~ltorgo/Regression/cal_housing.html\\n\\nThe target variable is the median house value for California districts,\\nexpressed in hundreds of thousands of dollars ($100,000).\\n\\nThis dataset was derived from the 1990 U.S. census, using one row per census\\nblock group. A block group is the smallest geographical unit for which the U.S.\\nCensus Bureau publishes sample data (a block group typically has a population\\nof 600 to 3,000 people).\\n\\nA household is a group of people residing within a home. Since the average\\nnumber of rooms and bedrooms in this dataset are provided per household, these\\ncolumns may take surprisingly large values for block groups with few households\\nand many empty houses, such as vacation resorts.\\n\\nIt can be downloaded/loaded using the\\n:func:`sklearn.datasets.fetch_california_housing` function.\\n\\n.. rubric:: References\\n\\n- Pace, R. Kelley and Ronald Barry, Sparse Spatial Autoregressions,\\n  Statistics and Probability Letters, 33 (1997) 291-297\\n'}"
            ]
          },
          "metadata": {},
          "execution_count": 3
        }
      ]
    },
    {
      "cell_type": "markdown",
      "source": [
        "### train and test data with [data],[target]"
      ],
      "metadata": {
        "id": "CHH_bsOVBvGe"
      }
    },
    {
      "cell_type": "code",
      "source": [
        "X_train0, X_test, y_train0, y_test = train_test_split(house_calif[\"data\"], house_calif[\"target\"])\n",
        "X_train1, X_validation, y_train1, y_validation = train_test_split(X_train0, y_train0)"
      ],
      "metadata": {
        "id": "p7pu47b5BrCY"
      },
      "execution_count": 4,
      "outputs": []
    },
    {
      "cell_type": "markdown",
      "source": [
        "### Normalize"
      ],
      "metadata": {
        "id": "iPmT-_wtCz7Q"
      }
    },
    {
      "cell_type": "code",
      "source": [
        "sc = StandardScaler()\n",
        "X_train1_s = sc.fit_transform(X_train1)\n",
        "X_validation_s = sc.transform(X_validation)\n",
        "X_test_s = sc.transform(X_test)"
      ],
      "metadata": {
        "id": "EDMs9tgmCNXZ"
      },
      "execution_count": 5,
      "outputs": []
    },
    {
      "cell_type": "markdown",
      "source": [
        "## Layers with 2 inputs and 2 outputs"
      ],
      "metadata": {
        "id": "x6f1ncHrJ9Tm"
      }
    },
    {
      "cell_type": "code",
      "source": [
        "input_1 = keras.layers.Input(shape = [6])\n",
        "input_2 = keras.layers.Input(shape = [3])\n",
        "hid_layer1 = keras.layers.Dense(40, activation='relu')(input_1)\n",
        "hid_layer2 = keras.layers.Dense(30, activation='relu')(hid_layer1)\n",
        "hid_layer3 = keras.layers.Dense(10, activation='relu')(hid_layer2)\n",
        "contac_layer = keras.layers.Concatenate()([input_2, hid_layer3])\n",
        "output_ = keras.layers.Dense(1)(contac_layer)\n",
        "helper_output = keras.layers.Dense(1)(hid_layer3)"
      ],
      "metadata": {
        "id": "v0TzTSCqDipg"
      },
      "execution_count": 6,
      "outputs": []
    },
    {
      "cell_type": "markdown",
      "source": [
        "## inputs with diffrent data from train,validation,test"
      ],
      "metadata": {
        "id": "PaoWksSEKCW8"
      }
    },
    {
      "cell_type": "code",
      "source": [
        "X_train1_s_1, X_train1_s_2 = X_train1_s[:,:6], X_train1_s[:,-3:]\n",
        "X_validation_s_1 , X_validation_s_2 = X_validation_s[:,:6], X_validation_s[:,-3:]\n",
        "X_test_s_1 , X_test_s_2 = X_test_s[:,:6], X_test_s[:,-3:]"
      ],
      "metadata": {
        "id": "oEUD4bTWE2NK"
      },
      "execution_count": 7,
      "outputs": []
    },
    {
      "cell_type": "markdown",
      "source": [
        "# MODEL"
      ],
      "metadata": {
        "id": "maxI9FAkKSRK"
      }
    },
    {
      "cell_type": "code",
      "source": [
        "model = keras.Model(inputs = [input_1,input_2], outputs = [output_, helper_output])"
      ],
      "metadata": {
        "id": "M43Kr2x7G_fX"
      },
      "execution_count": 8,
      "outputs": []
    },
    {
      "cell_type": "markdown",
      "source": [
        "# Compile"
      ],
      "metadata": {
        "id": "nh3hol4kKUWA"
      }
    },
    {
      "cell_type": "code",
      "source": [
        "model.compile(loss = ('mse','mse'), loss_weights= (0.9, 0.1), optimizer='sgd', metrics= ['mae','mae'])"
      ],
      "metadata": {
        "id": "GCBO0oaGHxlP"
      },
      "execution_count": 9,
      "outputs": []
    },
    {
      "cell_type": "markdown",
      "source": [
        "# FIT"
      ],
      "metadata": {
        "id": "Cwf2SmYCKWyj"
      }
    },
    {
      "cell_type": "code",
      "source": [
        "history = model.fit((X_train1_s_1, X_train1_s_2), (y_train1, y_train1), epochs=40, validation_data=((X_validation_s_1, X_validation_s_2), (y_validation, y_validation)))"
      ],
      "metadata": {
        "colab": {
          "base_uri": "https://localhost:8080/"
        },
        "id": "-rwtK-P0IdJv",
        "outputId": "1e2fdc38-9b05-46ce-e9c2-71017d004d86"
      },
      "execution_count": 10,
      "outputs": [
        {
          "output_type": "stream",
          "name": "stdout",
          "text": [
            "Epoch 1/40\n",
            "\u001b[1m363/363\u001b[0m \u001b[32m━━━━━━━━━━━━━━━━━━━━\u001b[0m\u001b[37m\u001b[0m \u001b[1m3s\u001b[0m 4ms/step - dense_3_loss: 2.4543 - dense_3_mae: 1.0469 - dense_4_loss: 2.8327 - dense_4_mae: 1.2843 - loss: 2.4922 - val_dense_3_loss: 4.5643 - val_dense_3_mae: 0.5937 - val_dense_4_loss: 6.6542 - val_dense_4_mae: 0.7096 - val_loss: 4.7755\n",
            "Epoch 2/40\n",
            "\u001b[1m363/363\u001b[0m \u001b[32m━━━━━━━━━━━━━━━━━━━━\u001b[0m\u001b[37m\u001b[0m \u001b[1m1s\u001b[0m 3ms/step - dense_3_loss: 52.0200 - dense_3_mae: 0.9248 - dense_4_loss: 26.8952 - dense_4_mae: 1.2876 - loss: 49.5076 - val_dense_3_loss: 2.2349 - val_dense_3_mae: 0.7655 - val_dense_4_loss: 1.7772 - val_dense_4_mae: 0.9596 - val_loss: 2.1898\n",
            "Epoch 3/40\n",
            "\u001b[1m363/363\u001b[0m \u001b[32m━━━━━━━━━━━━━━━━━━━━\u001b[0m\u001b[37m\u001b[0m \u001b[1m1s\u001b[0m 3ms/step - dense_3_loss: 2.1058 - dense_3_mae: 0.8081 - dense_4_loss: 1.7105 - dense_4_mae: 0.9352 - loss: 2.0663 - val_dense_3_loss: 1.2115 - val_dense_3_mae: 0.7744 - val_dense_4_loss: 1.3997 - val_dense_4_mae: 0.8743 - val_loss: 1.2305\n",
            "Epoch 4/40\n",
            "\u001b[1m363/363\u001b[0m \u001b[32m━━━━━━━━━━━━━━━━━━━━\u001b[0m\u001b[37m\u001b[0m \u001b[1m1s\u001b[0m 3ms/step - dense_3_loss: 1.0866 - dense_3_mae: 0.8022 - dense_4_loss: 1.4649 - dense_4_mae: 0.8993 - loss: 1.1244 - val_dense_3_loss: 1.0042 - val_dense_3_mae: 0.7437 - val_dense_4_loss: 1.3130 - val_dense_4_mae: 0.8741 - val_loss: 1.0351\n",
            "Epoch 5/40\n",
            "\u001b[1m363/363\u001b[0m \u001b[32m━━━━━━━━━━━━━━━━━━━━\u001b[0m\u001b[37m\u001b[0m \u001b[1m1s\u001b[0m 3ms/step - dense_3_loss: 1.0435 - dense_3_mae: 0.7755 - dense_4_loss: 1.3726 - dense_4_mae: 0.8958 - loss: 1.0764 - val_dense_3_loss: 0.9598 - val_dense_3_mae: 0.7595 - val_dense_4_loss: 1.2917 - val_dense_4_mae: 0.8833 - val_loss: 0.9930\n",
            "Epoch 6/40\n",
            "\u001b[1m363/363\u001b[0m \u001b[32m━━━━━━━━━━━━━━━━━━━━\u001b[0m\u001b[37m\u001b[0m \u001b[1m1s\u001b[0m 3ms/step - dense_3_loss: 1.0312 - dense_3_mae: 0.7843 - dense_4_loss: 1.3569 - dense_4_mae: 0.9095 - loss: 1.0638 - val_dense_3_loss: 0.9544 - val_dense_3_mae: 0.7542 - val_dense_4_loss: 1.2865 - val_dense_4_mae: 0.8893 - val_loss: 0.9877\n",
            "Epoch 7/40\n",
            "\u001b[1m363/363\u001b[0m \u001b[32m━━━━━━━━━━━━━━━━━━━━\u001b[0m\u001b[37m\u001b[0m \u001b[1m1s\u001b[0m 3ms/step - dense_3_loss: 1.0248 - dense_3_mae: 0.7752 - dense_4_loss: 1.3419 - dense_4_mae: 0.9095 - loss: 1.0565 - val_dense_3_loss: 0.9558 - val_dense_3_mae: 0.7480 - val_dense_4_loss: 1.2823 - val_dense_4_mae: 0.8912 - val_loss: 0.9886\n",
            "Epoch 8/40\n",
            "\u001b[1m363/363\u001b[0m \u001b[32m━━━━━━━━━━━━━━━━━━━━\u001b[0m\u001b[37m\u001b[0m \u001b[1m1s\u001b[0m 3ms/step - dense_3_loss: 0.9887 - dense_3_mae: 0.7624 - dense_4_loss: 1.2851 - dense_4_mae: 0.8973 - loss: 1.0183 - val_dense_3_loss: 0.7891 - val_dense_3_mae: 0.7030 - val_dense_4_loss: 1.0455 - val_dense_4_mae: 0.8279 - val_loss: 0.8148\n",
            "Epoch 9/40\n",
            "\u001b[1m363/363\u001b[0m \u001b[32m━━━━━━━━━━━━━━━━━━━━\u001b[0m\u001b[37m\u001b[0m \u001b[1m2s\u001b[0m 4ms/step - dense_3_loss: 0.6856 - dense_3_mae: 0.6432 - dense_4_loss: 0.9550 - dense_4_mae: 0.7970 - loss: 0.7125 - val_dense_3_loss: 0.5068 - val_dense_3_mae: 0.5230 - val_dense_4_loss: 0.7582 - val_dense_4_mae: 0.7013 - val_loss: 0.5320\n",
            "Epoch 10/40\n",
            "\u001b[1m363/363\u001b[0m \u001b[32m━━━━━━━━━━━━━━━━━━━━\u001b[0m\u001b[37m\u001b[0m \u001b[1m2s\u001b[0m 3ms/step - dense_3_loss: 0.5741 - dense_3_mae: 0.5514 - dense_4_loss: 0.8284 - dense_4_mae: 0.7239 - loss: 0.5995 - val_dense_3_loss: 0.5147 - val_dense_3_mae: 0.5122 - val_dense_4_loss: 0.6929 - val_dense_4_mae: 0.6419 - val_loss: 0.5326\n",
            "Epoch 11/40\n",
            "\u001b[1m363/363\u001b[0m \u001b[32m━━━━━━━━━━━━━━━━━━━━\u001b[0m\u001b[37m\u001b[0m \u001b[1m1s\u001b[0m 3ms/step - dense_3_loss: 0.4883 - dense_3_mae: 0.5106 - dense_4_loss: 0.7037 - dense_4_mae: 0.6578 - loss: 0.5098 - val_dense_3_loss: 0.5382 - val_dense_3_mae: 0.5149 - val_dense_4_loss: 0.6787 - val_dense_4_mae: 0.6178 - val_loss: 0.5524\n",
            "Epoch 12/40\n",
            "\u001b[1m363/363\u001b[0m \u001b[32m━━━━━━━━━━━━━━━━━━━━\u001b[0m\u001b[37m\u001b[0m \u001b[1m1s\u001b[0m 3ms/step - dense_3_loss: 0.4662 - dense_3_mae: 0.4976 - dense_4_loss: 0.6511 - dense_4_mae: 0.6230 - loss: 0.4847 - val_dense_3_loss: 0.4201 - val_dense_3_mae: 0.4798 - val_dense_4_loss: 0.5982 - val_dense_4_mae: 0.6060 - val_loss: 0.4380\n",
            "Epoch 13/40\n",
            "\u001b[1m363/363\u001b[0m \u001b[32m━━━━━━━━━━━━━━━━━━━━\u001b[0m\u001b[37m\u001b[0m \u001b[1m1s\u001b[0m 3ms/step - dense_3_loss: 0.4499 - dense_3_mae: 0.4875 - dense_4_loss: 0.6062 - dense_4_mae: 0.6016 - loss: 0.4656 - val_dense_3_loss: 0.4166 - val_dense_3_mae: 0.4675 - val_dense_4_loss: 0.5604 - val_dense_4_mae: 0.5710 - val_loss: 0.4311\n",
            "Epoch 14/40\n",
            "\u001b[1m363/363\u001b[0m \u001b[32m━━━━━━━━━━━━━━━━━━━━\u001b[0m\u001b[37m\u001b[0m \u001b[1m1s\u001b[0m 3ms/step - dense_3_loss: 0.4479 - dense_3_mae: 0.4883 - dense_4_loss: 0.5964 - dense_4_mae: 0.5871 - loss: 0.4627 - val_dense_3_loss: 0.4092 - val_dense_3_mae: 0.4636 - val_dense_4_loss: 0.5337 - val_dense_4_mae: 0.5574 - val_loss: 0.4217\n",
            "Epoch 15/40\n",
            "\u001b[1m363/363\u001b[0m \u001b[32m━━━━━━━━━━━━━━━━━━━━\u001b[0m\u001b[37m\u001b[0m \u001b[1m1s\u001b[0m 3ms/step - dense_3_loss: 0.4385 - dense_3_mae: 0.4779 - dense_4_loss: 0.5717 - dense_4_mae: 0.5738 - loss: 0.4518 - val_dense_3_loss: 0.4010 - val_dense_3_mae: 0.4596 - val_dense_4_loss: 0.5250 - val_dense_4_mae: 0.5476 - val_loss: 0.4135\n",
            "Epoch 16/40\n",
            "\u001b[1m363/363\u001b[0m \u001b[32m━━━━━━━━━━━━━━━━━━━━\u001b[0m\u001b[37m\u001b[0m \u001b[1m1s\u001b[0m 3ms/step - dense_3_loss: 0.4121 - dense_3_mae: 0.4719 - dense_4_loss: 0.5350 - dense_4_mae: 0.5544 - loss: 0.4244 - val_dense_3_loss: 0.4067 - val_dense_3_mae: 0.4618 - val_dense_4_loss: 0.5127 - val_dense_4_mae: 0.5399 - val_loss: 0.4174\n",
            "Epoch 17/40\n",
            "\u001b[1m363/363\u001b[0m \u001b[32m━━━━━━━━━━━━━━━━━━━━\u001b[0m\u001b[37m\u001b[0m \u001b[1m1s\u001b[0m 3ms/step - dense_3_loss: 0.4139 - dense_3_mae: 0.4739 - dense_4_loss: 0.5267 - dense_4_mae: 0.5498 - loss: 0.4252 - val_dense_3_loss: 0.3957 - val_dense_3_mae: 0.4665 - val_dense_4_loss: 0.5147 - val_dense_4_mae: 0.5489 - val_loss: 0.4077\n",
            "Epoch 18/40\n",
            "\u001b[1m363/363\u001b[0m \u001b[32m━━━━━━━━━━━━━━━━━━━━\u001b[0m\u001b[37m\u001b[0m \u001b[1m2s\u001b[0m 4ms/step - dense_3_loss: 0.4157 - dense_3_mae: 0.4700 - dense_4_loss: 0.5339 - dense_4_mae: 0.5439 - loss: 0.4275 - val_dense_3_loss: 0.3946 - val_dense_3_mae: 0.4598 - val_dense_4_loss: 0.4949 - val_dense_4_mae: 0.5272 - val_loss: 0.4047\n",
            "Epoch 19/40\n",
            "\u001b[1m363/363\u001b[0m \u001b[32m━━━━━━━━━━━━━━━━━━━━\u001b[0m\u001b[37m\u001b[0m \u001b[1m2s\u001b[0m 3ms/step - dense_3_loss: 0.4130 - dense_3_mae: 0.4704 - dense_4_loss: 0.5250 - dense_4_mae: 0.5427 - loss: 0.4242 - val_dense_3_loss: 0.4079 - val_dense_3_mae: 0.4556 - val_dense_4_loss: 0.5083 - val_dense_4_mae: 0.5278 - val_loss: 0.4180\n",
            "Epoch 20/40\n",
            "\u001b[1m363/363\u001b[0m \u001b[32m━━━━━━━━━━━━━━━━━━━━\u001b[0m\u001b[37m\u001b[0m \u001b[1m1s\u001b[0m 3ms/step - dense_3_loss: 0.3928 - dense_3_mae: 0.4579 - dense_4_loss: 0.5099 - dense_4_mae: 0.5348 - loss: 0.4045 - val_dense_3_loss: 0.3803 - val_dense_3_mae: 0.4497 - val_dense_4_loss: 0.4928 - val_dense_4_mae: 0.5298 - val_loss: 0.3916\n",
            "Epoch 21/40\n",
            "\u001b[1m363/363\u001b[0m \u001b[32m━━━━━━━━━━━━━━━━━━━━\u001b[0m\u001b[37m\u001b[0m \u001b[1m1s\u001b[0m 3ms/step - dense_3_loss: 0.4162 - dense_3_mae: 0.4604 - dense_4_loss: 0.5078 - dense_4_mae: 0.5347 - loss: 0.4253 - val_dense_3_loss: 0.3900 - val_dense_3_mae: 0.4508 - val_dense_4_loss: 0.4966 - val_dense_4_mae: 0.5209 - val_loss: 0.4007\n",
            "Epoch 22/40\n",
            "\u001b[1m363/363\u001b[0m \u001b[32m━━━━━━━━━━━━━━━━━━━━\u001b[0m\u001b[37m\u001b[0m \u001b[1m1s\u001b[0m 3ms/step - dense_3_loss: 0.3969 - dense_3_mae: 0.4605 - dense_4_loss: 0.5094 - dense_4_mae: 0.5333 - loss: 0.4081 - val_dense_3_loss: 0.4219 - val_dense_3_mae: 0.4769 - val_dense_4_loss: 0.5017 - val_dense_4_mae: 0.5425 - val_loss: 0.4300\n",
            "Epoch 23/40\n",
            "\u001b[1m363/363\u001b[0m \u001b[32m━━━━━━━━━━━━━━━━━━━━\u001b[0m\u001b[37m\u001b[0m \u001b[1m1s\u001b[0m 3ms/step - dense_3_loss: 0.4127 - dense_3_mae: 0.4632 - dense_4_loss: 0.5058 - dense_4_mae: 0.5319 - loss: 0.4220 - val_dense_3_loss: 0.3821 - val_dense_3_mae: 0.4542 - val_dense_4_loss: 0.4689 - val_dense_4_mae: 0.5123 - val_loss: 0.3909\n",
            "Epoch 24/40\n",
            "\u001b[1m363/363\u001b[0m \u001b[32m━━━━━━━━━━━━━━━━━━━━\u001b[0m\u001b[37m\u001b[0m \u001b[1m1s\u001b[0m 3ms/step - dense_3_loss: 0.3865 - dense_3_mae: 0.4543 - dense_4_loss: 0.4826 - dense_4_mae: 0.5225 - loss: 0.3961 - val_dense_3_loss: 0.4008 - val_dense_3_mae: 0.4693 - val_dense_4_loss: 0.5044 - val_dense_4_mae: 0.5438 - val_loss: 0.4112\n",
            "Epoch 25/40\n",
            "\u001b[1m363/363\u001b[0m \u001b[32m━━━━━━━━━━━━━━━━━━━━\u001b[0m\u001b[37m\u001b[0m \u001b[1m1s\u001b[0m 3ms/step - dense_3_loss: 0.3810 - dense_3_mae: 0.4493 - dense_4_loss: 0.4884 - dense_4_mae: 0.5231 - loss: 0.3918 - val_dense_3_loss: 0.3815 - val_dense_3_mae: 0.4433 - val_dense_4_loss: 0.4858 - val_dense_4_mae: 0.5115 - val_loss: 0.3920\n",
            "Epoch 26/40\n",
            "\u001b[1m363/363\u001b[0m \u001b[32m━━━━━━━━━━━━━━━━━━━━\u001b[0m\u001b[37m\u001b[0m \u001b[1m1s\u001b[0m 3ms/step - dense_3_loss: 0.3976 - dense_3_mae: 0.4566 - dense_4_loss: 0.5069 - dense_4_mae: 0.5273 - loss: 0.4085 - val_dense_3_loss: 0.3835 - val_dense_3_mae: 0.4552 - val_dense_4_loss: 0.4783 - val_dense_4_mae: 0.5236 - val_loss: 0.3930\n",
            "Epoch 27/40\n",
            "\u001b[1m363/363\u001b[0m \u001b[32m━━━━━━━━━━━━━━━━━━━━\u001b[0m\u001b[37m\u001b[0m \u001b[1m2s\u001b[0m 5ms/step - dense_3_loss: 0.3964 - dense_3_mae: 0.4493 - dense_4_loss: 0.4807 - dense_4_mae: 0.5171 - loss: 0.4048 - val_dense_3_loss: 0.3633 - val_dense_3_mae: 0.4385 - val_dense_4_loss: 0.4670 - val_dense_4_mae: 0.5107 - val_loss: 0.3737\n",
            "Epoch 28/40\n",
            "\u001b[1m363/363\u001b[0m \u001b[32m━━━━━━━━━━━━━━━━━━━━\u001b[0m\u001b[37m\u001b[0m \u001b[1m2s\u001b[0m 3ms/step - dense_3_loss: 0.3818 - dense_3_mae: 0.4499 - dense_4_loss: 0.4966 - dense_4_mae: 0.5250 - loss: 0.3932 - val_dense_3_loss: 0.3816 - val_dense_3_mae: 0.4418 - val_dense_4_loss: 0.4684 - val_dense_4_mae: 0.5177 - val_loss: 0.3904\n",
            "Epoch 29/40\n",
            "\u001b[1m363/363\u001b[0m \u001b[32m━━━━━━━━━━━━━━━━━━━━\u001b[0m\u001b[37m\u001b[0m \u001b[1m1s\u001b[0m 3ms/step - dense_3_loss: 0.5218 - dense_3_mae: 0.4528 - dense_4_loss: 0.4721 - dense_4_mae: 0.5149 - loss: 0.5168 - val_dense_3_loss: 0.8756 - val_dense_3_mae: 0.4613 - val_dense_4_loss: 0.4718 - val_dense_4_mae: 0.5189 - val_loss: 0.8356\n",
            "Epoch 30/40\n",
            "\u001b[1m363/363\u001b[0m \u001b[32m━━━━━━━━━━━━━━━━━━━━\u001b[0m\u001b[37m\u001b[0m \u001b[1m1s\u001b[0m 3ms/step - dense_3_loss: 1.2739 - dense_3_mae: 0.4711 - dense_4_loss: 0.4809 - dense_4_mae: 0.5135 - loss: 1.1946 - val_dense_3_loss: 0.4595 - val_dense_3_mae: 0.4603 - val_dense_4_loss: 0.4732 - val_dense_4_mae: 0.5073 - val_loss: 0.4610\n",
            "Epoch 31/40\n",
            "\u001b[1m363/363\u001b[0m \u001b[32m━━━━━━━━━━━━━━━━━━━━\u001b[0m\u001b[37m\u001b[0m \u001b[1m1s\u001b[0m 3ms/step - dense_3_loss: 0.3807 - dense_3_mae: 0.4507 - dense_4_loss: 0.4679 - dense_4_mae: 0.5095 - loss: 0.3894 - val_dense_3_loss: 0.3609 - val_dense_3_mae: 0.4343 - val_dense_4_loss: 0.4697 - val_dense_4_mae: 0.5057 - val_loss: 0.3718\n",
            "Epoch 32/40\n",
            "\u001b[1m363/363\u001b[0m \u001b[32m━━━━━━━━━━━━━━━━━━━━\u001b[0m\u001b[37m\u001b[0m \u001b[1m1s\u001b[0m 3ms/step - dense_3_loss: 0.3641 - dense_3_mae: 0.4424 - dense_4_loss: 0.4726 - dense_4_mae: 0.5163 - loss: 0.3750 - val_dense_3_loss: 0.3763 - val_dense_3_mae: 0.4413 - val_dense_4_loss: 0.4584 - val_dense_4_mae: 0.5052 - val_loss: 0.3846\n",
            "Epoch 33/40\n",
            "\u001b[1m363/363\u001b[0m \u001b[32m━━━━━━━━━━━━━━━━━━━━\u001b[0m\u001b[37m\u001b[0m \u001b[1m1s\u001b[0m 3ms/step - dense_3_loss: 0.3972 - dense_3_mae: 0.4509 - dense_4_loss: 0.4853 - dense_4_mae: 0.5192 - loss: 0.4060 - val_dense_3_loss: 0.3634 - val_dense_3_mae: 0.4362 - val_dense_4_loss: 0.4581 - val_dense_4_mae: 0.5043 - val_loss: 0.3729\n",
            "Epoch 34/40\n",
            "\u001b[1m363/363\u001b[0m \u001b[32m━━━━━━━━━━━━━━━━━━━━\u001b[0m\u001b[37m\u001b[0m \u001b[1m1s\u001b[0m 3ms/step - dense_3_loss: 0.3964 - dense_3_mae: 0.4508 - dense_4_loss: 0.5128 - dense_4_mae: 0.5254 - loss: 0.4080 - val_dense_3_loss: 0.3738 - val_dense_3_mae: 0.4328 - val_dense_4_loss: 0.4624 - val_dense_4_mae: 0.4979 - val_loss: 0.3828\n",
            "Epoch 35/40\n",
            "\u001b[1m363/363\u001b[0m \u001b[32m━━━━━━━━━━━━━━━━━━━━\u001b[0m\u001b[37m\u001b[0m \u001b[1m1s\u001b[0m 3ms/step - dense_3_loss: 0.3819 - dense_3_mae: 0.4366 - dense_4_loss: 0.4600 - dense_4_mae: 0.5035 - loss: 0.3897 - val_dense_3_loss: 0.3558 - val_dense_3_mae: 0.4284 - val_dense_4_loss: 0.4542 - val_dense_4_mae: 0.5012 - val_loss: 0.3657\n",
            "Epoch 36/40\n",
            "\u001b[1m363/363\u001b[0m \u001b[32m━━━━━━━━━━━━━━━━━━━━\u001b[0m\u001b[37m\u001b[0m \u001b[1m2s\u001b[0m 4ms/step - dense_3_loss: 0.3642 - dense_3_mae: 0.4378 - dense_4_loss: 0.4693 - dense_4_mae: 0.5127 - loss: 0.3747 - val_dense_3_loss: 0.3733 - val_dense_3_mae: 0.4283 - val_dense_4_loss: 0.4576 - val_dense_4_mae: 0.5039 - val_loss: 0.3818\n",
            "Epoch 37/40\n",
            "\u001b[1m363/363\u001b[0m \u001b[32m━━━━━━━━━━━━━━━━━━━━\u001b[0m\u001b[37m\u001b[0m \u001b[1m2s\u001b[0m 3ms/step - dense_3_loss: 0.3620 - dense_3_mae: 0.4337 - dense_4_loss: 0.4573 - dense_4_mae: 0.5051 - loss: 0.3715 - val_dense_3_loss: 0.3589 - val_dense_3_mae: 0.4333 - val_dense_4_loss: 0.4525 - val_dense_4_mae: 0.5044 - val_loss: 0.3683\n",
            "Epoch 38/40\n",
            "\u001b[1m363/363\u001b[0m \u001b[32m━━━━━━━━━━━━━━━━━━━━\u001b[0m\u001b[37m\u001b[0m \u001b[1m1s\u001b[0m 3ms/step - dense_3_loss: 0.3744 - dense_3_mae: 0.4429 - dense_4_loss: 0.4697 - dense_4_mae: 0.5132 - loss: 0.3839 - val_dense_3_loss: 0.3564 - val_dense_3_mae: 0.4315 - val_dense_4_loss: 0.4622 - val_dense_4_mae: 0.5148 - val_loss: 0.3671\n",
            "Epoch 39/40\n",
            "\u001b[1m363/363\u001b[0m \u001b[32m━━━━━━━━━━━━━━━━━━━━\u001b[0m\u001b[37m\u001b[0m \u001b[1m1s\u001b[0m 3ms/step - dense_3_loss: 0.3419 - dense_3_mae: 0.4270 - dense_4_loss: 0.4429 - dense_4_mae: 0.4998 - loss: 0.3520 - val_dense_3_loss: 0.3766 - val_dense_3_mae: 0.4291 - val_dense_4_loss: 0.4440 - val_dense_4_mae: 0.4950 - val_loss: 0.3834\n",
            "Epoch 40/40\n",
            "\u001b[1m363/363\u001b[0m \u001b[32m━━━━━━━━━━━━━━━━━━━━\u001b[0m\u001b[37m\u001b[0m \u001b[1m1s\u001b[0m 3ms/step - dense_3_loss: 0.3679 - dense_3_mae: 0.4376 - dense_4_loss: 0.4563 - dense_4_mae: 0.5054 - loss: 0.3767 - val_dense_3_loss: 0.3681 - val_dense_3_mae: 0.4289 - val_dense_4_loss: 0.4631 - val_dense_4_mae: 0.4963 - val_loss: 0.3777\n"
          ]
        }
      ]
    },
    {
      "cell_type": "code",
      "source": [
        "model.evaluate((X_test_s_1, X_test_s_2),(y_test ,y_test), verbose= 0)"
      ],
      "metadata": {
        "colab": {
          "base_uri": "https://localhost:8080/"
        },
        "id": "X90EbQTjMx_Y",
        "outputId": "7e150a13-cbea-4a4b-9025-534d20a4b209"
      },
      "execution_count": 24,
      "outputs": [
        {
          "output_type": "execute_result",
          "data": {
            "text/plain": [
              "[0.3939003050327301,\n",
              " 0.3860473036766052,\n",
              " 0.48419806361198425,\n",
              " 0.43725407123565674,\n",
              " 0.5042800307273865]"
            ]
          },
          "metadata": {},
          "execution_count": 24
        }
      ]
    },
    {
      "cell_type": "code",
      "source": [
        "x1 = X_test_s_1[1:3], X_test_s_2[1:3]\n",
        "model.predict(x1)"
      ],
      "metadata": {
        "colab": {
          "base_uri": "https://localhost:8080/"
        },
        "id": "7FopaBjxOeJs",
        "outputId": "bc87ef18-14e5-4cf5-f91d-f7322927a3fe"
      },
      "execution_count": 28,
      "outputs": [
        {
          "output_type": "stream",
          "name": "stdout",
          "text": [
            "\u001b[1m1/1\u001b[0m \u001b[32m━━━━━━━━━━━━━━━━━━━━\u001b[0m\u001b[37m\u001b[0m \u001b[1m0s\u001b[0m 89ms/step\n"
          ]
        },
        {
          "output_type": "execute_result",
          "data": {
            "text/plain": [
              "[array([[1.8441892],\n",
              "        [1.7104417]], dtype=float32),\n",
              " array([[1.7227422],\n",
              "        [1.3659025]], dtype=float32)]"
            ]
          },
          "metadata": {},
          "execution_count": 28
        }
      ]
    },
    {
      "cell_type": "code",
      "source": [
        "y_test[1:3]"
      ],
      "metadata": {
        "colab": {
          "base_uri": "https://localhost:8080/"
        },
        "id": "O8t0ynsJO0rE",
        "outputId": "4baf2ea9-d096-477c-8c22-87ca2d4ade23"
      },
      "execution_count": 29,
      "outputs": [
        {
          "output_type": "execute_result",
          "data": {
            "text/plain": [
              "array([1.845, 1.369])"
            ]
          },
          "metadata": {},
          "execution_count": 29
        }
      ]
    },
    {
      "cell_type": "code",
      "source": [],
      "metadata": {
        "id": "OfTGIJ_vPHVr"
      },
      "execution_count": null,
      "outputs": []
    }
  ]
}